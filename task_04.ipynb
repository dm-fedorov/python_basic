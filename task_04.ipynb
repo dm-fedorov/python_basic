{
 "cells": [
  {
   "cell_type": "markdown",
   "metadata": {},
   "source": [
    "# Задания для самостоятельного выполнения (блок 4, строковые методы, списки, графики)"
   ]
  },
  {
   "cell_type": "markdown",
   "metadata": {},
   "source": [
    "<a href=\"https://colab.research.google.com/github/dm-fedorov/python_basic/blob/master/task_04.ipynb\" target=\"_blank\"><img align=\"left\" src=\"https://colab.research.google.com/assets/colab-badge.svg\" alt=\"Open in Colab\" title=\"Open and Execute in Google Colaboratory\"></a>"
   ]
  },
  {
   "cell_type": "markdown",
   "metadata": {},
   "source": [
    "## Задание 1\n",
    "\n",
    "Дан список станций метро:\n",
    "\n",
    "    line = [\"Автово\", \"Кировский завод\", \"Нарвская\", \"Балтийская\",  \"Технологический институт 1\", \"Пушкинская\", \"Владимирская\", \"Площадь Восстания\"]\n",
    "\n",
    "Предположим, что движение происходит от `Автово` до `Площади Восстания`.\n",
    "\n",
    "Напишите программу, которая запрашивает у пользователя название текущей станции метро и выводит на экран сообщение вида:\n",
    "\n",
    "    Следующая станция: станция\n",
    "    \n",
    "Считайте, что пользователь знает, какая станция конечная, и не будет запрашивать станцию, следующую после `Площади Восстания`.\n",
    "\n",
    "**Пример**\n",
    "\n",
    "    Входные данные:\n",
    "\n",
    "    Введите текущую станцию: Балтийская\n",
    "\n",
    "    Выходные данные:\n",
    "\n",
    "    Следующая станция: Технологический институт 1"
   ]
  },
  {
   "cell_type": "code",
   "execution_count": null,
   "metadata": {},
   "outputs": [],
   "source": [
    "# здесь решение"
   ]
  },
  {
   "cell_type": "markdown",
   "metadata": {},
   "source": [
    "## Задание 2\n",
    "\n",
    "Задан список слов. Необходимо выбрать из него случайное. Из выбранного случайного слова случайно выбрать букву и попросить пользователя ее угадать.\n",
    "\n",
    "    Задан список слов: [‘самовар’, ‘весна’, ‘лето’]\n",
    "    Выбираем случайное слово: ‘весна’\n",
    "    Выбираем случайную букву: ‘с’\n",
    "    Выводим на экран: ве?на\n",
    "    Пользователь пытается угадать букву.\n",
    "\n",
    "Пример выполнения программы:\n",
    "```\n",
    ">>> \n",
    "самова?\n",
    "Введите букву:н\n",
    "Увы! Попробуйте в другой раз.\n",
    "Слово: самовар\n",
    ">>> \n",
    "л?то\n",
    "Введите букву:е\n",
    "Победа!\n",
    "Слово: лето\n",
    ">>> \n",
    "```\n"
   ]
  },
  {
   "cell_type": "code",
   "execution_count": 1,
   "metadata": {},
   "outputs": [],
   "source": [
    "# здесь решение"
   ]
  },
  {
   "cell_type": "markdown",
   "metadata": {},
   "source": [
    "## Задание 3\n",
    "\n",
    "Напишите программу, которая запрашивает у пользователя номер мобильного телефона, введенный через дефис, а возвращает номер, записанный без дефисов и пробелов.\n",
    "\n",
    "Входные данные:\n",
    "    \n",
    "    8-900-123-45-67\n",
    "\n",
    "Выходные данные:\n",
    "\n",
    "    89001234567"
   ]
  },
  {
   "cell_type": "code",
   "execution_count": null,
   "metadata": {},
   "outputs": [],
   "source": [
    "# здесь решение"
   ]
  },
  {
   "cell_type": "markdown",
   "metadata": {},
   "source": [
    "## Задание 4\n",
    "\n",
    "Вручную постройте линейный график температуры в Санкт-Петербурге. Добавьте заголовок, описательные метки на оси, сетку.\n",
    "\n",
    "PS. позже мы научимся собирать данные автоматически."
   ]
  },
  {
   "cell_type": "code",
   "execution_count": null,
   "metadata": {},
   "outputs": [],
   "source": [
    "# здесь решение"
   ]
  },
  {
   "cell_type": "markdown",
   "metadata": {},
   "source": [
    "## Задание 5\n",
    "\n",
    "С помощью модуля wikipedia определите, сколько ссылок на вики-странице о России."
   ]
  },
  {
   "cell_type": "code",
   "execution_count": null,
   "metadata": {},
   "outputs": [],
   "source": [
    "# здесь решение"
   ]
  }
 ],
 "metadata": {
  "kernelspec": {
   "display_name": "Python 3",
   "language": "python",
   "name": "python3"
  },
  "language_info": {
   "codemirror_mode": {
    "name": "ipython",
    "version": 3
   },
   "file_extension": ".py",
   "mimetype": "text/x-python",
   "name": "python",
   "nbconvert_exporter": "python",
   "pygments_lexer": "ipython3",
   "version": "3.8.3"
  },
  "widgets": {
   "application/vnd.jupyter.widget-state+json": {
    "state": {},
    "version_major": 2,
    "version_minor": 0
   }
  }
 },
 "nbformat": 4,
 "nbformat_minor": 4
}
