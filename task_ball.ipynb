{
 "cells": [
  {
   "cell_type": "markdown",
   "metadata": {},
   "source": [
    "### Упражнение \"Волшебный шар\"\n",
    "\n",
    "Напишите программу, которая моделирует игру, предсказывающую будущее: дает случайный ответ на общий вопрос, требующий ответа \"да\" или \"нет\". \n",
    "\n",
    "Файл с ответами [по ссылке](https://raw.githubusercontent.com/dm-fedorov/python_basic/master/data/responses.txt). \n",
    "\n",
    "Программа должна предложить пользователю задать вопрос и затем показать один из ответов, отобранных из файла случайным образом. "
   ]
  },
  {
   "cell_type": "code",
   "execution_count": null,
   "metadata": {},
   "outputs": [],
   "source": []
  }
 ],
 "metadata": {
  "kernelspec": {
   "display_name": "Python 3",
   "language": "python",
   "name": "python3"
  },
  "language_info": {
   "codemirror_mode": {
    "name": "ipython",
    "version": 3
   },
   "file_extension": ".py",
   "mimetype": "text/x-python",
   "name": "python",
   "nbconvert_exporter": "python",
   "pygments_lexer": "ipython3",
   "version": "3.8.3"
  }
 },
 "nbformat": 4,
 "nbformat_minor": 4
}
