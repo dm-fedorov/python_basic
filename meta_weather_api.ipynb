{
 "cells": [
  {
   "cell_type": "markdown",
   "metadata": {},
   "source": [
    "[MetaWeather](https://www.metaweather.com) - это автоматический агрегатор данных о погоде, который принимает прогнозы погоды от различных прогнозистов и вычисляет наиболее вероятный результат.\n",
    "\n",
    "Идея состоит в том, что объединенные знания прогнозистов произведут лучшее предсказание.\n",
    "\n",
    "**История**\n",
    "\n",
    "Я (Джейсон) собрался на свадьбу друга, которая была частично на улице в непредсказуемой Великобритании. При проверке прогноза погоды я задавался вопросом, должен ли я проверить другого прогнозиста, чтобы увидеть, что он предсказал. Этот процесс привел меня к проверке некоторых сайтов. Пара плохо написанных PHP-скриптов, неуклюжая база данных MySQL и несколько часов спустя я перебирал данные о погоде с нескольких сайтов.\n",
    "\n",
    "Я приступил к созданию внешнего интерфейса и с тех пор собрал около миллиарда точек прогнозов и данных наблюдений по состоянию на начало 2017 года. \n",
    "\n",
    "Далее пример работы с API сайта:"
   ]
  },
  {
   "cell_type": "code",
   "execution_count": 1,
   "metadata": {},
   "outputs": [],
   "source": [
    "import requests\n",
    "from pprint import pprint as pp"
   ]
  },
  {
   "cell_type": "markdown",
   "metadata": {},
   "source": [
    "Пример получения прогноза погоды в Санкт-Петербурге на 24.09.2019\n",
    "\n",
    "Для начала узнаем ID города:"
   ]
  },
  {
   "cell_type": "code",
   "execution_count": 2,
   "metadata": {},
   "outputs": [],
   "source": [
    "json_city = requests.get(\"https://www.metaweather.com/api/location/search/?query=St Petersburg\").json()"
   ]
  },
  {
   "cell_type": "code",
   "execution_count": 3,
   "metadata": {},
   "outputs": [
    {
     "name": "stdout",
     "output_type": "stream",
     "text": [
      "[{'latt_long': '59.932739,30.306721',\n",
      "  'location_type': 'City',\n",
      "  'title': 'St Petersburg',\n",
      "  'woeid': 2123260}]\n"
     ]
    }
   ],
   "source": [
    "pp(json_city)"
   ]
  },
  {
   "cell_type": "code",
   "execution_count": 4,
   "metadata": {},
   "outputs": [],
   "source": [
    "ident = json_city[0][\"woeid\"]"
   ]
  },
  {
   "cell_type": "code",
   "execution_count": 5,
   "metadata": {},
   "outputs": [
    {
     "name": "stdout",
     "output_type": "stream",
     "text": [
      "2123260\n"
     ]
    }
   ],
   "source": [
    "print(ident)"
   ]
  },
  {
   "cell_type": "markdown",
   "metadata": {},
   "source": [
    "Запрос погоды для определенного дня возвращает историю прогноза, т.е. каким образом менялся прогноз за несколько дней.   \n",
    "Поле predictability показывает вероятность прогноза."
   ]
  },
  {
   "cell_type": "code",
   "execution_count": 15,
   "metadata": {
    "scrolled": true
   },
   "outputs": [
    {
     "name": "stdout",
     "output_type": "stream",
     "text": [
      "[{'air_pressure': 1012.77,\n",
      "  'applicable_date': '2019-10-01',\n",
      "  'created': '2019-09-23T16:20:31.520758Z',\n",
      "  'humidity': 73,\n",
      "  'id': 6389716553302016,\n",
      "  'max_temp': 29.47,\n",
      "  'min_temp': 25.67,\n",
      "  'predictability': 77,\n",
      "  'the_temp': 28.57,\n",
      "  'visibility': None,\n",
      "  'weather_state_abbr': 'hr',\n",
      "  'weather_state_name': 'Heavy Rain',\n",
      "  'wind_direction': 35.0,\n",
      "  'wind_direction_compass': 'NE',\n",
      "  'wind_speed': 3.753082001113497},\n",
      " {'air_pressure': 1016.01,\n",
      "  'applicable_date': '2019-10-01',\n",
      "  'created': '2019-09-23T13:20:31.449122Z',\n",
      "  'humidity': 73,\n",
      "  'id': 6065720947376128,\n",
      "  'max_temp': 28.65,\n",
      "  'min_temp': 25.44,\n",
      "  'predictability': 77,\n",
      "  'the_temp': 27.94,\n",
      "  'visibility': None,\n",
      "  'weather_state_abbr': 'hr',\n",
      "  'weather_state_name': 'Heavy Rain',\n",
      "  'wind_direction': 11.0,\n",
      "  'wind_direction_compass': 'N',\n",
      "  'wind_speed': 3.2746261830907497},\n",
      " {'air_pressure': 1016.01,\n",
      "  'applicable_date': '2019-10-01',\n",
      "  'created': '2019-09-23T10:20:32.237921Z',\n",
      "  'humidity': 73,\n",
      "  'id': 5576226527772672,\n",
      "  'max_temp': 28.65,\n",
      "  'min_temp': 25.44,\n",
      "  'predictability': 77,\n",
      "  'the_temp': 27.94,\n",
      "  'visibility': None,\n",
      "  'weather_state_abbr': 'hr',\n",
      "  'weather_state_name': 'Heavy Rain',\n",
      "  'wind_direction': 11.0,\n",
      "  'wind_direction_compass': 'N',\n",
      "  'wind_speed': 3.2746261830907497}]\n"
     ]
    }
   ],
   "source": [
    "pp(requests.get(\"https://www.metaweather.com/api/location/\"+ str(ident)+\"/2019/10/1/\").json()[:3])"
   ]
  },
  {
   "cell_type": "markdown",
   "metadata": {},
   "source": [
    "Данные на сайте собираются из разных источников. Можно посмотреть такие параметры, как атмосферное давление, максимальная и минимальная температура, скорость ветра, влажность, видимость и вероятность (предсказуемость) данного прогноза."
   ]
  },
  {
   "cell_type": "code",
   "execution_count": null,
   "metadata": {},
   "outputs": [],
   "source": []
  }
 ],
 "metadata": {
  "kernelspec": {
   "display_name": "Python 3",
   "language": "python",
   "name": "python3"
  },
  "language_info": {
   "codemirror_mode": {
    "name": "ipython",
    "version": 3
   },
   "file_extension": ".py",
   "mimetype": "text/x-python",
   "name": "python",
   "nbconvert_exporter": "python",
   "pygments_lexer": "ipython3",
   "version": "3.8.3"
  }
 },
 "nbformat": 4,
 "nbformat_minor": 4
}
