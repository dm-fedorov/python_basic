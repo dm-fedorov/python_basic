{
 "cells": [
  {
   "cell_type": "markdown",
   "metadata": {},
   "source": [
    "[MetaWeather](https://www.metaweather.com) - это автоматический агрегатор данных о погоде, который принимает прогнозы погоды от различных прогнозистов и вычисляет наиболее вероятный результат.\n",
    "\n",
    "Идея состоит в том, что объединенные знания прогнозистов произведут лучшее предсказание.\n",
    "\n",
    "**История**\n",
    "\n",
    "Я (Джейсон) собрался на свадьбу друга, которая была частично на улице в непредсказуемой Великобритании. При проверке прогноза погоды я задавался вопросом, должен ли я проверить другого прогнозиста, чтобы увидеть, что он предсказал. Этот процесс привел меня к проверке некоторых сайтов. Пара плохо написанных PHP-скриптов, неуклюжая база данных MySQL и несколько часов спустя я перебирал данные о погоде с нескольких сайтов.\n",
    "\n",
    "Я приступил к созданию внешнего интерфейса и с тех пор собрал около миллиарда точек прогнозов и данных наблюдений по состоянию на начало 2017 года. \n",
    "\n",
    "Далее пример работы с API сайта:"
   ]
  },
  {
   "cell_type": "code",
   "execution_count": 1,
   "metadata": {},
   "outputs": [],
   "source": [
    "import requests\n",
    "import pandas as pd\n",
    "from pprint import pprint as pp"
   ]
  },
  {
   "cell_type": "markdown",
   "metadata": {},
   "source": [
    "Пример получения прогноза погоды в Санкт-Петербурге на 24.09.2019\n",
    "\n",
    "Для начала узнаем ID города:"
   ]
  },
  {
   "cell_type": "code",
   "execution_count": 2,
   "metadata": {},
   "outputs": [],
   "source": [
    "json_city = requests.get(\"https://www.metaweather.com/api/location/search/?query=St Petersburg\").json()"
   ]
  },
  {
   "cell_type": "code",
   "execution_count": 3,
   "metadata": {},
   "outputs": [
    {
     "name": "stdout",
     "output_type": "stream",
     "text": [
      "[{'latt_long': '59.932739,30.306721',\n",
      "  'location_type': 'City',\n",
      "  'title': 'St Petersburg',\n",
      "  'woeid': 2123260}]\n"
     ]
    }
   ],
   "source": [
    "pp(json_city)"
   ]
  },
  {
   "cell_type": "code",
   "execution_count": 4,
   "metadata": {},
   "outputs": [],
   "source": [
    "ident = json_city[0][\"woeid\"]"
   ]
  },
  {
   "cell_type": "code",
   "execution_count": 5,
   "metadata": {},
   "outputs": [
    {
     "name": "stdout",
     "output_type": "stream",
     "text": [
      "2123260\n"
     ]
    }
   ],
   "source": [
    "print(ident)"
   ]
  },
  {
   "cell_type": "markdown",
   "metadata": {},
   "source": [
    "Запрос погоды для определенного дня возвращает историю прогноза, т.е. каким образом менялся прогноз за несколько дней.   \n",
    "Поле predictability показывает вероятность прогноза."
   ]
  },
  {
   "cell_type": "code",
   "execution_count": 15,
   "metadata": {},
   "outputs": [
    {
     "name": "stdout",
     "output_type": "stream",
     "text": [
      "[{'air_pressure': 1012.77,\n",
      "  'applicable_date': '2019-10-01',\n",
      "  'created': '2019-09-23T16:20:31.520758Z',\n",
      "  'humidity': 73,\n",
      "  'id': 6389716553302016,\n",
      "  'max_temp': 29.47,\n",
      "  'min_temp': 25.67,\n",
      "  'predictability': 77,\n",
      "  'the_temp': 28.57,\n",
      "  'visibility': None,\n",
      "  'weather_state_abbr': 'hr',\n",
      "  'weather_state_name': 'Heavy Rain',\n",
      "  'wind_direction': 35.0,\n",
      "  'wind_direction_compass': 'NE',\n",
      "  'wind_speed': 3.753082001113497},\n",
      " {'air_pressure': 1016.01,\n",
      "  'applicable_date': '2019-10-01',\n",
      "  'created': '2019-09-23T13:20:31.449122Z',\n",
      "  'humidity': 73,\n",
      "  'id': 6065720947376128,\n",
      "  'max_temp': 28.65,\n",
      "  'min_temp': 25.44,\n",
      "  'predictability': 77,\n",
      "  'the_temp': 27.94,\n",
      "  'visibility': None,\n",
      "  'weather_state_abbr': 'hr',\n",
      "  'weather_state_name': 'Heavy Rain',\n",
      "  'wind_direction': 11.0,\n",
      "  'wind_direction_compass': 'N',\n",
      "  'wind_speed': 3.2746261830907497},\n",
      " {'air_pressure': 1016.01,\n",
      "  'applicable_date': '2019-10-01',\n",
      "  'created': '2019-09-23T10:20:32.237921Z',\n",
      "  'humidity': 73,\n",
      "  'id': 5576226527772672,\n",
      "  'max_temp': 28.65,\n",
      "  'min_temp': 25.44,\n",
      "  'predictability': 77,\n",
      "  'the_temp': 27.94,\n",
      "  'visibility': None,\n",
      "  'weather_state_abbr': 'hr',\n",
      "  'weather_state_name': 'Heavy Rain',\n",
      "  'wind_direction': 11.0,\n",
      "  'wind_direction_compass': 'N',\n",
      "  'wind_speed': 3.2746261830907497}]\n"
     ]
    }
   ],
   "source": [
    "pp(requests.get(\"https://www.metaweather.com/api/location/\"+ str(ident)+\"/2019/10/1/\").json()[:3])"
   ]
  },
  {
   "cell_type": "markdown",
   "metadata": {},
   "source": [
    "Данные на сайте собираются из разных источников. Можно посмотреть такие параметры, как атмосферное давление, максимальная и минимальная температура, скорость ветра, влажность, видимость и вероятность (предсказуемость) данного прогноза."
   ]
  },
  {
   "cell_type": "code",
   "execution_count": 8,
   "metadata": {},
   "outputs": [
    {
     "data": {
      "text/html": [
       "<div>\n",
       "<style scoped>\n",
       "    .dataframe tbody tr th:only-of-type {\n",
       "        vertical-align: middle;\n",
       "    }\n",
       "\n",
       "    .dataframe tbody tr th {\n",
       "        vertical-align: top;\n",
       "    }\n",
       "\n",
       "    .dataframe thead th {\n",
       "        text-align: right;\n",
       "    }\n",
       "</style>\n",
       "<table border=\"1\" class=\"dataframe\">\n",
       "  <thead>\n",
       "    <tr style=\"text-align: right;\">\n",
       "      <th></th>\n",
       "      <th>id</th>\n",
       "      <th>weather_state_name</th>\n",
       "      <th>weather_state_abbr</th>\n",
       "      <th>wind_direction_compass</th>\n",
       "      <th>created</th>\n",
       "      <th>applicable_date</th>\n",
       "      <th>min_temp</th>\n",
       "      <th>max_temp</th>\n",
       "      <th>the_temp</th>\n",
       "      <th>wind_speed</th>\n",
       "      <th>wind_direction</th>\n",
       "      <th>air_pressure</th>\n",
       "      <th>humidity</th>\n",
       "      <th>visibility</th>\n",
       "      <th>predictability</th>\n",
       "    </tr>\n",
       "  </thead>\n",
       "  <tbody>\n",
       "    <tr>\n",
       "      <td>0</td>\n",
       "      <td>6545140363558912</td>\n",
       "      <td>Light Cloud</td>\n",
       "      <td>lc</td>\n",
       "      <td>NW</td>\n",
       "      <td>2019-09-23T16:20:10.803705Z</td>\n",
       "      <td>2019-09-24</td>\n",
       "      <td>13.460</td>\n",
       "      <td>18.440</td>\n",
       "      <td>17.110</td>\n",
       "      <td>3.983397</td>\n",
       "      <td>323.670990</td>\n",
       "      <td>1016.04</td>\n",
       "      <td>59</td>\n",
       "      <td>18.363694</td>\n",
       "      <td>70</td>\n",
       "    </tr>\n",
       "    <tr>\n",
       "      <td>1</td>\n",
       "      <td>4995509586493440</td>\n",
       "      <td>Light Cloud</td>\n",
       "      <td>lc</td>\n",
       "      <td>NNW</td>\n",
       "      <td>2019-09-23T13:20:10.411647Z</td>\n",
       "      <td>2019-09-24</td>\n",
       "      <td>11.375</td>\n",
       "      <td>18.595</td>\n",
       "      <td>16.635</td>\n",
       "      <td>4.368234</td>\n",
       "      <td>337.111178</td>\n",
       "      <td>1017.79</td>\n",
       "      <td>58</td>\n",
       "      <td>17.889898</td>\n",
       "      <td>70</td>\n",
       "    </tr>\n",
       "    <tr>\n",
       "      <td>2</td>\n",
       "      <td>6386484271644672</td>\n",
       "      <td>Light Cloud</td>\n",
       "      <td>lc</td>\n",
       "      <td>NNW</td>\n",
       "      <td>2019-09-23T10:20:10.711931Z</td>\n",
       "      <td>2019-09-24</td>\n",
       "      <td>11.910</td>\n",
       "      <td>18.820</td>\n",
       "      <td>16.720</td>\n",
       "      <td>4.293146</td>\n",
       "      <td>335.673576</td>\n",
       "      <td>1017.79</td>\n",
       "      <td>59</td>\n",
       "      <td>15.479910</td>\n",
       "      <td>70</td>\n",
       "    </tr>\n",
       "    <tr>\n",
       "      <td>3</td>\n",
       "      <td>5963812429627392</td>\n",
       "      <td>Light Cloud</td>\n",
       "      <td>lc</td>\n",
       "      <td>NNW</td>\n",
       "      <td>2019-09-23T07:20:11.317879Z</td>\n",
       "      <td>2019-09-24</td>\n",
       "      <td>13.255</td>\n",
       "      <td>18.875</td>\n",
       "      <td>17.435</td>\n",
       "      <td>4.187927</td>\n",
       "      <td>334.482304</td>\n",
       "      <td>1017.71</td>\n",
       "      <td>61</td>\n",
       "      <td>16.779197</td>\n",
       "      <td>70</td>\n",
       "    </tr>\n",
       "    <tr>\n",
       "      <td>4</td>\n",
       "      <td>5633515838242816</td>\n",
       "      <td>Light Cloud</td>\n",
       "      <td>lc</td>\n",
       "      <td>NNW</td>\n",
       "      <td>2019-09-23T04:20:10.729248Z</td>\n",
       "      <td>2019-09-24</td>\n",
       "      <td>13.255</td>\n",
       "      <td>18.875</td>\n",
       "      <td>17.420</td>\n",
       "      <td>4.173015</td>\n",
       "      <td>334.482304</td>\n",
       "      <td>1017.21</td>\n",
       "      <td>61</td>\n",
       "      <td>17.477929</td>\n",
       "      <td>70</td>\n",
       "    </tr>\n",
       "  </tbody>\n",
       "</table>\n",
       "</div>"
      ],
      "text/plain": [
       "                 id weather_state_name weather_state_abbr  \\\n",
       "0  6545140363558912        Light Cloud                 lc   \n",
       "1  4995509586493440        Light Cloud                 lc   \n",
       "2  6386484271644672        Light Cloud                 lc   \n",
       "3  5963812429627392        Light Cloud                 lc   \n",
       "4  5633515838242816        Light Cloud                 lc   \n",
       "\n",
       "  wind_direction_compass                      created applicable_date  \\\n",
       "0                     NW  2019-09-23T16:20:10.803705Z      2019-09-24   \n",
       "1                    NNW  2019-09-23T13:20:10.411647Z      2019-09-24   \n",
       "2                    NNW  2019-09-23T10:20:10.711931Z      2019-09-24   \n",
       "3                    NNW  2019-09-23T07:20:11.317879Z      2019-09-24   \n",
       "4                    NNW  2019-09-23T04:20:10.729248Z      2019-09-24   \n",
       "\n",
       "   min_temp  max_temp  the_temp  wind_speed  wind_direction  air_pressure  \\\n",
       "0    13.460    18.440    17.110    3.983397      323.670990       1016.04   \n",
       "1    11.375    18.595    16.635    4.368234      337.111178       1017.79   \n",
       "2    11.910    18.820    16.720    4.293146      335.673576       1017.79   \n",
       "3    13.255    18.875    17.435    4.187927      334.482304       1017.71   \n",
       "4    13.255    18.875    17.420    4.173015      334.482304       1017.21   \n",
       "\n",
       "   humidity  visibility  predictability  \n",
       "0        59   18.363694              70  \n",
       "1        58   17.889898              70  \n",
       "2        59   15.479910              70  \n",
       "3        61   16.779197              70  \n",
       "4        61   17.477929              70  "
      ]
     },
     "execution_count": 8,
     "metadata": {},
     "output_type": "execute_result"
    }
   ],
   "source": [
    "pd.DataFrame(requests.get(\"https://www.metaweather.com/api/location/\"+ str(ident)+\"/2019/9/24/\").json()).head()"
   ]
  },
  {
   "cell_type": "markdown",
   "metadata": {},
   "source": [
    "## Задание"
   ]
  },
  {
   "cell_type": "markdown",
   "metadata": {},
   "source": [
    "Определите c помощью возможностей модуля *pandas* для города Санкт-Петербург в период с 24 по 27 сентября среднюю наиболее вероятную минимальную температуру."
   ]
  },
  {
   "cell_type": "code",
   "execution_count": null,
   "metadata": {},
   "outputs": [],
   "source": []
  }
 ],
 "metadata": {
  "kernelspec": {
   "display_name": "Python 3",
   "language": "python",
   "name": "python3"
  },
  "language_info": {
   "codemirror_mode": {
    "name": "ipython",
    "version": 3
   },
   "file_extension": ".py",
   "mimetype": "text/x-python",
   "name": "python",
   "nbconvert_exporter": "python",
   "pygments_lexer": "ipython3",
   "version": "3.7.3"
  }
 },
 "nbformat": 4,
 "nbformat_minor": 2
}
