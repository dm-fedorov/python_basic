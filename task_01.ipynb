{
 "cells": [
  {
   "cell_type": "markdown",
   "metadata": {},
   "source": [
    "# Задания для самостоятельного выполнения (блок 1, до условных выражений)"
   ]
  },
  {
   "cell_type": "markdown",
   "metadata": {},
   "source": [
    "<a href=\"https://colab.research.google.com/github/dm-fedorov/python_basic/blob/master/task_01.ipynb\" target=\"_blank\"><img align=\"left\" src=\"https://colab.research.google.com/assets/colab-badge.svg\" alt=\"Open in Colab\" title=\"Open and Execute in Google Colaboratory\"></a>"
   ]
  },
  {
   "cell_type": "markdown",
   "metadata": {},
   "source": [
    "## Задание 1\n",
    "\n",
    "Напишите программу, запрашивающую у пользователя длину и ширину комнаты. После ввода значений должен быть произведен расчет площади комнаты и выведен на экран. Длина и ширина комнаты долдны вводиться в формате числа с плавающей точкой. "
   ]
  },
  {
   "cell_type": "code",
   "execution_count": null,
   "metadata": {},
   "outputs": [],
   "source": [
    "# здесь решение"
   ]
  },
  {
   "cell_type": "markdown",
   "metadata": {},
   "source": [
    "## Задание 2\n",
    "\n",
    "Программа начинается с запроса у пользователя суммы заказа в ресторане. После этого должен быть произведен расчет чаевых официанту. В качестве чаевых можно использовать 18% от стоимости заказа.\n",
    "На выходе программа должна отобразить сумму чаевых. Округлите числа до двух знаков после запятой."
   ]
  },
  {
   "cell_type": "code",
   "execution_count": null,
   "metadata": {},
   "outputs": [],
   "source": [
    "# здесь решение"
   ]
  },
  {
   "cell_type": "markdown",
   "metadata": {},
   "source": [
    "## Задание 3\n",
    "\n",
    "Напишите программу, которая будет запрашивать у пользователя радиус. После этого она должна вычислять площадь круга и объем шара."
   ]
  },
  {
   "cell_type": "code",
   "execution_count": null,
   "metadata": {},
   "outputs": [],
   "source": [
    "# здесь решение"
   ]
  },
  {
   "cell_type": "markdown",
   "metadata": {},
   "source": [
    "## Задание 4\n",
    "\n",
    "Напишите программу, в которой пользователь будет задавать радиус цилиндра и его высоту, а в ответ получать его объем, округленный до одного знака после запятой. "
   ]
  },
  {
   "cell_type": "code",
   "execution_count": null,
   "metadata": {},
   "outputs": [],
   "source": [
    "# здесь решение"
   ]
  },
  {
   "cell_type": "markdown",
   "metadata": {},
   "source": [
    "## Задание 5\n",
    "\n",
    "Напишите программу, которая будет запрашивать у пользователя значение температуры в градусах Цельсия и отображать по шкалам Фаренгейта и Кельвина."
   ]
  },
  {
   "cell_type": "code",
   "execution_count": null,
   "metadata": {},
   "outputs": [],
   "source": [
    "# здесь решение"
   ]
  },
  {
   "cell_type": "markdown",
   "metadata": {},
   "source": [
    "## Задание 6\n",
    "\n",
    "Напишите в отдельном файле программу, которая запрашивает с клавиатуры два целых числа `a` и `b` и выводит на экран строку следующего вида (с подставленными значениями на месте квадратных скобок):\n",
    "\n",
    "`[a] в степени [b] равно [значение 1], [b] в степени [a] равно [значение 2]`\n",
    "\n",
    "**Примеры:**\n",
    "\n",
    "*Входные данные*\n",
    "\n",
    "`2`\n",
    "\n",
    "`3`\n",
    "\n",
    "*Выходные данные*\n",
    "\n",
    "`2 в степени 3 равно 8, 3 в степени 2 равно 9`\n",
    "\n",
    "*Входные данные*\n",
    "\n",
    "`4`\n",
    "\n",
    "`3`\n",
    "\n",
    "*Выходные данные*\n",
    "\n",
    "`4 в степени 3 равно 64, 3 в степени 4 равно 81`"
   ]
  },
  {
   "cell_type": "code",
   "execution_count": null,
   "metadata": {},
   "outputs": [],
   "source": [
    "# здесь решение"
   ]
  },
  {
   "cell_type": "code",
   "execution_count": null,
   "metadata": {},
   "outputs": [],
   "source": []
  }
 ],
 "metadata": {
  "kernelspec": {
   "display_name": "Python 3",
   "language": "python",
   "name": "python3"
  },
  "language_info": {
   "codemirror_mode": {
    "name": "ipython",
    "version": 3
   },
   "file_extension": ".py",
   "mimetype": "text/x-python",
   "name": "python",
   "nbconvert_exporter": "python",
   "pygments_lexer": "ipython3",
   "version": "3.8.3"
  },
  "widgets": {
   "application/vnd.jupyter.widget-state+json": {
    "state": {},
    "version_major": 2,
    "version_minor": 0
   }
  }
 },
 "nbformat": 4,
 "nbformat_minor": 4
}
