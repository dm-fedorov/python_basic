{
 "cells": [
  {
   "cell_type": "markdown",
   "metadata": {},
   "source": [
    "### Упражнение \"Цены на бензин\"\n",
    "\n",
    "Файл [gas_prices.txt](https://raw.githubusercontent.com/dm-fedorov/python_basic/master/data/gas_prices.txt) содержит еженедельные средние цены за галлон бензина, начиная 5 апреля 1993 года и заканчивая 26 августа 2013 года. \n",
    "\n",
    "Каждая строка в файле содержит среднюю цену за галлон бензина в указанный день и отформатирована следующим образом:\n",
    "\n",
    "ММ-ДД-ГГГГ:Цена\n",
    "\n",
    "где ММ - двухзначный месяц; ДД - двухзначный день; ГГГ - четырехзначный год; Цена - средняя цена галлона бензина в указанный день.\n",
    "\n",
    "Определите наибольшую и наименьшую цены в году: в течение каждого года в файле определяет дату и величину самой низкой и самой высокой цены."
   ]
  },
  {
   "cell_type": "code",
   "execution_count": null,
   "metadata": {},
   "outputs": [],
   "source": []
  }
 ],
 "metadata": {
  "kernelspec": {
   "display_name": "Python 3",
   "language": "python",
   "name": "python3"
  },
  "language_info": {
   "codemirror_mode": {
    "name": "ipython",
    "version": 3
   },
   "file_extension": ".py",
   "mimetype": "text/x-python",
   "name": "python",
   "nbconvert_exporter": "python",
   "pygments_lexer": "ipython3",
   "version": "3.8.3"
  }
 },
 "nbformat": 4,
 "nbformat_minor": 4
}
