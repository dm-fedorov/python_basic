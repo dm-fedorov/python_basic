{
 "cells": [
  {
   "cell_type": "markdown",
   "metadata": {},
   "source": [
    "<a href=\"https://colab.research.google.com/github/dm-fedorov/python_basic/blob/master/about_re.ipynb\" target=\"_blank\"><img align=\"left\" src=\"https://colab.research.google.com/assets/colab-badge.svg\" alt=\"Open in Colab\" title=\"Open and Execute in Google Colaboratory\"></a>"
   ]
  },
  {
   "cell_type": "markdown",
   "metadata": {},
   "source": [
    "Номер телефона в произвольном формате:\n",
    "\n",
    "* если в строке встречается '45' или '4-5' или '4--5', то...\n",
    "* если в строке встречается '77' или '7-9' или '3--8', то...\n",
    "\n",
    "Можем заменить строкой из метасимволов, называемой `регулярным выражением`.\n",
    "\n",
    "Регулярному выражению \\d соответствует любая одиночная цифра от 0 до 9\n",
    "\n",
    "* `\\d\\d или \\d-\\d или \\d--\\d`\n",
    "* `\\d{2} или \\d-\\d или \\d-{2}\\d`"
   ]
  },
  {
   "cell_type": "code",
   "execution_count": null,
   "metadata": {},
   "outputs": [],
   "source": [
    "import re\n",
    "phone = re.compile(r'\\d') # Возвращает объект Regex\n",
    "m = phone.search('4') # Ищет совпадения с регулярными выражениями. Возвращает None или объект Match\n",
    "m.group() # Возвращает найденное соответствие"
   ]
  },
  {
   "cell_type": "code",
   "execution_count": null,
   "metadata": {},
   "outputs": [],
   "source": [
    "phone = re.compile(r'\\d-\\d')\n",
    "phone.search('4-4').group() "
   ]
  },
  {
   "cell_type": "code",
   "execution_count": null,
   "metadata": {},
   "outputs": [],
   "source": [
    "phone = re.compile(r'\\d-\\d')\n",
    "phone.search('привет, 4-4!').group() "
   ]
  },
  {
   "cell_type": "code",
   "execution_count": null,
   "metadata": {},
   "outputs": [],
   "source": [
    "import re\n",
    "r = re.compile(r'\\d(-)?\\d') # 0 или 1 символ\n",
    "r.search('4-5').group()"
   ]
  },
  {
   "cell_type": "code",
   "execution_count": null,
   "metadata": {},
   "outputs": [],
   "source": [
    "r.search('45').group()"
   ]
  },
  {
   "cell_type": "code",
   "execution_count": null,
   "metadata": {},
   "outputs": [],
   "source": [
    "r.search('4=5').group()"
   ]
  },
  {
   "cell_type": "code",
   "execution_count": null,
   "metadata": {},
   "outputs": [],
   "source": [
    "r = re.compile(r'\\d(-)*\\d') # 0 или более символов\n",
    "r.search('45').group()"
   ]
  },
  {
   "cell_type": "code",
   "execution_count": null,
   "metadata": {},
   "outputs": [],
   "source": [
    "r.search('4-5').group()"
   ]
  },
  {
   "cell_type": "code",
   "execution_count": null,
   "metadata": {},
   "outputs": [],
   "source": [
    "r.search('4--5').group()"
   ]
  },
  {
   "cell_type": "code",
   "execution_count": null,
   "metadata": {},
   "outputs": [],
   "source": [
    "r = re.compile(r'\\d(-)+\\d') # 1 или более символов\n",
    "r.search('45').group()"
   ]
  },
  {
   "cell_type": "code",
   "execution_count": null,
   "metadata": {},
   "outputs": [],
   "source": [
    "r.search('4-5').group()"
   ]
  },
  {
   "cell_type": "code",
   "execution_count": null,
   "metadata": {},
   "outputs": [],
   "source": [
    "r = re.compile(r'\\d(-){1,3}\\d')\n",
    "r.search('4--5').group()"
   ]
  },
  {
   "cell_type": "code",
   "execution_count": null,
   "metadata": {},
   "outputs": [],
   "source": [
    "# аналог:\n",
    "re.search(r'\\d(-){1,3}\\d', '4--5').group()"
   ]
  },
  {
   "cell_type": "code",
   "execution_count": null,
   "metadata": {},
   "outputs": [],
   "source": [
    "r.search('4---5').group()"
   ]
  },
  {
   "cell_type": "code",
   "execution_count": null,
   "metadata": {},
   "outputs": [],
   "source": [
    "r.search('45').group()"
   ]
  },
  {
   "cell_type": "code",
   "execution_count": null,
   "metadata": {},
   "outputs": [],
   "source": [
    "re.compile(r'\\d-\\d').search('4-5 4-5 4-5').group()"
   ]
  },
  {
   "cell_type": "code",
   "execution_count": null,
   "metadata": {},
   "outputs": [],
   "source": [
    "re.findall(r'\\d-\\d', '4-5 4-5 4-5')"
   ]
  },
  {
   "cell_type": "markdown",
   "metadata": {},
   "source": [
    "### Полезные материалы:\n",
    " \n",
    "* http://dfedorov.spb.ru/python3/regexp.pdf\n",
    "* https://www.youtube.com/watch?v=zk7306cHIkg\n",
    "* https://docs.python.org/3/library/re.html\n",
    "* https://docs.python.org/3/howto/regex.html\n",
    "* https://habr.com/ru/post/349860/\n",
    "* https://regexr.com/"
   ]
  },
  {
   "cell_type": "code",
   "execution_count": null,
   "metadata": {},
   "outputs": [],
   "source": []
  }
 ],
 "metadata": {
  "kernelspec": {
   "display_name": "Python 3 (ipykernel)",
   "language": "python",
   "name": "python3"
  },
  "language_info": {
   "codemirror_mode": {
    "name": "ipython",
    "version": 3
   },
   "file_extension": ".py",
   "mimetype": "text/x-python",
   "name": "python",
   "nbconvert_exporter": "python",
   "pygments_lexer": "ipython3",
   "version": "3.8.10"
  }
 },
 "nbformat": 4,
 "nbformat_minor": 4
}
