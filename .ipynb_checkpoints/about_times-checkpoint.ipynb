{
 "cells": [
  {
   "cell_type": "markdown",
   "metadata": {},
   "source": [
    "### Назад в будущее: практическое руководство по путешествию во времени с Python"
   ]
  },
  {
   "cell_type": "markdown",
   "metadata": {},
   "source": [
    "[Оригинал](https://proglib.io/p/nazad-v-budushchee-prakticheskoe-rukovodstvo-po-puteshestviyu-vo-vremeni-s-python-2019-12-01)"
   ]
  },
  {
   "cell_type": "markdown",
   "metadata": {},
   "source": [
    "В Python есть несколько встроенных модулей для работы со временем и интервалами времени: `time`, `datatime`, `calendar`, `timeit`. Но когда какой модуль использовать? Рассмотрим на примерах."
   ]
  },
  {
   "cell_type": "markdown",
   "metadata": {},
   "source": [
    "Чтобы не обращаться далее к операции импорта, перечислим сразу все встроенные модули, рассматриваемые в этом руководстве:"
   ]
  },
  {
   "cell_type": "code",
   "execution_count": 42,
   "metadata": {},
   "outputs": [],
   "source": [
    "import time\n",
    "import timeit\n",
    "import datetime\n",
    "import calendar"
   ]
  },
  {
   "cell_type": "markdown",
   "metadata": {},
   "source": [
    "### 1. Работа со шкалой времени: модуль time\n",
    "#### 1.1. Понятие epoch\n",
    "Работа с модулем [`time`](https://docs.python.org/3/library/time.html) в существенной мере зависит от используемой операционной системы. Время в библиотеке привязано к фиксированной начальной точке – эпохе (epoch). Узнаем эту начальную точку:"
   ]
  },
  {
   "cell_type": "code",
   "execution_count": 43,
   "metadata": {},
   "outputs": [
    {
     "data": {
      "text/plain": [
       "time.struct_time(tm_year=1970, tm_mon=1, tm_mday=1, tm_hour=0, tm_min=0, tm_sec=0, tm_wday=3, tm_yday=1, tm_isdst=0)"
      ]
     },
     "execution_count": 43,
     "metadata": {},
     "output_type": "execute_result"
    }
   ],
   "source": [
    "time.gmtime(0)"
   ]
  },
  {
   "cell_type": "markdown",
   "metadata": {},
   "source": [
    "В Unix-системах точкой отсчета (epoch) является 1 января 1970 г. Функция `gmtime()` вернула объект именованного кортежа `struct_time`.\n",
    "\n",
    "С помощью функции `time()` время, прошедшее с этой начальной точки, можно также вывести в секундах (seconds since the epoch):"
   ]
  },
  {
   "cell_type": "code",
   "execution_count": 44,
   "metadata": {},
   "outputs": [
    {
     "data": {
      "text/plain": [
       "1583756116.7826967"
      ]
     },
     "execution_count": 44,
     "metadata": {},
     "output_type": "execute_result"
    }
   ],
   "source": [
    "time.time()"
   ]
  },
  {
   "cell_type": "markdown",
   "metadata": {},
   "source": [
    "Так как точка `epoch` для разных операционных систем может отличаться, число секунд, возвращаемое функцией `time()`, также может быть различным.\n",
    "\n",
    "Время до точки `epoch` тоже существует, но значения секунд `seconds since the epoch` отрицательны. Если мы передадим функции `gmtime` отрицательное значение секунд, мы перенесемся в прошлое относительно момента времени `epoch`:"
   ]
  },
  {
   "cell_type": "code",
   "execution_count": 45,
   "metadata": {},
   "outputs": [
    {
     "data": {
      "text/plain": [
       "time.struct_time(tm_year=1966, tm_mon=10, tm_mday=31, tm_hour=14, tm_min=13, tm_sec=20, tm_wday=0, tm_yday=304, tm_isdst=0)"
      ]
     },
     "execution_count": 45,
     "metadata": {},
     "output_type": "execute_result"
    }
   ],
   "source": [
    "time.gmtime(-10**8)"
   ]
  },
  {
   "cell_type": "markdown",
   "metadata": {},
   "source": [
    "#### 1.2. Секунды, struct_time и преобразование друг в друга"
   ]
  },
  {
   "cell_type": "markdown",
   "metadata": {},
   "source": [
    "Итак, модуль `time` оперирует двумя основными типами объектов: `struct_time` и секундами с начала эпохи. Для взаимных преобразований используются следующие функции:\n",
    "\n",
    "1. `gmtime()`: из секунд в struct_time для UTC.\n",
    "2. `localtime()`: из секунд в `struct_time` для местного времени.\n",
    "3. `calendar.timegm()` (не модуль time): из `struct_time` для UTC в секунды.\n",
    "4. `mktime()`: из `struct_time` местного времени в секунды.\n",
    "\n",
    "UTC – стандартное обозначение [всемирного координированного времени](https://ru.wikipedia.org/wiki/%D0%92%D1%81%D0%B5%D0%BC%D0%B8%D1%80%D0%BD%D0%BE%D0%B5_%D0%BA%D0%BE%D0%BE%D1%80%D0%B4%D0%B8%D0%BD%D0%B8%D1%80%D0%BE%D0%B2%D0%B0%D0%BD%D0%BD%D0%BE%D0%B5_%D0%B2%D1%80%D0%B5%D0%BC%D1%8F) без учета часовых поясов. Начало отсчета `epoch` привязано к UTC, то есть не зависит от местного времени. Поэтому UTC удобнее использовать для общения с внешним миром."
   ]
  },
  {
   "cell_type": "code",
   "execution_count": 46,
   "metadata": {},
   "outputs": [
    {
     "data": {
      "text/plain": [
       "time.struct_time(tm_year=2019, tm_mon=11, tm_mday=27, tm_hour=15, tm_min=49, tm_sec=57, tm_wday=2, tm_yday=331, tm_isdst=0)"
      ]
     },
     "execution_count": 46,
     "metadata": {},
     "output_type": "execute_result"
    }
   ],
   "source": [
    "time.gmtime(1574869797)"
   ]
  },
  {
   "cell_type": "code",
   "execution_count": 47,
   "metadata": {},
   "outputs": [
    {
     "data": {
      "text/plain": [
       "time.struct_time(tm_year=2019, tm_mon=11, tm_mday=27, tm_hour=18, tm_min=49, tm_sec=57, tm_wday=2, tm_yday=331, tm_isdst=0)"
      ]
     },
     "execution_count": 47,
     "metadata": {},
     "output_type": "execute_result"
    }
   ],
   "source": [
    "time.localtime(1574869797)  # заметьте отличие в выводе значения tm_hour"
   ]
  },
  {
   "cell_type": "markdown",
   "metadata": {},
   "source": [
    "В отсутствии аргумента функции `gmtime()` и `localtime()` возвращают значение для текущего времени – соответственно UTC и местное время.\n",
    "\n",
    "Для преобразования объекта `struct_time` в секунды можно или передать сам объект, или кортеж целых чисел. Порядок элементов в кортеже:\n",
    "\n",
    "1. Год `tm_year`\n",
    "2. Месяц `tm_mon` – целое число (1 – Январь, 12 – Декабрь)\n",
    "3. День месяца `tm_day`\n",
    "4. Час `tm_hour` – целое число в диапазоне от 0 до 23\n",
    "5. Минута `tm_min`\n",
    "6. Секунда `tm_sec`\n",
    "7. День недели `tm_wday` – целое число от 0 (Понедельник) до 6 (Воскресенье)\n",
    "8. День года `tm_yday`\n",
    "9. Целочисленный флаг `tm_isdst` для учета перехода на летнее время (daylight saving time, DST): 1 – переход на летнее время учитывается, 0 – не учитывается, -1 – неизвестно."
   ]
  },
  {
   "cell_type": "code",
   "execution_count": 48,
   "metadata": {},
   "outputs": [
    {
     "data": {
      "text/plain": [
       "1445401680.0"
      ]
     },
     "execution_count": 48,
     "metadata": {},
     "output_type": "execute_result"
    }
   ],
   "source": [
    "time.mktime((2015, 10, 21, 7, 28, 0, 2, 294, -1))"
   ]
  },
  {
   "cell_type": "markdown",
   "metadata": {},
   "source": [
    "Очевидно, что составлять такой кортеж вручную – задача неблагодарная, ведь нужно знать и день недели, и номер дня в году. Обычно используются «готовые» объекты (для «ручного» формирования дат удобнее применять описанный далее модуль `datetime`):"
   ]
  },
  {
   "cell_type": "code",
   "execution_count": 49,
   "metadata": {},
   "outputs": [
    {
     "data": {
      "text/plain": [
       "1583756117.0"
      ]
     },
     "execution_count": 49,
     "metadata": {},
     "output_type": "execute_result"
    }
   ],
   "source": [
    "time.mktime(time.localtime())"
   ]
  },
  {
   "cell_type": "markdown",
   "metadata": {},
   "source": [
    "Для перевода не местного, а международного времени в секунды необходимо использовать модуль `calendar`:"
   ]
  },
  {
   "cell_type": "code",
   "execution_count": 50,
   "metadata": {},
   "outputs": [
    {
     "data": {
      "text/plain": [
       "1583756117"
      ]
     },
     "execution_count": 50,
     "metadata": {},
     "output_type": "execute_result"
    }
   ],
   "source": [
    "calendar.timegm(time.gmtime())"
   ]
  },
  {
   "cell_type": "markdown",
   "metadata": {},
   "source": [
    "Заметим, что, в отличие от представления в виде секунд, `struct_time` не хранит составляющих времени, меньших, чем секунда.\n",
    "\n",
    "Удобство использования `struct_time` заключается в том, что это именованный кортеж. Значит, можно писать более ясный код: вместо индексов элементы объекта вызываются по ключам с говорящими именами:"
   ]
  },
  {
   "cell_type": "code",
   "execution_count": 51,
   "metadata": {},
   "outputs": [
    {
     "data": {
      "text/plain": [
       "'Итак, на дворе 2020-й год.'"
      ]
     },
     "execution_count": 51,
     "metadata": {},
     "output_type": "execute_result"
    }
   ],
   "source": [
    "t = time.localtime()\n",
    "f'Итак, на дворе {t.tm_year}-й год.'"
   ]
  },
  {
   "cell_type": "markdown",
   "metadata": {},
   "source": [
    "Кроме вышеперечисленных параметров-меток, `struct_time` содержит скрытые. Так, местным законодательством каждой страны регулируется переход на летнее время. Узнать, действует ли сейчас летнее время, можно следующим образом (в России в 2014 году произведен переход на постоянное «зимнее» время):"
   ]
  },
  {
   "cell_type": "code",
   "execution_count": 52,
   "metadata": {},
   "outputs": [
    {
     "data": {
      "text/plain": [
       "0"
      ]
     },
     "execution_count": 52,
     "metadata": {},
     "output_type": "execute_result"
    }
   ],
   "source": [
    "t.tm_isdst"
   ]
  },
  {
   "cell_type": "markdown",
   "metadata": {},
   "source": [
    "Считаем часовой пояс:"
   ]
  },
  {
   "cell_type": "code",
   "execution_count": 53,
   "metadata": {},
   "outputs": [
    {
     "data": {
      "text/plain": [
       "'MSK'"
      ]
     },
     "execution_count": 53,
     "metadata": {},
     "output_type": "execute_result"
    }
   ],
   "source": [
    "t.tm_zone"
   ]
  },
  {
   "cell_type": "markdown",
   "metadata": {},
   "source": [
    "Смещение местного времени относительно UTC в секундах:"
   ]
  },
  {
   "cell_type": "code",
   "execution_count": 54,
   "metadata": {},
   "outputs": [
    {
     "data": {
      "text/plain": [
       "10800"
      ]
     },
     "execution_count": 54,
     "metadata": {},
     "output_type": "execute_result"
    }
   ],
   "source": [
    "t.tm_gmtoff"
   ]
  },
  {
   "cell_type": "markdown",
   "metadata": {},
   "source": [
    "#### 1.3. Строки временных меток"
   ]
  },
  {
   "cell_type": "markdown",
   "metadata": {},
   "source": [
    "Распространенная задача – преобразование объектов указанных типов в строки вида timestamp, например, `Mon Dec 2 18:30:20 2019`. Для этого применяются функции `ctime()` и `asctime()`:\n",
    "\n",
    "- `ctime()` – принимает время в секундах\n",
    "- `asctime()` – принимает `struct_time` (по умолчанию используется местное время)"
   ]
  },
  {
   "cell_type": "code",
   "execution_count": 55,
   "metadata": {},
   "outputs": [
    {
     "data": {
      "text/plain": [
       "'Mon Mar  9 15:15:17 2020'"
      ]
     },
     "execution_count": 55,
     "metadata": {},
     "output_type": "execute_result"
    }
   ],
   "source": [
    "time.ctime(time.time())  # преобразует время в секундах в timestamp для местного времени"
   ]
  },
  {
   "cell_type": "code",
   "execution_count": 56,
   "metadata": {},
   "outputs": [
    {
     "data": {
      "text/plain": [
       "'Mon Mar  9 15:15:18 2020'"
      ]
     },
     "execution_count": 56,
     "metadata": {},
     "output_type": "execute_result"
    }
   ],
   "source": [
    "time.asctime()  # Аналогично time.asctime(time.localtime())"
   ]
  },
  {
   "cell_type": "code",
   "execution_count": 57,
   "metadata": {},
   "outputs": [
    {
     "data": {
      "text/plain": [
       "'Mon Mar  9 12:15:18 2020'"
      ]
     },
     "execution_count": 57,
     "metadata": {},
     "output_type": "execute_result"
    }
   ],
   "source": [
    "time.asctime(time.gmtime())  # Время UTC"
   ]
  },
  {
   "cell_type": "markdown",
   "metadata": {},
   "source": [
    "Хотя строковый вывод функций `ctime()` и `asctime()` довольно удобен, может потребоваться альтернативный формат. Для гибкого форматирования в библиотеку `time` включена функция `strftime()`. Функция принимает строку шаблона форматирования со спецификаторами и сам объект времени."
   ]
  },
  {
   "cell_type": "code",
   "execution_count": 58,
   "metadata": {},
   "outputs": [
    {
     "data": {
      "text/plain": [
       "'09.03.2020'"
      ]
     },
     "execution_count": 58,
     "metadata": {},
     "output_type": "execute_result"
    }
   ],
   "source": [
    "time.strftime('%d.%m.%Y', time.localtime())"
   ]
  },
  {
   "cell_type": "markdown",
   "metadata": {},
   "source": [
    "Функция strftime() также удобна для автоматической локализации строк:"
   ]
  },
  {
   "cell_type": "code",
   "execution_count": 59,
   "metadata": {},
   "outputs": [],
   "source": [
    "import locale"
   ]
  },
  {
   "cell_type": "code",
   "execution_count": 60,
   "metadata": {},
   "outputs": [
    {
     "data": {
      "text/plain": [
       "'ru_RU.utf8'"
      ]
     },
     "execution_count": 60,
     "metadata": {},
     "output_type": "execute_result"
    }
   ],
   "source": [
    "locale.setlocale(locale.LC_TIME, 'ru_RU.utf8')"
   ]
  },
  {
   "cell_type": "code",
   "execution_count": 61,
   "metadata": {},
   "outputs": [
    {
     "data": {
      "text/plain": [
       "'Текущее время: Пн 09 мар 2020 15:15:18'"
      ]
     },
     "execution_count": 61,
     "metadata": {},
     "output_type": "execute_result"
    }
   ],
   "source": [
    "time.strftime('Текущее время: %c', time.localtime())"
   ]
  },
  {
   "cell_type": "markdown",
   "metadata": {},
   "source": [
    "Список спецификаторов шаблона:\n",
    "\n",
    "- `%a`, `%A` – аббревиатура и полное название дня недели (Чт, Четверг)\n",
    "- `%b`, `%B` – то же для месяца с учетом склонения (ноя, ноября)\n",
    "- `%с` – локализованная строка временной метки\n",
    "- `%d` – день месяца (28)\n",
    "- `%H`, `%I` – Час в 24- и 12-часовом представлении (17, 05)\n",
    "- `%j` – номер дня года (в представлении от 001 до 366)\n",
    "- `%m` – двузначное представление месяца (от 01 до 12)\n",
    "- `%M` – двузначное представление минут (от 00 до 59)\n",
    "- `%p` – местный эквивалент AM и PM\n",
    "- `%S` – двузначное представление секунд\n",
    "- `%W` – двузначное представление номера недели, первый день – Пн (%U для Вс)\n",
    "- `%w` – двузначное представление номера дня недели\n",
    "- `%x`, `%X` – принятый способ представления даты и времени.\n",
    "- `%y`, `%Y` – двузначное (без века) и четырехзначное представление года\n",
    "- `%z`, `%Z` – обозначение часового пояса в четырехзначном формате со знаком плюс или минус и в виде названия часового пояса\n",
    "\n",
    "Пример одновременного использования нескольких спецификаторов:"
   ]
  },
  {
   "cell_type": "code",
   "execution_count": 62,
   "metadata": {},
   "outputs": [
    {
     "name": "stdout",
     "output_type": "stream",
     "text": [
      "Сегодня Понедельник, 09 Март. В России эту дату обычно записывают\n",
      "следующим образом: 09.03.2020 или сокращенно: 09.03.20.\n",
      "Это 069 день года, 10 неделя. На часах 15:15:18.\n",
      "Часовой пояс: MSK.\n"
     ]
    }
   ],
   "source": [
    "s = \"\"\"Сегодня %A, %d %B. В России эту дату обычно записывают\n",
    "следующим образом: %x или сокращенно: %d.%m.%y.\n",
    "Это %j день года, %W неделя. На часах %X.\n",
    "Часовой пояс: %Z.\"\"\"\n",
    "\n",
    "print(time.strftime(s, time.localtime()))"
   ]
  },
  {
   "cell_type": "markdown",
   "metadata": {},
   "source": [
    "Что, если у нас есть строка, содержащая метку времени, а мы хотим распарсить ее в объект `struct_time`, чтобы обработать его в Python? Для этого есть функция `strptime()`. Первый аргумент – строка, второй – правило, описанное через те же спецификаторы:"
   ]
  },
  {
   "cell_type": "code",
   "execution_count": 63,
   "metadata": {},
   "outputs": [
    {
     "data": {
      "text/plain": [
       "time.struct_time(tm_year=2015, tm_mon=10, tm_mday=21, tm_hour=7, tm_min=28, tm_sec=0, tm_wday=2, tm_yday=294, tm_isdst=-1)"
      ]
     },
     "execution_count": 63,
     "metadata": {},
     "output_type": "execute_result"
    }
   ],
   "source": [
    "time.strptime('Окт 21 2015 07:28', '%b %d %Y %H:%M')"
   ]
  },
  {
   "cell_type": "markdown",
   "metadata": {},
   "source": [
    "Функция `strptime()` позволяет кратко задавать `struct_time`, не используя все девять позиций кортежа. Неизвестные элементы вычисляются или на их место подставляются значения по умолчанию."
   ]
  },
  {
   "cell_type": "markdown",
   "metadata": {},
   "source": [
    "#### 1.4. Приостановка выполнения кода и оценка производительности"
   ]
  },
  {
   "cell_type": "markdown",
   "metadata": {},
   "source": [
    "Одна из наиболее часто используемых функций модуля `time` – функция `sleep()`, выполняющая задержку исполнения программного кода на переданное число секунд (можно использовать дробные значения):"
   ]
  },
  {
   "cell_type": "code",
   "execution_count": 64,
   "metadata": {},
   "outputs": [
    {
     "name": "stdout",
     "output_type": "stream",
     "text": [
      "Текущее время: 15:15:18.\n",
      "Задержка...\n",
      "Прошло время.\n",
      "Текущее время: 15:15:23.\n"
     ]
    }
   ],
   "source": [
    "print(time.strftime('Текущее время: %X.'))\n",
    "print('Задержка...')\n",
    "time.sleep(5)\n",
    "print('Прошло время.')\n",
    "print(time.strftime('Текущее время: %X.'))"
   ]
  },
  {
   "cell_type": "markdown",
   "metadata": {},
   "source": [
    "Функция `sleep()` нередко используется для тестирования кода, намеренного внесения задержек на различных этапах выполнения программы.\n",
    "\n",
    "Для оценки производительности однократно запускаемых команд применяется функция `perf_counter()`, обеспечивающая лучшее разрешение по времени на коротких интервалах:"
   ]
  },
  {
   "cell_type": "code",
   "execution_count": 87,
   "metadata": {},
   "outputs": [
    {
     "name": "stdout",
     "output_type": "stream",
     "text": [
      "Выполнение longrunning_function() заняло 3.0025332409995826 c.\n",
      "Выполнение shortrunning_function() заняло 0.0002509559999452904 c.\n"
     ]
    }
   ],
   "source": [
    "def longrunning_function():\n",
    "    for i in range(3):\n",
    "        time.sleep(1)\n",
    "        \n",
    "def shortrunning_function():\n",
    "    n = 1\n",
    "    for i in range(2, 100):\n",
    "        n *= i\n",
    "\n",
    "start = time.perf_counter()\n",
    "longrunning_function()\n",
    "end = time.perf_counter()\n",
    "print(f\"Выполнение longrunning_function() заняло {end-start} c.\")\n",
    "\n",
    "start = time.perf_counter()\n",
    "shortrunning_function()\n",
    "end = time.perf_counter()\n",
    "print(f\"Выполнение shortrunning_function() заняло {end-start} c.\")"
   ]
  },
  {
   "cell_type": "markdown",
   "metadata": {},
   "source": [
    "В Python версии 3.7 добавлена функция `perf_counter_ns()` – работает так же, но длительность выводится в наносекундах, что удобнее для совсем малых интервалов времени и быстро исполняемых команд.\n",
    "\n",
    "Более удобные методы для измерения производительности фрагмента кода предоставляет модуль `timeit`."
   ]
  },
  {
   "cell_type": "markdown",
   "metadata": {},
   "source": [
    "### 2. Оценка производительности: timeit"
   ]
  },
  {
   "cell_type": "markdown",
   "metadata": {},
   "source": [
    "В момент запуска программы в фоновом режиме также запускается множество сторонних процессов. Модуль [`timeit`](https://docs.python.org/3.8/library/timeit.html) за счет многократного запуска фрагмента нивелирует неоднородность длительности его выполнения.\n",
    "\n",
    "У модуля `timeit` есть интерфейс командной строки и интерфейс для вызова в коде. Во втором случае выводится время в секундах, которое длится общее количество запусков. Так как значение number по умолчанию составляет 1 млн повторений, можно считать, что при дефолтном запуске выводится среднее время операции в микросекундах. При вызове timeit в командной строке достаточное количество повторений определяется автоматически.\n",
    "\n",
    "Сравним скорость выполнения операция конкатенации при использовании генератора и функции `map()`:"
   ]
  },
  {
   "cell_type": "markdown",
   "metadata": {},
   "source": [
    "```python\n",
    "python3 -m timeit '\"-\".join(str(n) for n in range(100))'\n",
    "100000 loops, best of 3: 14.6 usec per loop\n",
    "\n",
    "python3 -m timeit '\"-\".join(map(str, range(100)))'\n",
    "100000 loops, best of 3: 9.72 usec per loop\n",
    "```"
   ]
  },
  {
   "cell_type": "markdown",
   "metadata": {},
   "source": [
    "Сравним с вызовом через интерпретатор Python:"
   ]
  },
  {
   "cell_type": "code",
   "execution_count": 66,
   "metadata": {},
   "outputs": [
    {
     "data": {
      "text/plain": [
       "18.12641012400036"
      ]
     },
     "execution_count": 66,
     "metadata": {},
     "output_type": "execute_result"
    }
   ],
   "source": [
    "timeit.timeit('\"-\".join(str(n) for n in range(100))')"
   ]
  },
  {
   "cell_type": "code",
   "execution_count": 67,
   "metadata": {},
   "outputs": [
    {
     "data": {
      "text/plain": [
       "12.482238461000634"
      ]
     },
     "execution_count": 67,
     "metadata": {},
     "output_type": "execute_result"
    }
   ],
   "source": [
    "timeit.timeit('\"-\".join(map(str, range(100)))')"
   ]
  },
  {
   "cell_type": "markdown",
   "metadata": {},
   "source": [
    "Кроме куска кода, функции `timeit()` можно передать строку setup, однократно выполняемую перед началом повторения кода `stmt`. В `setup`, например, можно вынести импорт библиотек:"
   ]
  },
  {
   "cell_type": "code",
   "execution_count": 68,
   "metadata": {},
   "outputs": [
    {
     "data": {
      "text/plain": [
       "0.11019666099946335"
      ]
     },
     "execution_count": 68,
     "metadata": {},
     "output_type": "execute_result"
    }
   ],
   "source": [
    "mysetup = 'from math import sqrt'\n",
    "\n",
    "mycode = '''\n",
    "mylist = []\n",
    "for i in range(100):\n",
    "    mylist.append(sqrt(i))\n",
    "'''\n",
    "        \n",
    "timeit.timeit(stmt = mycode,\n",
    "              setup = mysetup,\n",
    "              number = 10000)"
   ]
  },
  {
   "cell_type": "markdown",
   "metadata": {},
   "source": [
    "В блокнотах Jupyter команда `timeit` относится к числу магических. С одним знаком процента она действует в пределах строки кода, с двумя – в границах ячейки:"
   ]
  },
  {
   "cell_type": "code",
   "execution_count": 69,
   "metadata": {},
   "outputs": [
    {
     "name": "stdout",
     "output_type": "stream",
     "text": [
      "18.4 µs ± 1.07 µs per loop (mean ± std. dev. of 7 runs, 100000 loops each)\n"
     ]
    }
   ],
   "source": [
    "%timeit s = \"-\".join(str(n) for n in range(100))"
   ]
  },
  {
   "cell_type": "code",
   "execution_count": 70,
   "metadata": {},
   "outputs": [
    {
     "name": "stdout",
     "output_type": "stream",
     "text": [
      "16.6 µs ± 2.03 µs per loop (mean ± std. dev. of 7 runs, 10000 loops each)\n"
     ]
    }
   ],
   "source": [
    "%%timeit\n",
    "mylist = []\n",
    "for i in range(100):\n",
    "    mylist.append(i**0.5)"
   ]
  },
  {
   "cell_type": "markdown",
   "metadata": {},
   "source": [
    "Магические команды `%time` и `%%time` делают те же операции без многократного повторения. Это приводит к завышенным результатам, но позволяет быстрее получить оценку производительности:"
   ]
  },
  {
   "cell_type": "code",
   "execution_count": 71,
   "metadata": {},
   "outputs": [
    {
     "name": "stdout",
     "output_type": "stream",
     "text": [
      "CPU times: user 0 ns, sys: 0 ns, total: 0 ns\n",
      "Wall time: 27.2 µs\n"
     ]
    }
   ],
   "source": [
    "%time s = \"-\".join(str(n) for n in range(100))"
   ]
  },
  {
   "cell_type": "code",
   "execution_count": 72,
   "metadata": {},
   "outputs": [
    {
     "name": "stdout",
     "output_type": "stream",
     "text": [
      "CPU times: user 0 ns, sys: 0 ns, total: 0 ns\n",
      "Wall time: 68.2 µs\n"
     ]
    }
   ],
   "source": [
    "%%time\n",
    "mylist = []\n",
    "for i in range(100):\n",
    "    mylist.append(i**0.5)"
   ]
  },
  {
   "cell_type": "markdown",
   "metadata": {},
   "source": [
    "### 3. Работа с датами: datetime"
   ]
  },
  {
   "cell_type": "markdown",
   "metadata": {},
   "source": [
    "Вернемся к вопросу перемещения во времени. Модуль [`datetime`](https://docs.python.org/3/library/datetime.html) поддерживает различные операции для работы с датами, например, определение интервала между двумя днями.\n",
    "\n",
    "Структура представления времени в `datetime` похожа на `struct_time` в модуле `time`:"
   ]
  },
  {
   "cell_type": "code",
   "execution_count": 83,
   "metadata": {},
   "outputs": [
    {
     "data": {
      "text/plain": [
       "datetime.datetime(2020, 3, 9, 15, 17, 22, 500553)"
      ]
     },
     "execution_count": 83,
     "metadata": {},
     "output_type": "execute_result"
    }
   ],
   "source": [
    "t = datetime.datetime.now()\n",
    "t"
   ]
  },
  {
   "cell_type": "code",
   "execution_count": 86,
   "metadata": {},
   "outputs": [
    {
     "name": "stdout",
     "output_type": "stream",
     "text": [
      "2020-03-09 15:17:22.500553\n"
     ]
    }
   ],
   "source": [
    "print(t)"
   ]
  },
  {
   "cell_type": "markdown",
   "metadata": {},
   "source": [
    "Выведем отдельно дату и время:"
   ]
  },
  {
   "cell_type": "code",
   "execution_count": 85,
   "metadata": {},
   "outputs": [
    {
     "data": {
      "text/plain": [
       "'Сегодня 2020-03-09. Время: 15:17:22.500553.'"
      ]
     },
     "execution_count": 85,
     "metadata": {},
     "output_type": "execute_result"
    }
   ],
   "source": [
    "f'Сегодня {t.date()}. Время: {t.time()}.'"
   ]
  },
  {
   "cell_type": "markdown",
   "metadata": {},
   "source": [
    "Аналогично извлекаются год, месяц и т.д.:"
   ]
  },
  {
   "cell_type": "code",
   "execution_count": 76,
   "metadata": {},
   "outputs": [
    {
     "data": {
      "text/plain": [
       "'Год 2020, месяц 3, день 9, 15 ч. 16 мин. 14 сек.'"
      ]
     },
     "execution_count": 76,
     "metadata": {},
     "output_type": "execute_result"
    }
   ],
   "source": [
    "f\"Год {t.year}, месяц {t.month}, день {t.day}, {t.hour} ч. {t.minute} мин. {t.second} сек.\""
   ]
  },
  {
   "cell_type": "markdown",
   "metadata": {},
   "source": [
    "Модуль datetime также удобен для «ручного» задания дат и автоматизации арифметических операций с датами. Узнаем интервал времени между двумя главными датами сюжета фильма «Назад в будущее 2»:"
   ]
  },
  {
   "cell_type": "code",
   "execution_count": 77,
   "metadata": {},
   "outputs": [
    {
     "name": "stdout",
     "output_type": "stream",
     "text": [
      "10951 days, 22:28:00\n"
     ]
    }
   ],
   "source": [
    "today = datetime.datetime(year=1985, month=10, day=26, hour=21, minute=0)\n",
    "future = datetime.datetime(year=2015, month=10, day=21, hour=19, minute=28)\n",
    "delta = future - today\n",
    "print(delta)"
   ]
  },
  {
   "cell_type": "markdown",
   "metadata": {},
   "source": [
    "Добавление найденной разности к первой дате «возвращает» нас в «будущее»:\n",
    "\n"
   ]
  },
  {
   "cell_type": "code",
   "execution_count": 78,
   "metadata": {},
   "outputs": [
    {
     "name": "stdout",
     "output_type": "stream",
     "text": [
      "2015-10-21 19:28:00\n"
     ]
    }
   ],
   "source": [
    "print(today + delta)"
   ]
  },
  {
   "cell_type": "markdown",
   "metadata": {},
   "source": [
    "Узнаем, какое число будет через четыре недели. Для форматирования строк в модуле `datetime` имеется функция `strftime()` с теми же спецификаторами, что и в модуле `time`:"
   ]
  },
  {
   "cell_type": "code",
   "execution_count": 79,
   "metadata": {},
   "outputs": [
    {
     "name": "stdout",
     "output_type": "stream",
     "text": [
      "Сегодня: 09.03.20\n",
      "Через 28 дней будет: 06.04.20\n"
     ]
    }
   ],
   "source": [
    "today = datetime.datetime.now()\n",
    "future = today + datetime.timedelta(days=28)\n",
    "f = '%d.%m.%y'\n",
    "print(today.strftime('Сегодня: ' + f))\n",
    "print(future.strftime('Через 28 дней будет: ' + f))"
   ]
  },
  {
   "cell_type": "markdown",
   "metadata": {},
   "source": [
    "Если вам важнее оперировать не датами, а неделями, днями недели, месяцами, годами, то вам нужен модуль `calendar`."
   ]
  },
  {
   "cell_type": "markdown",
   "metadata": {},
   "source": [
    "### 4. Работа с календарем: calendar"
   ]
  },
  {
   "cell_type": "markdown",
   "metadata": {},
   "source": [
    "Модуль [`calendar`](https://docs.python.org/3.8/library/calendar.html) содержит функции для работы с календарем. В частности, умеет генерировать строки и HTML для вывода каленадарей месяцев и годов. Для наглядности напечатаем календарь на декабрь 2019 года:"
   ]
  },
  {
   "cell_type": "code",
   "execution_count": 80,
   "metadata": {},
   "outputs": [
    {
     "name": "stdout",
     "output_type": "stream",
     "text": [
      "    Декабрь 2019\n",
      "Пн Вт Ср Чт Пт Сб Вс\n",
      "                   1\n",
      " 2  3  4  5  6  7  8\n",
      " 9 10 11 12 13 14 15\n",
      "16 17 18 19 20 21 22\n",
      "23 24 25 26 27 28 29\n",
      "30 31\n"
     ]
    }
   ],
   "source": [
    "calendar.prmonth(2019, 12)"
   ]
  },
  {
   "cell_type": "markdown",
   "metadata": {},
   "source": [
    "При помощи calendar можно не только «рисовать» календари, но и осуществлять итерации по их составляющим.\n",
    "\n",
    "В качестве примера рассмотрим следующую практическую задачу. Во многих музеях существует один день месяца, когда посещение музея для всех лиц или отдельных категорий граждан происходит без взимания платы. Например, в Эрмитаже это третий четверг месяца. Вычислим даты бесплатных дней посещения Эрмитажа на 2020 год:"
   ]
  },
  {
   "cell_type": "code",
   "execution_count": 81,
   "metadata": {},
   "outputs": [
    {
     "name": "stdout",
     "output_type": "stream",
     "text": [
      "16 Январь, 20 Февраль, 19 Март, 16 Апрель, 21 Май, 18 Июнь, 16 Июль, 20 Август, 17 Сентябрь, 15 Октябрь, 19 Ноябрь, 17 Декабрь\n"
     ]
    }
   ],
   "source": [
    "free_days = []\n",
    "\n",
    "for i in range(1, 13):\n",
    "    c = calendar.monthcalendar(2020, i)\n",
    "    first_week = c[0]\n",
    "    third_week = c[2]\n",
    "    fourth_week = c[3]\n",
    "\n",
    "    # Если на первой неделе месяца есть четверг, то третий\n",
    "    # четверг должен быть на третьей неделе. Если нет, то\n",
    "    # на четвертой\n",
    "    if first_week[calendar.THURSDAY]:\n",
    "        free_day = third_week[calendar.THURSDAY]\n",
    "    else:\n",
    "        free_day = fourth_week[calendar.THURSDAY]\n",
    "    s = '{0} {1}'.format(free_day, calendar.month_name[i])\n",
    "    free_days.append(s)\n",
    "\n",
    "print(\", \".join(free_days))"
   ]
  },
  {
   "cell_type": "markdown",
   "metadata": {},
   "source": [
    "### 5. Сторонние библиотеки"
   ]
  },
  {
   "cell_type": "markdown",
   "metadata": {},
   "source": [
    "[Arrow: Better dates & times for Python](https://arrow.readthedocs.io/en/latest/)"
   ]
  },
  {
   "cell_type": "code",
   "execution_count": null,
   "metadata": {},
   "outputs": [],
   "source": []
  }
 ],
 "metadata": {
  "kernelspec": {
   "display_name": "Python 3 (ipykernel)",
   "language": "python",
   "name": "python3"
  },
  "language_info": {
   "codemirror_mode": {
    "name": "ipython",
    "version": 3
   },
   "file_extension": ".py",
   "mimetype": "text/x-python",
   "name": "python",
   "nbconvert_exporter": "python",
   "pygments_lexer": "ipython3",
   "version": "3.8.10"
  }
 },
 "nbformat": 4,
 "nbformat_minor": 4
}
