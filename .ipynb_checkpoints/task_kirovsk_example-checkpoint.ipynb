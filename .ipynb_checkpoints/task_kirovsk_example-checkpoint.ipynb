{
 "cells": [
  {
   "cell_type": "markdown",
   "metadata": {},
   "source": [
    "Определить за 2017 год средние траты в ресторане в Кировской области"
   ]
  },
  {
   "cell_type": "code",
   "execution_count": 1,
   "metadata": {},
   "outputs": [
    {
     "name": "stdout",
     "output_type": "stream",
     "text": [
      "['Количество заявок на потребительские кредиты', 'Россия', '2013-01-15', '571147']\n"
     ]
    }
   ],
   "source": [
    "import csv\n",
    "\n",
    "with open('data/opendata.stat') as csvfile:    \n",
    "    stat = csv.reader(csvfile) \n",
    "    next(stat)\n",
    "    for row in stat:\n",
    "        print(row)\n",
    "        break       "
   ]
  },
  {
   "cell_type": "code",
   "execution_count": 2,
   "metadata": {
    "scrolled": true
   },
   "outputs": [
    {
     "name": "stdout",
     "output_type": "stream",
     "text": [
      "['Средние траты в ресторане', 'Кировская область', '2015-01-15', '1030']\n",
      "['Средние траты в ресторане', 'Кировская область', '2015-02-15', '949']\n",
      "['Средние траты в ресторане', 'Кировская область', '2015-03-15', '969']\n",
      "['Средние траты в ресторане', 'Кировская область', '2015-04-15', '908']\n",
      "['Средние траты в ресторане', 'Кировская область', '2015-05-15', '920']\n",
      "['Средние траты в ресторане', 'Кировская область', '2015-06-15', '921']\n",
      "['Средние траты в ресторане', 'Кировская область', '2015-07-15', '987']\n",
      "['Средние траты в ресторане', 'Кировская область', '2015-08-15', '982']\n",
      "['Средние траты в ресторане', 'Кировская область', '2015-09-15', '921']\n",
      "['Средние траты в ресторане', 'Кировская область', '2015-10-15', '923']\n",
      "['Средние траты в ресторане', 'Кировская область', '2015-11-15', '926']\n",
      "['Средние траты в ресторане', 'Кировская область', '2015-12-15', '943']\n",
      "['Средние траты в ресторане', 'Кировская область', '2016-01-15', '987']\n",
      "['Средние траты в ресторане', 'Кировская область', '2016-02-15', '928']\n",
      "['Средние траты в ресторане', 'Кировская область', '2016-03-15', '933']\n",
      "['Средние траты в ресторане', 'Кировская область', '2016-04-15', '895']\n",
      "['Средние траты в ресторане', 'Кировская область', '2016-05-15', '881']\n",
      "['Средние траты в ресторане', 'Кировская область', '2016-06-15', '929']\n",
      "['Средние траты в ресторане', 'Кировская область', '2016-07-15', '953']\n",
      "['Средние траты в ресторане', 'Кировская область', '2016-08-15', '934']\n",
      "['Средние траты в ресторане', 'Кировская область', '2016-09-15', '899']\n",
      "['Средние траты в ресторане', 'Кировская область', '2016-10-15', '901']\n",
      "['Средние траты в ресторане', 'Кировская область', '2016-11-15', '891']\n",
      "['Средние траты в ресторане', 'Кировская область', '2016-12-15', '936']\n",
      "['Средние траты в ресторане', 'Кировская область', '2017-01-15', '934']\n",
      "['Средние траты в ресторане', 'Кировская область', '2017-02-15', '904']\n",
      "['Средние траты в ресторане', 'Кировская область', '2017-03-15', '924']\n",
      "['Средние траты в ресторане', 'Кировская область', '2017-04-15', '926']\n",
      "['Средние траты в ресторане', 'Кировская область', '2017-05-15', '908']\n",
      "['Средние траты в ресторане', 'Кировская область', '2017-06-15', '929']\n",
      "['Средние траты в ресторане', 'Кировская область', '2017-07-15', '970']\n",
      "['Средние траты в ресторане', 'Кировская область', '2017-08-15', '970']\n",
      "['Средние траты в ресторане', 'Кировская область', '2017-09-15', '959']\n",
      "['Средние траты в ресторане', 'Кировская область', '2017-10-15', '944']\n",
      "['Средние траты в ресторане', 'Кировская область', '2017-11-15', '946']\n",
      "['Средние траты в ресторане', 'Кировская область', '2017-12-15', '1007']\n",
      "['Средние траты в ресторане', 'Кировская область', '2018-01-15', '984']\n",
      "['Средние траты в ресторане', 'Кировская область', '2018-02-15', '941']\n",
      "['Средние траты в ресторане', 'Кировская область', '2018-03-15', '995']\n",
      "['Средние траты в ресторане', 'Кировская область', '2018-04-15', '935']\n",
      "['Средние траты в ресторане', 'Кировская область', '2018-05-15', '935']\n",
      "['Средние траты в ресторане', 'Кировская область', '2018-06-15', '998']\n",
      "['Средние траты в ресторане', 'Кировская область', '2018-07-15', '1024']\n",
      "['Средние траты в ресторане', 'Кировская область', '2018-08-15', '1021']\n",
      "['Средние траты в ресторане', 'Кировская область', '2018-09-15', '977']\n",
      "['Средние траты в ресторане', 'Кировская область', '2018-10-15', '997']\n",
      "['Средние траты в ресторане', 'Кировская область', '2018-11-15', '978']\n"
     ]
    }
   ],
   "source": [
    "import csv\n",
    "\n",
    "with open('data/opendata.stat') as csvfile:    \n",
    "    stat = csv.reader(csvfile)  \n",
    "    next(stat)\n",
    "    for row in stat:\n",
    "        if row[0] == \"Средние траты в ресторане\" and row[1] == \"Кировская область\":\n",
    "            print(row)"
   ]
  },
  {
   "cell_type": "code",
   "execution_count": 3,
   "metadata": {},
   "outputs": [
    {
     "name": "stdout",
     "output_type": "stream",
     "text": [
      "2015\n"
     ]
    }
   ],
   "source": [
    "import csv\n",
    "\n",
    "with open('data/opendata.stat') as csvfile:    \n",
    "    stat = csv.reader(csvfile)  \n",
    "    next(stat)\n",
    "    for row in stat:        \n",
    "        if row[0] == \"Средние траты в ресторане\" and row[1] == \"Кировская область\":\n",
    "            print(row[2].split('-')[0])\n",
    "            break"
   ]
  },
  {
   "cell_type": "code",
   "execution_count": 4,
   "metadata": {},
   "outputs": [
    {
     "name": "stdout",
     "output_type": "stream",
     "text": [
      "['Средние траты в ресторане', 'Кировская область', '2017-01-15', '934']\n",
      "['Средние траты в ресторане', 'Кировская область', '2017-02-15', '904']\n",
      "['Средние траты в ресторане', 'Кировская область', '2017-03-15', '924']\n",
      "['Средние траты в ресторане', 'Кировская область', '2017-04-15', '926']\n",
      "['Средние траты в ресторане', 'Кировская область', '2017-05-15', '908']\n",
      "['Средние траты в ресторане', 'Кировская область', '2017-06-15', '929']\n",
      "['Средние траты в ресторане', 'Кировская область', '2017-07-15', '970']\n",
      "['Средние траты в ресторане', 'Кировская область', '2017-08-15', '970']\n",
      "['Средние траты в ресторане', 'Кировская область', '2017-09-15', '959']\n",
      "['Средние траты в ресторане', 'Кировская область', '2017-10-15', '944']\n",
      "['Средние траты в ресторане', 'Кировская область', '2017-11-15', '946']\n",
      "['Средние траты в ресторане', 'Кировская область', '2017-12-15', '1007']\n"
     ]
    }
   ],
   "source": [
    "import csv\n",
    "\n",
    "with open('data/opendata.stat') as csvfile:    \n",
    "    stat = csv.reader(csvfile)\n",
    "    next(stat)\n",
    "    for row in stat:        \n",
    "        if row[0] == \"Средние траты в ресторане\" and row[1] == \"Кировская область\" and row[2].split('-')[0] == '2017':\n",
    "            print(row)                "
   ]
  },
  {
   "cell_type": "code",
   "execution_count": 5,
   "metadata": {},
   "outputs": [
    {
     "name": "stdout",
     "output_type": "stream",
     "text": [
      "{1: 934, 2: 904, 3: 924, 4: 926, 5: 908, 6: 929, 7: 970, 8: 970, 9: 959, 10: 944, 11: 946, 12: 1007}\n"
     ]
    }
   ],
   "source": [
    "import csv\n",
    "\n",
    "rub = dict()\n",
    "\n",
    "with open('data/opendata.stat') as csvfile:    \n",
    "    stat = csv.reader(csvfile)   \n",
    "    next(stat)\n",
    "    for row in stat:        \n",
    "        if row[0] == \"Средние траты в ресторане\" and row[1] == \"Кировская область\" and row[2].split('-')[0] == '2017':\n",
    "            rub[int(row[2].split('-')[1])] = int(row[3])\n",
    "\n",
    "print(rub)"
   ]
  },
  {
   "cell_type": "code",
   "execution_count": 6,
   "metadata": {},
   "outputs": [
    {
     "data": {
      "image/png": "[encoded data removed]",
      "text/plain": [
       "<Figure size 432x288 with 1 Axes>"
      ]
     },
     "metadata": {
      "needs_background": "light"
     },
     "output_type": "display_data"
    }
   ],
   "source": [
    "import matplotlib.pyplot as plt\n",
    "\n",
    "x_coord = list(rub.keys()) # получаем список ключей словаря rub\n",
    "y_coord = list(rub.values()) # получаем список значений словаря rub\n",
    " \n",
    "# Построить график.\n",
    "plt.plot(x_coord, y_coord)\n",
    "\n",
    "# Показать график.\n",
    "plt.show()"
   ]
  },
  {
   "cell_type": "code",
   "execution_count": null,
   "metadata": {},
   "outputs": [],
   "source": []
  }
 ],
 "metadata": {
  "kernelspec": {
   "display_name": "Python 3 (ipykernel)",
   "language": "python",
   "name": "python3"
  },
  "language_info": {
   "codemirror_mode": {
    "name": "ipython",
    "version": 3
   },
   "file_extension": ".py",
   "mimetype": "text/x-python",
   "name": "python",
   "nbconvert_exporter": "python",
   "pygments_lexer": "ipython3",
   "version": "3.8.10"
  }
 },
 "nbformat": 4,
 "nbformat_minor": 4
}
