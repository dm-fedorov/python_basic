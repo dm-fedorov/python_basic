{
 "cells": [
  {
   "cell_type": "code",
   "execution_count": 3,
   "metadata": {},
   "outputs": [],
   "source": [
    "import requests\n",
    "from bs4 import BeautifulSoup"
   ]
  },
  {
   "cell_type": "code",
   "execution_count": 12,
   "metadata": {},
   "outputs": [
    {
     "data": {
      "text/plain": [
       "<Response [200]>"
      ]
     },
     "execution_count": 12,
     "metadata": {},
     "output_type": "execute_result"
    }
   ],
   "source": [
    "requests.get('https://wordpress.org/')"
   ]
  },
  {
   "cell_type": "code",
   "execution_count": 13,
   "metadata": {},
   "outputs": [
    {
     "data": {
      "text/plain": [
       "requests.models.Response"
      ]
     },
     "execution_count": 13,
     "metadata": {},
     "output_type": "execute_result"
    }
   ],
   "source": [
    "r = requests.get('https://wordpress.org/')\n",
    "type(r)"
   ]
  },
  {
   "cell_type": "code",
   "execution_count": 15,
   "metadata": {},
   "outputs": [
    {
     "name": "stdout",
     "output_type": "stream",
     "text": [
      "['__attrs__', '__bool__', '__class__', '__delattr__', '__dict__', '__dir__', '__doc__', '__enter__', '__eq__', '__exit__', '__format__', '__ge__', '__getattribute__', '__getstate__', '__gt__', '__hash__', '__init__', '__init_subclass__', '__iter__', '__le__', '__lt__', '__module__', '__ne__', '__new__', '__nonzero__', '__reduce__', '__reduce_ex__', '__repr__', '__setattr__', '__setstate__', '__sizeof__', '__str__', '__subclasshook__', '__weakref__', '_content', '_content_consumed', '_next', 'apparent_encoding', 'close', 'connection', 'content', 'cookies', 'elapsed', 'encoding', 'headers', 'history', 'is_permanent_redirect', 'is_redirect', 'iter_content', 'iter_lines', 'json', 'links', 'next', 'ok', 'raise_for_status', 'raw', 'reason', 'request', 'status_code', 'text', 'url']\n"
     ]
    }
   ],
   "source": [
    "print(dir(r))"
   ]
  },
  {
   "cell_type": "code",
   "execution_count": 16,
   "metadata": {},
   "outputs": [
    {
     "data": {
      "text/plain": [
       "200"
      ]
     },
     "execution_count": 16,
     "metadata": {},
     "output_type": "execute_result"
    }
   ],
   "source": [
    "r.status_code"
   ]
  },
  {
   "cell_type": "code",
   "execution_count": 17,
   "metadata": {},
   "outputs": [
    {
     "data": {
      "text/plain": [
       "True"
      ]
     },
     "execution_count": 17,
     "metadata": {},
     "output_type": "execute_result"
    }
   ],
   "source": [
    "r.ok"
   ]
  },
  {
   "cell_type": "code",
   "execution_count": 18,
   "metadata": {},
   "outputs": [
    {
     "data": {
      "text/plain": [
       "'<!DOCTYPE html>\\n<html xmlns=\"http://www.w3.org/1999/xhtml\" dir=\"ltr\" lang=\"en\">\\n<head>\\n<meta charset=\"utf-8\" />\\n<script>(function(w,d,s,l,i){w[l]=w[l]||[];w[l].push({\\'gtm.start\\':\\nnew Date().getTime(),event:\\'gtm.js\\'});var f=d.getElementsByTagName(s)[0],\\nj=d.createElement(s),dl=l!=\\'dataLayer\\'?\\'&l=\\'+l:\\'\\';j.async=true;j.src=\\n\\'https://www.googletagmanager.com/gtm.js?id=\\'+i+dl;f.parentNode.insertBefore('"
      ]
     },
     "execution_count": 18,
     "metadata": {},
     "output_type": "execute_result"
    }
   ],
   "source": [
    "requests.get('https://wordpress.org/').text[:400]"
   ]
  },
  {
   "cell_type": "code",
   "execution_count": 10,
   "metadata": {},
   "outputs": [
    {
     "data": {
      "text/plain": [
       "'<!DOCTYPE html>\\n<html xmlns=\"http://www.w3.org/1999/xhtml\" dir=\"ltr\" lang=\"en\">\\n<head>\\n<meta charset'"
      ]
     },
     "execution_count": 10,
     "metadata": {},
     "output_type": "execute_result"
    }
   ],
   "source": [
    "requests.get('https://wordpress.org/').text[:100]"
   ]
  },
  {
   "cell_type": "code",
   "execution_count": 11,
   "metadata": {},
   "outputs": [
    {
     "data": {
      "text/plain": [
       "str"
      ]
     },
     "execution_count": 11,
     "metadata": {},
     "output_type": "execute_result"
    }
   ],
   "source": [
    "type(r)"
   ]
  },
  {
   "cell_type": "code",
   "execution_count": null,
   "metadata": {},
   "outputs": [],
   "source": []
  },
  {
   "cell_type": "code",
   "execution_count": 7,
   "metadata": {},
   "outputs": [],
   "source": [
    "html = requests.get('https://wordpress.org/').text"
   ]
  },
  {
   "cell_type": "code",
   "execution_count": 19,
   "metadata": {},
   "outputs": [
    {
     "data": {
      "text/plain": [
       "'<!DOCTYPE html>\\n<html xmlns=\"http://www.w3.org/1999/xhtml\" dir=\"ltr\" lang=\"en\">\\n<head>\\n<meta charset=\"utf-8\" />\\n<script>(function(w,d,s,l,i){w[l]=w[l]||[];w[l].push({\\'gtm.start\\':\\nnew Date().getTime(),event:\\'gtm.js\\'});var f=d.getElementsByTagName(s)[0],\\nj=d.createElement(s),dl=l!=\\'dataLayer\\'?\\'&l=\\'+l:\\'\\';j.async=true;j.src=\\n\\'https://www.googletagmanager.com/gtm.js?id=\\'+i+dl;f.parentNode.insertBefore('"
      ]
     },
     "execution_count": 19,
     "metadata": {},
     "output_type": "execute_result"
    }
   ],
   "source": [
    "html[:400]"
   ]
  },
  {
   "cell_type": "code",
   "execution_count": 8,
   "metadata": {},
   "outputs": [],
   "source": [
    "soup = BeautifulSoup(html, 'lxml')"
   ]
  },
  {
   "cell_type": "code",
   "execution_count": 21,
   "metadata": {},
   "outputs": [
    {
     "data": {
      "text/plain": [
       "bs4.BeautifulSoup"
      ]
     },
     "execution_count": 21,
     "metadata": {},
     "output_type": "execute_result"
    }
   ],
   "source": [
    "type(soup)"
   ]
  },
  {
   "cell_type": "code",
   "execution_count": 23,
   "metadata": {},
   "outputs": [
    {
     "data": {
      "text/plain": [
       "<header>\n",
       "<h1>Meet WordPress</h1>\n",
       "<p class=\"subheading\">WordPress is open source software you can use to create a beautiful website, blog, or app.</p>\n",
       "</header>"
      ]
     },
     "execution_count": 23,
     "metadata": {},
     "output_type": "execute_result"
    }
   ],
   "source": [
    "soup.find('div', id='home-welcome').find('header')"
   ]
  },
  {
   "cell_type": "code",
   "execution_count": null,
   "metadata": {},
   "outputs": [],
   "source": [
    "soup.find('div', id='home-welcome').find('header').find('h1').text"
   ]
  },
  {
   "cell_type": "code",
   "execution_count": null,
   "metadata": {},
   "outputs": [],
   "source": [
    "## 2"
   ]
  },
  {
   "cell_type": "code",
   "execution_count": 25,
   "metadata": {},
   "outputs": [],
   "source": [
    "html = requests.get('https://wordpress.org/plugins/').text"
   ]
  },
  {
   "cell_type": "code",
   "execution_count": 26,
   "metadata": {},
   "outputs": [],
   "source": [
    "soup = BeautifulSoup(html, 'lxml')"
   ]
  },
  {
   "cell_type": "code",
   "execution_count": 32,
   "metadata": {},
   "outputs": [],
   "source": [
    "s = soup.find_all('section')"
   ]
  },
  {
   "cell_type": "code",
   "execution_count": 45,
   "metadata": {
    "scrolled": true
   },
   "outputs": [
    {
     "data": {
      "text/plain": [
       "[<section class=\"plugin-section\">\n",
       " <header class=\"section-header\">\n",
       " <h2 class=\"section-title\">Block-Enabled Plugins</h2>\n",
       " <a class=\"section-link\" href=\"https://wordpress.org/plugins/browse/blocks/\">\n",
       " \t\t\t\t\t\tSee all <span class=\"screen-reader-text\">Block-Enabled Plugins</span> </a>\n",
       " </header>\n",
       " <article class=\"plugin-card post-39544 plugin type-plugin status-publish hentry plugin_section-blocks plugin_category-customization plugin_category-media plugin_contributors-awordpresslife plugin_committers-awordpresslife plugin_tags-gallery-slideshow plugin_tags-image-slider plugin_tags-photo-slider plugin_tags-slider plugin_tags-slider-gallery\">\n",
       " <div class=\"entry-thumbnail\">\n",
       " <a href=\"https://wordpress.org/plugins/slider-responsive-slideshow/\" rel=\"bookmark\">\n",
       " <img class=\"plugin-icon\" src=\"https://ps.w.org/slider-responsive-slideshow/assets/icon-256x256.png?rev=1968153\" srcset=\"https://ps.w.org/slider-responsive-slideshow/assets/icon-128x128.png?rev=1968153, https://ps.w.org/slider-responsive-slideshow/assets/icon-256x256.png?rev=1968153 2x\"/> </a>\n",
       " </div><div class=\"entry\">\n",
       " <header class=\"entry-header\">\n",
       " <h3 class=\"entry-title\"><a href=\"https://wordpress.org/plugins/slider-responsive-slideshow/\" rel=\"bookmark\">Slider Responsive Slideshow – Image slider, Gallery slideshow</a></h3> </header><!-- .entry-header -->\n",
       " <div class=\"plugin-rating\"><div aria-label=\"5 out of 5 stars\" class=\"wporg-ratings\" data-rating=\"5\" data-title-template=\"%s out of 5 stars\" style=\"color:#ffb900\"><span class=\"dashicons dashicons-star-filled\"></span><span class=\"dashicons dashicons-star-filled\"></span><span class=\"dashicons dashicons-star-filled\"></span><span class=\"dashicons dashicons-star-filled\"></span><span class=\"dashicons dashicons-star-filled\"></span></div><span class=\"rating-count\">(<a href=\"https://wordpress.org/support/plugin/slider-responsive-slideshow/reviews/\">14<span class=\"screen-reader-text\"> total ratings</span></a>)</span></div>\n",
       " <div class=\"entry-excerpt\">\n",
       " <p>Responsive slider plugin for your WordPres website. Carousel, Responsive Image Slider, Photo slider, Slider Gallery.</p>\n",
       " </div><!-- .entry-excerpt -->\n",
       " </div>\n",
       " <hr/>\n",
       " <footer>\n",
       " <span class=\"plugin-author\">\n",
       " <i class=\"dashicons dashicons-admin-users\"></i> A WP Life\t\t</span>\n",
       " <span class=\"active-installs\">\n",
       " <i class=\"dashicons dashicons-chart-area\"></i>\n",
       " \t\t\t2,000+ active installations\t\t</span>\n",
       " <span class=\"tested-with\">\n",
       " <i class=\"dashicons dashicons-wordpress-alt\"></i>\n",
       " \t\t\t\tTested with 5.6.1\t\t\t</span>\n",
       " <span class=\"last-updated\">\n",
       " <i class=\"dashicons dashicons-calendar\"></i>\n",
       " \t\t\tUpdated 2 months ago\t\t</span>\n",
       " </footer>\n",
       " </article><article class=\"plugin-card post-1029 plugin type-plugin status-publish hentry plugin_section-blocks plugin_category-contact-forms plugin_category-ecommerce plugin_category-utilities-and-tools plugin_contributors-codepeople plugin_committers-codepeople plugin_tags-calculator plugin_tags-contact-form plugin_tags-form plugin_tags-form-builder plugin_tags-quote-form\">\n",
       " <div class=\"entry-thumbnail\">\n",
       " <a href=\"https://wordpress.org/plugins/calculated-fields-form/\" rel=\"bookmark\">\n",
       " <img class=\"plugin-icon\" src=\"https://ps.w.org/calculated-fields-form/assets/icon-256x256.jpg?rev=1734377\" srcset=\"https://ps.w.org/calculated-fields-form/assets/icon-128x128.jpg?rev=1734377, https://ps.w.org/calculated-fields-form/assets/icon-256x256.jpg?rev=1734377 2x\"/> </a>\n",
       " </div><div class=\"entry\">\n",
       " <header class=\"entry-header\">\n",
       " <h3 class=\"entry-title\"><a href=\"https://wordpress.org/plugins/calculated-fields-form/\" rel=\"bookmark\">Calculated Fields Form</a></h3> </header><!-- .entry-header -->\n",
       " <div class=\"plugin-rating\"><div aria-label=\"5 out of 5 stars\" class=\"wporg-ratings\" data-rating=\"5\" data-title-template=\"%s out of 5 stars\" style=\"color:#ffb900\"><span class=\"dashicons dashicons-star-filled\"></span><span class=\"dashicons dashicons-star-filled\"></span><span class=\"dashicons dashicons-star-filled\"></span><span class=\"dashicons dashicons-star-filled\"></span><span class=\"dashicons dashicons-star-filled\"></span></div><span class=\"rating-count\">(<a href=\"https://wordpress.org/support/plugin/calculated-fields-form/reviews/\">677<span class=\"screen-reader-text\"> total ratings</span></a>)</span></div>\n",
       " <div class=\"entry-excerpt\">\n",
       " <p>Calculated Fields Form is a plugin for creating forms with dynamically calculated fields and display…</p>\n",
       " </div><!-- .entry-excerpt -->\n",
       " </div>\n",
       " <hr/>\n",
       " <footer>\n",
       " <span class=\"plugin-author\">\n",
       " <i class=\"dashicons dashicons-admin-users\"></i> CodePeople\t\t</span>\n",
       " <span class=\"active-installs\">\n",
       " <i class=\"dashicons dashicons-chart-area\"></i>\n",
       " \t\t\t60,000+ active installations\t\t</span>\n",
       " <span class=\"tested-with\">\n",
       " <i class=\"dashicons dashicons-wordpress-alt\"></i>\n",
       " \t\t\t\tTested with 5.6.1\t\t\t</span>\n",
       " <span class=\"last-updated\">\n",
       " <i class=\"dashicons dashicons-calendar\"></i>\n",
       " \t\t\tUpdated 3 days ago\t\t</span>\n",
       " </footer>\n",
       " </article><article class=\"plugin-card post-97925 plugin type-plugin status-publish hentry plugin_section-blocks plugin_category-contact-forms plugin_contributors-techjewel plugin_contributors-wpmanageninja plugin_committers-techjewel plugin_committers-wpmanageninja plugin_support_reps-jeffdunham plugin_tags-donations plugin_tags-payments plugin_tags-paypal plugin_tags-stripe-checkout plugin_tags-stripe-payments\">\n",
       " <div class=\"entry-thumbnail\">\n",
       " <a href=\"https://wordpress.org/plugins/wp-payment-form/\" rel=\"bookmark\">\n",
       " <img class=\"plugin-icon\" src=\"https://ps.w.org/wp-payment-form/assets/icon-256x256.png?rev=2108991\"/> </a>\n",
       " </div><div class=\"entry\">\n",
       " <header class=\"entry-header\">\n",
       " <h3 class=\"entry-title\"><a href=\"https://wordpress.org/plugins/wp-payment-form/\" rel=\"bookmark\">Stripe Payments Plugin for WordPress – WPPayForm</a></h3> </header><!-- .entry-header -->\n",
       " <div class=\"plugin-rating\"><div aria-label=\"4.5 out of 5 stars\" class=\"wporg-ratings\" data-rating=\"4.5\" data-title-template=\"%s out of 5 stars\" style=\"color:#ffb900\"><span class=\"dashicons dashicons-star-filled\"></span><span class=\"dashicons dashicons-star-filled\"></span><span class=\"dashicons dashicons-star-filled\"></span><span class=\"dashicons dashicons-star-filled\"></span><span class=\"dashicons dashicons-star-half\"></span></div><span class=\"rating-count\">(<a href=\"https://wordpress.org/support/plugin/wp-payment-form/reviews/\">14<span class=\"screen-reader-text\"> total ratings</span></a>)</span></div>\n",
       " <div class=\"entry-excerpt\">\n",
       " <p>Simply Accept Payments in WordPress with Stripe (PayPal also supported). Increase your conversion rate for…</p>\n",
       " </div><!-- .entry-excerpt -->\n",
       " </div>\n",
       " <hr/>\n",
       " <footer>\n",
       " <span class=\"plugin-author\">\n",
       " <i class=\"dashicons dashicons-admin-users\"></i> WPManageNinja LLC\t\t</span>\n",
       " <span class=\"active-installs\">\n",
       " <i class=\"dashicons dashicons-chart-area\"></i>\n",
       " \t\t\t1,000+ active installations\t\t</span>\n",
       " <span class=\"tested-with\">\n",
       " <i class=\"dashicons dashicons-wordpress-alt\"></i>\n",
       " \t\t\t\tTested with 5.4.4\t\t\t</span>\n",
       " <span class=\"last-updated\">\n",
       " <i class=\"dashicons dashicons-calendar\"></i>\n",
       " \t\t\tUpdated 10 months ago\t\t</span>\n",
       " </footer>\n",
       " </article><article class=\"plugin-card post-95256 plugin type-plugin status-publish hentry plugin_section-blocks plugin_category-media plugin_category-social-and-sharing plugin_contributors-freemius plugin_contributors-plugins360 plugin_contributors-wpvideogallery plugin_committers-plugins360 plugin_tags-video-gallery plugin_tags-youtube-channel plugin_tags-youtube-embed plugin_tags-youtube-gallery plugin_tags-youtube-playlist\">\n",
       " <div class=\"entry-thumbnail\">\n",
       " <a href=\"https://wordpress.org/plugins/automatic-youtube-gallery/\" rel=\"bookmark\">\n",
       " <img class=\"plugin-icon\" src=\"https://ps.w.org/automatic-youtube-gallery/assets/icon-128x128.png?rev=1992335\"/> </a>\n",
       " </div><div class=\"entry\">\n",
       " <header class=\"entry-header\">\n",
       " <h3 class=\"entry-title\"><a href=\"https://wordpress.org/plugins/automatic-youtube-gallery/\" rel=\"bookmark\">Automatic YouTube Gallery</a></h3> </header><!-- .entry-header -->\n",
       " <div class=\"plugin-rating\"><div aria-label=\"5 out of 5 stars\" class=\"wporg-ratings\" data-rating=\"5\" data-title-template=\"%s out of 5 stars\" style=\"color:#ffb900\"><span class=\"dashicons dashicons-star-filled\"></span><span class=\"dashicons dashicons-star-filled\"></span><span class=\"dashicons dashicons-star-filled\"></span><span class=\"dashicons dashicons-star-filled\"></span><span class=\"dashicons dashicons-star-filled\"></span></div><span class=\"rating-count\">(<a href=\"https://wordpress.org/support/plugin/automatic-youtube-gallery/reviews/\">9<span class=\"screen-reader-text\"> total ratings</span></a>)</span></div>\n",
       " <div class=\"entry-excerpt\">\n",
       " <p>Build dynamic video galleries by simply adding a YouTube USERNAME, CHANNEL, PLAYLIST, SEARCH TERM or…</p>\n",
       " </div><!-- .entry-excerpt -->\n",
       " </div>\n",
       " <hr/>\n",
       " <footer>\n",
       " <span class=\"plugin-author\">\n",
       " <i class=\"dashicons dashicons-admin-users\"></i> Team Plugins360\t\t</span>\n",
       " <span class=\"active-installs\">\n",
       " <i class=\"dashicons dashicons-chart-area\"></i>\n",
       " \t\t\t2,000+ active installations\t\t</span>\n",
       " <span class=\"tested-with\">\n",
       " <i class=\"dashicons dashicons-wordpress-alt\"></i>\n",
       " \t\t\t\tTested with 5.6.1\t\t\t</span>\n",
       " <span class=\"last-updated\">\n",
       " <i class=\"dashicons dashicons-calendar\"></i>\n",
       " \t\t\tUpdated 2 months ago\t\t</span>\n",
       " </footer>\n",
       " </article> </section>,\n",
       " <section class=\"plugin-section\">\n",
       " <header class=\"section-header\">\n",
       " <h2 class=\"section-title\">Featured Plugins</h2>\n",
       " <a class=\"section-link\" href=\"https://wordpress.org/plugins/browse/featured/\">\n",
       " \t\t\t\t\t\tSee all <span class=\"screen-reader-text\">Featured Plugins</span> </a>\n",
       " </header>\n",
       " <article class=\"plugin-card post-76189 plugin type-plugin status-publish hentry plugin_section-featured plugin_category-editor-and-writing plugin_contributors-alexislloyd plugin_contributors-azaozz plugin_contributors-chanthaboune plugin_contributors-desrosj plugin_contributors-luciano-croce plugin_contributors-melchoyce plugin_contributors-pento plugin_contributors-wordpressdotorg plugin_contributors-youknowriad plugin_committers-azaozz plugin_tags-classic-editor plugin_tags-disable plugin_tags-disable-gutenberg plugin_tags-editor plugin_tags-gutenberg\">\n",
       " <div class=\"entry-thumbnail\">\n",
       " <a href=\"https://wordpress.org/plugins/classic-editor/\" rel=\"bookmark\">\n",
       " <img class=\"plugin-icon\" src=\"https://ps.w.org/classic-editor/assets/icon-256x256.png?rev=1998671\" srcset=\"https://ps.w.org/classic-editor/assets/icon-128x128.png?rev=1998671, https://ps.w.org/classic-editor/assets/icon-256x256.png?rev=1998671 2x\"/> </a>\n",
       " </div><div class=\"entry\">\n",
       " <header class=\"entry-header\">\n",
       " <h3 class=\"entry-title\"><a href=\"https://wordpress.org/plugins/classic-editor/\" rel=\"bookmark\">Classic Editor</a></h3> </header><!-- .entry-header -->\n",
       " <div class=\"plugin-rating\"><div aria-label=\"5 out of 5 stars\" class=\"wporg-ratings\" data-rating=\"5\" data-title-template=\"%s out of 5 stars\" style=\"color:#ffb900\"><span class=\"dashicons dashicons-star-filled\"></span><span class=\"dashicons dashicons-star-filled\"></span><span class=\"dashicons dashicons-star-filled\"></span><span class=\"dashicons dashicons-star-filled\"></span><span class=\"dashicons dashicons-star-filled\"></span></div><span class=\"rating-count\">(<a href=\"https://wordpress.org/support/plugin/classic-editor/reviews/\">926<span class=\"screen-reader-text\"> total ratings</span></a>)</span></div>\n",
       " <div class=\"entry-excerpt\">\n",
       " <p>Enables the previous \"classic\" editor and the old-style Edit Post screen with TinyMCE, Meta Boxes,…</p>\n",
       " </div><!-- .entry-excerpt -->\n",
       " </div>\n",
       " <hr/>\n",
       " <footer>\n",
       " <span class=\"plugin-author\">\n",
       " <i class=\"dashicons dashicons-admin-users\"></i> WordPress Contributors\t\t</span>\n",
       " <span class=\"active-installs\">\n",
       " <i class=\"dashicons dashicons-chart-area\"></i>\n",
       " \t\t\t5+ million active installations\t\t</span>\n",
       " <span class=\"tested-with\">\n",
       " <i class=\"dashicons dashicons-wordpress-alt\"></i>\n",
       " \t\t\t\tTested with 5.6.1\t\t\t</span>\n",
       " <span class=\"last-updated\">\n",
       " <i class=\"dashicons dashicons-calendar\"></i>\n",
       " \t\t\tUpdated 2 months ago\t\t</span>\n",
       " </footer>\n",
       " </article><article class=\"plugin-card post-113 plugin type-plugin status-publish hentry plugin_section-featured plugin_category-discussion-and-community plugin_category-security-and-spam-protection plugin_contributors-andy plugin_contributors-automattic plugin_contributors-cfinke plugin_contributors-eoigal plugin_contributors-jgs plugin_contributors-josephscott plugin_contributors-lessbloat plugin_contributors-matt plugin_contributors-mdawaffe plugin_contributors-procifer plugin_contributors-ryan plugin_contributors-stephdau plugin_contributors-tellyworth plugin_committers-automattic plugin_committers-cfinke plugin_committers-eoigal plugin_committers-procifer plugin_committers-stephdau plugin_support_reps-csonnek plugin_support_reps-tmmbecker plugin_tags-anti-spam plugin_tags-antispam plugin_tags-comments plugin_tags-contact-form plugin_tags-spam\">\n",
       " <div class=\"entry-thumbnail\">\n",
       " <a href=\"https://wordpress.org/plugins/akismet/\" rel=\"bookmark\">\n",
       " <img class=\"plugin-icon\" src=\"https://ps.w.org/akismet/assets/icon-256x256.png?rev=969272\" srcset=\"https://ps.w.org/akismet/assets/icon-128x128.png?rev=969272, https://ps.w.org/akismet/assets/icon-256x256.png?rev=969272 2x\"/> </a>\n",
       " </div><div class=\"entry\">\n",
       " <header class=\"entry-header\">\n",
       " <h3 class=\"entry-title\"><a href=\"https://wordpress.org/plugins/akismet/\" rel=\"bookmark\">Akismet Spam Protection</a></h3> </header><!-- .entry-header -->\n",
       " <div class=\"plugin-rating\"><div aria-label=\"4.5 out of 5 stars\" class=\"wporg-ratings\" data-rating=\"4.5\" data-title-template=\"%s out of 5 stars\" style=\"color:#ffb900\"><span class=\"dashicons dashicons-star-filled\"></span><span class=\"dashicons dashicons-star-filled\"></span><span class=\"dashicons dashicons-star-filled\"></span><span class=\"dashicons dashicons-star-filled\"></span><span class=\"dashicons dashicons-star-half\"></span></div><span class=\"rating-count\">(<a href=\"https://wordpress.org/support/plugin/akismet/reviews/\">900<span class=\"screen-reader-text\"> total ratings</span></a>)</span></div>\n",
       " <div class=\"entry-excerpt\">\n",
       " <p>The best anti-spam protection to block spam comments and spam in a contact form. The…</p>\n",
       " </div><!-- .entry-excerpt -->\n",
       " </div>\n",
       " <hr/>\n",
       " <footer>\n",
       " <span class=\"plugin-author\">\n",
       " <i class=\"dashicons dashicons-admin-users\"></i> Automattic\t\t</span>\n",
       " <span class=\"active-installs\">\n",
       " <i class=\"dashicons dashicons-chart-area\"></i>\n",
       " \t\t\t5+ million active installations\t\t</span>\n",
       " <span class=\"tested-with\">\n",
       " <i class=\"dashicons dashicons-wordpress-alt\"></i>\n",
       " \t\t\t\tTested with 5.6.1\t\t\t</span>\n",
       " <span class=\"last-updated\">\n",
       " <i class=\"dashicons dashicons-calendar\"></i>\n",
       " \t\t\tUpdated 1 month ago\t\t</span>\n",
       " </footer>\n",
       " </article><article class=\"plugin-card post-85 plugin type-plugin status-publish hentry plugin_section-blocks plugin_section-featured plugin_category-contact-forms plugin_category-discussion-and-community plugin_category-media plugin_contributors-adamkheckler plugin_contributors-aduth plugin_contributors-akirk plugin_contributors-allendav plugin_contributors-alternatekev plugin_contributors-andy plugin_contributors-annezazu plugin_contributors-apeatling plugin_contributors-automattic plugin_contributors-azaozz plugin_contributors-barry plugin_contributors-batmoo plugin_contributors-beaulebens plugin_contributors-biskobe plugin_contributors-blobaugh plugin_contributors-brbrr plugin_contributors-cainm plugin_contributors-cena plugin_contributors-cfinke plugin_contributors-chaselivingston plugin_contributors-chellycat plugin_contributors-clickysteve plugin_contributors-csonnek plugin_contributors-danielbachhuber plugin_contributors-daniloercoli plugin_contributors-davoraltman plugin_contributors-delawski plugin_contributors-designsimply plugin_contributors-dllh plugin_contributors-drawmyface plugin_contributors-dsmart plugin_contributors-dzver plugin_contributors-ebinnion plugin_contributors-egregor plugin_contributors-eliorivero plugin_contributors-enej plugin_contributors-eoigal plugin_contributors-erania-pinnera plugin_contributors-ethitter plugin_contributors-fgiannar plugin_contributors-gcorne plugin_contributors-georgestephanis plugin_contributors-gibrown plugin_contributors-goldsounds plugin_contributors-hew plugin_contributors-hugobaeta plugin_contributors-hypertextranch plugin_contributors-iammattthomas plugin_contributors-iandunn plugin_contributors-jblz plugin_contributors-jeffgolenski plugin_contributors-jeherve plugin_contributors-jenhooks plugin_contributors-jenia plugin_contributors-jessefriedman plugin_contributors-jgs plugin_contributors-jkudish plugin_contributors-jmdodd plugin_contributors-joanrho plugin_contributors-johnjamesjacoby plugin_contributors-jshreve plugin_contributors-kbrownkd plugin_contributors-keoshi plugin_contributors-koke plugin_contributors-kraftbj plugin_contributors-lancewillett plugin_contributors-leogermani plugin_contributors-lschuyler plugin_contributors-macmanx plugin_contributors-martinremy plugin_contributors-matt plugin_contributors-mattwiebe plugin_contributors-matveb plugin_contributors-maverick3x6 plugin_contributors-mcsf plugin_contributors-mdawaffe plugin_contributors-mdbitz plugin_contributors-michael-arestad plugin_contributors-migueluy plugin_contributors-mikeyarce plugin_contributors-mkaz plugin_contributors-nancythanki plugin_contributors-nickmomrik plugin_contributors-obenland plugin_contributors-oskosk plugin_contributors-pento plugin_contributors-professor44 plugin_contributors-rachelsquirrel plugin_contributors-rdcoll plugin_contributors-richardmtl plugin_contributors-richardmuscat plugin_contributors-robertbpugh plugin_contributors-roccotripaldi plugin_contributors-ryancowles plugin_contributors-samhotchkiss plugin_contributors-scarstocea plugin_contributors-scottsweb plugin_contributors-sdquirk plugin_contributors-sermitr plugin_contributors-simison plugin_contributors-stephdau plugin_contributors-tmoorewp plugin_contributors-tyxla plugin_contributors-viper007bond plugin_contributors-westi plugin_contributors-yoavf plugin_contributors-zinigor plugin_committers-automattic plugin_committers-bjorsch plugin_committers-dsmart plugin_committers-goldsounds plugin_committers-jeherve plugin_committers-kbrownkd plugin_committers-kraftbj plugin_committers-mdawaffe plugin_committers-mdbitz plugin_committers-zinigor plugin_support_reps-adamkheckler plugin_support_reps-annezazu plugin_support_reps-bruceallen plugin_support_reps-cena plugin_support_reps-codestor plugin_support_reps-csonnek plugin_support_reps-darnelldibbles plugin_support_reps-dericleeyy plugin_support_reps-dougaitken plugin_support_reps-drawmyface plugin_support_reps-erania-pinnera plugin_support_reps-fresatomica plugin_support_reps-fstat plugin_support_reps-gaurav984 plugin_support_reps-gma992 plugin_support_reps-gsmumbo plugin_support_reps-htdat plugin_support_reps-jeherve plugin_support_reps-jenhooks plugin_support_reps-jerrysarcastic plugin_support_reps-kokkieh plugin_support_reps-kraftbj plugin_support_reps-lizkarkoski plugin_support_reps-lschuyler plugin_support_reps-macmanx plugin_support_reps-madhattersez plugin_support_reps-megosox plugin_support_reps-mzakariya plugin_support_reps-nazianzun plugin_support_reps-pmciano plugin_support_reps-ryancowles plugin_support_reps-snowmads plugin_support_reps-supernovia plugin_support_reps-tmmbecker plugin_support_reps-wpkaren plugin_tags-amp plugin_tags-backup plugin_tags-social plugin_tags-woocommerce plugin_tags-wp\">\n",
       " <div class=\"entry-thumbnail\">\n",
       " <a href=\"https://wordpress.org/plugins/jetpack/\" rel=\"bookmark\">\n",
       " <img class=\"plugin-icon\" src=\"https://ps.w.org/jetpack/assets/icon-256x256.png?rev=2394525\" srcset=\"https://ps.w.org/jetpack/assets/icon.svg?rev=2394525, https://ps.w.org/jetpack/assets/icon-256x256.png?rev=2394525 2x\"/> </a>\n",
       " </div><div class=\"entry\">\n",
       " <header class=\"entry-header\">\n",
       " <h3 class=\"entry-title\"><a href=\"https://wordpress.org/plugins/jetpack/\" rel=\"bookmark\">Jetpack – WP Security, Backup, Speed, &amp; Growth</a></h3> </header><!-- .entry-header -->\n",
       " <div class=\"plugin-rating\"><div aria-label=\"4 out of 5 stars\" class=\"wporg-ratings\" data-rating=\"4\" data-title-template=\"%s out of 5 stars\" style=\"color:#ffb900\"><span class=\"dashicons dashicons-star-filled\"></span><span class=\"dashicons dashicons-star-filled\"></span><span class=\"dashicons dashicons-star-filled\"></span><span class=\"dashicons dashicons-star-filled\"></span><span class=\"dashicons dashicons-star-empty\"></span></div><span class=\"rating-count\">(<a href=\"https://wordpress.org/support/plugin/jetpack/reviews/\">1,570<span class=\"screen-reader-text\"> total ratings</span></a>)</span></div>\n",
       " <div class=\"entry-excerpt\">\n",
       " <p>The best WP plugin for backup, anti spam, malware scan, CDN, AMP, social, search, contact…</p>\n",
       " </div><!-- .entry-excerpt -->\n",
       " </div>\n",
       " <hr/>\n",
       " <footer>\n",
       " <span class=\"plugin-author\">\n",
       " <i class=\"dashicons dashicons-admin-users\"></i> Automattic\t\t</span>\n",
       " <span class=\"active-installs\">\n",
       " <i class=\"dashicons dashicons-chart-area\"></i>\n",
       " \t\t\t5+ million active installations\t\t</span>\n",
       " <span class=\"tested-with\">\n",
       " <i class=\"dashicons dashicons-wordpress-alt\"></i>\n",
       " \t\t\t\tTested with 5.6.1\t\t\t</span>\n",
       " <span class=\"last-updated\">\n",
       " <i class=\"dashicons dashicons-calendar\"></i>\n",
       " \t\t\tUpdated 2 weeks ago\t\t</span>\n",
       " </footer>\n",
       " </article><article class=\"plugin-card post-70455 plugin type-plugin status-publish hentry plugin_section-beta plugin_section-featured plugin_contributors-joen plugin_contributors-karmatosed plugin_contributors-matveb plugin_committers-aduth plugin_committers-aristath plugin_committers-ellatrix plugin_committers-gutenbergplugin plugin_committers-gziolo plugin_committers-isabel_brison plugin_committers-itsjonq plugin_committers-joen plugin_committers-jorgefilipecosta plugin_committers-karmatosed plugin_committers-matveb plugin_committers-mcsf plugin_committers-nerrad plugin_committers-noisysocks plugin_committers-nosolosw plugin_committers-ntsekouras plugin_committers-pento plugin_committers-swissspidy plugin_committers-talldanwp plugin_committers-youknowriad plugin_committers-zieladam plugin_support_reps-ellatrix plugin_support_reps-paaljoachim\">\n",
       " <div class=\"entry-thumbnail\">\n",
       " <a href=\"https://wordpress.org/plugins/gutenberg/\" rel=\"bookmark\">\n",
       " <img class=\"plugin-icon\" src=\"https://ps.w.org/gutenberg/assets/icon-256x256.jpg?rev=1776042\" srcset=\"https://ps.w.org/gutenberg/assets/icon-128x128.jpg?rev=1776042, https://ps.w.org/gutenberg/assets/icon-256x256.jpg?rev=1776042 2x\"/> </a>\n",
       " </div><div class=\"entry\">\n",
       " <header class=\"entry-header\">\n",
       " <h3 class=\"entry-title\"><a href=\"https://wordpress.org/plugins/gutenberg/\" rel=\"bookmark\">Gutenberg</a></h3> </header><!-- .entry-header -->\n",
       " <div class=\"plugin-rating\"><div aria-label=\"2 out of 5 stars\" class=\"wporg-ratings\" data-rating=\"2\" data-title-template=\"%s out of 5 stars\" style=\"color:#ffb900\"><span class=\"dashicons dashicons-star-filled\"></span><span class=\"dashicons dashicons-star-filled\"></span><span class=\"dashicons dashicons-star-empty\"></span><span class=\"dashicons dashicons-star-empty\"></span><span class=\"dashicons dashicons-star-empty\"></span></div><span class=\"rating-count\">(<a href=\"https://wordpress.org/support/plugin/gutenberg/reviews/\">3,293<span class=\"screen-reader-text\"> total ratings</span></a>)</span></div>\n",
       " <div class=\"entry-excerpt\">\n",
       " <p>The Gutenberg plugin provides editing, customization, and site building features to WordPress. This beta plugin…</p>\n",
       " </div><!-- .entry-excerpt -->\n",
       " </div>\n",
       " <hr/>\n",
       " <footer>\n",
       " <span class=\"plugin-author\">\n",
       " <i class=\"dashicons dashicons-admin-users\"></i> Gutenberg Team\t\t</span>\n",
       " <span class=\"active-installs\">\n",
       " <i class=\"dashicons dashicons-chart-area\"></i>\n",
       " \t\t\t300,000+ active installations\t\t</span>\n",
       " <span class=\"tested-with\">\n",
       " <i class=\"dashicons dashicons-wordpress-alt\"></i>\n",
       " \t\t\t\tTested with 5.6.1\t\t\t</span>\n",
       " <span class=\"last-updated\">\n",
       " <i class=\"dashicons dashicons-calendar\"></i>\n",
       " \t\t\tUpdated 3 days ago\t\t</span>\n",
       " </footer>\n",
       " </article> </section>,\n",
       " <section class=\"plugin-section\">\n",
       " <header class=\"section-header\">\n",
       " <h2 class=\"section-title\">Beta Plugins</h2>\n",
       " <a class=\"section-link\" href=\"https://wordpress.org/plugins/browse/beta/\">\n",
       " \t\t\t\t\t\tSee all <span class=\"screen-reader-text\">Beta Plugins</span> </a>\n",
       " </header>\n",
       " <article class=\"plugin-card post-70455 plugin type-plugin status-publish hentry plugin_section-beta plugin_section-featured plugin_contributors-joen plugin_contributors-karmatosed plugin_contributors-matveb plugin_committers-aduth plugin_committers-aristath plugin_committers-ellatrix plugin_committers-gutenbergplugin plugin_committers-gziolo plugin_committers-isabel_brison plugin_committers-itsjonq plugin_committers-joen plugin_committers-jorgefilipecosta plugin_committers-karmatosed plugin_committers-matveb plugin_committers-mcsf plugin_committers-nerrad plugin_committers-noisysocks plugin_committers-nosolosw plugin_committers-ntsekouras plugin_committers-pento plugin_committers-swissspidy plugin_committers-talldanwp plugin_committers-youknowriad plugin_committers-zieladam plugin_support_reps-ellatrix plugin_support_reps-paaljoachim\">\n",
       " <div class=\"entry-thumbnail\">\n",
       " <a href=\"https://wordpress.org/plugins/gutenberg/\" rel=\"bookmark\">\n",
       " <img class=\"plugin-icon\" src=\"https://ps.w.org/gutenberg/assets/icon-256x256.jpg?rev=1776042\" srcset=\"https://ps.w.org/gutenberg/assets/icon-128x128.jpg?rev=1776042, https://ps.w.org/gutenberg/assets/icon-256x256.jpg?rev=1776042 2x\"/> </a>\n",
       " </div><div class=\"entry\">\n",
       " <header class=\"entry-header\">\n",
       " <h3 class=\"entry-title\"><a href=\"https://wordpress.org/plugins/gutenberg/\" rel=\"bookmark\">Gutenberg</a></h3> </header><!-- .entry-header -->\n",
       " <div class=\"plugin-rating\"><div aria-label=\"2 out of 5 stars\" class=\"wporg-ratings\" data-rating=\"2\" data-title-template=\"%s out of 5 stars\" style=\"color:#ffb900\"><span class=\"dashicons dashicons-star-filled\"></span><span class=\"dashicons dashicons-star-filled\"></span><span class=\"dashicons dashicons-star-empty\"></span><span class=\"dashicons dashicons-star-empty\"></span><span class=\"dashicons dashicons-star-empty\"></span></div><span class=\"rating-count\">(<a href=\"https://wordpress.org/support/plugin/gutenberg/reviews/\">3,293<span class=\"screen-reader-text\"> total ratings</span></a>)</span></div>\n",
       " <div class=\"entry-excerpt\">\n",
       " <p>The Gutenberg plugin provides editing, customization, and site building features to WordPress. This beta plugin…</p>\n",
       " </div><!-- .entry-excerpt -->\n",
       " </div>\n",
       " <hr/>\n",
       " <footer>\n",
       " <span class=\"plugin-author\">\n",
       " <i class=\"dashicons dashicons-admin-users\"></i> Gutenberg Team\t\t</span>\n",
       " <span class=\"active-installs\">\n",
       " <i class=\"dashicons dashicons-chart-area\"></i>\n",
       " \t\t\t300,000+ active installations\t\t</span>\n",
       " <span class=\"tested-with\">\n",
       " <i class=\"dashicons dashicons-wordpress-alt\"></i>\n",
       " \t\t\t\tTested with 5.6.1\t\t\t</span>\n",
       " <span class=\"last-updated\">\n",
       " <i class=\"dashicons dashicons-calendar\"></i>\n",
       " \t\t\tUpdated 3 days ago\t\t</span>\n",
       " </footer>\n",
       " </article><article class=\"plugin-card post-123287 plugin type-plugin status-publish hentry plugin_section-beta plugin_category-utilities-and-tools plugin_contributors-azaozz plugin_contributors-wordpressdotorg plugin_committers-azaozz plugin_tags-jquery\">\n",
       " <div class=\"entry-thumbnail\">\n",
       " <a href=\"https://wordpress.org/plugins/wp-jquery-update-test/\" rel=\"bookmark\">\n",
       " <img class=\"plugin-icon\" src=\"https://s.w.org/plugins/geopattern-icon/wp-jquery-update-test.svg\"/> </a>\n",
       " </div><div class=\"entry\">\n",
       " <header class=\"entry-header\">\n",
       " <h3 class=\"entry-title\"><a href=\"https://wordpress.org/plugins/wp-jquery-update-test/\" rel=\"bookmark\">Test jQuery Updates</a></h3> </header><!-- .entry-header -->\n",
       " <div class=\"plugin-rating\"><div aria-label=\"4 out of 5 stars\" class=\"wporg-ratings\" data-rating=\"4\" data-title-template=\"%s out of 5 stars\" style=\"color:#ffb900\"><span class=\"dashicons dashicons-star-filled\"></span><span class=\"dashicons dashicons-star-filled\"></span><span class=\"dashicons dashicons-star-filled\"></span><span class=\"dashicons dashicons-star-filled\"></span><span class=\"dashicons dashicons-star-empty\"></span></div><span class=\"rating-count\">(<a href=\"https://wordpress.org/support/plugin/wp-jquery-update-test/reviews/\">4<span class=\"screen-reader-text\"> total ratings</span></a>)</span></div>\n",
       " <div class=\"entry-excerpt\">\n",
       " <p>Test different versions of jQuery and jQuery UI.</p>\n",
       " </div><!-- .entry-excerpt -->\n",
       " </div>\n",
       " <hr/>\n",
       " <footer>\n",
       " <span class=\"plugin-author\">\n",
       " <i class=\"dashicons dashicons-admin-users\"></i> The WordPress Team\t\t</span>\n",
       " <span class=\"active-installs\">\n",
       " <i class=\"dashicons dashicons-chart-area\"></i>\n",
       " \t\t\t10,000+ active installations\t\t</span>\n",
       " <span class=\"tested-with\">\n",
       " <i class=\"dashicons dashicons-wordpress-alt\"></i>\n",
       " \t\t\t\tTested with 5.6.1\t\t\t</span>\n",
       " <span class=\"last-updated\">\n",
       " <i class=\"dashicons dashicons-calendar\"></i>\n",
       " \t\t\tUpdated 2 months ago\t\t</span>\n",
       " </footer>\n",
       " </article><article class=\"plugin-card post-117590 plugin type-plugin status-publish hentry plugin_section-beta plugin_contributors-audrasjb plugin_contributors-azaozz plugin_contributors-bookdude13 plugin_contributors-jeffpaul plugin_contributors-mapk plugin_contributors-pbiron plugin_contributors-ronalfy plugin_contributors-whodunitagency plugin_contributors-whyisjake plugin_contributors-wordpressdotorg plugin_contributors-xkon plugin_committers-audrasjb\">\n",
       " <div class=\"entry-thumbnail\">\n",
       " <a href=\"https://wordpress.org/plugins/wp-autoupdates/\" rel=\"bookmark\">\n",
       " <img class=\"plugin-icon\" src=\"https://ps.w.org/wp-autoupdates/assets/icon-256x256.png?rev=2246524\" srcset=\"https://ps.w.org/wp-autoupdates/assets/icon-128x128.png?rev=2246524, https://ps.w.org/wp-autoupdates/assets/icon-256x256.png?rev=2246524 2x\"/> </a>\n",
       " </div><div class=\"entry\">\n",
       " <header class=\"entry-header\">\n",
       " <h3 class=\"entry-title\"><a href=\"https://wordpress.org/plugins/wp-autoupdates/\" rel=\"bookmark\">WordPress Auto-updates</a></h3> </header><!-- .entry-header -->\n",
       " <div class=\"plugin-rating\"><div aria-label=\"5 out of 5 stars\" class=\"wporg-ratings\" data-rating=\"5\" data-title-template=\"%s out of 5 stars\" style=\"color:#ffb900\"><span class=\"dashicons dashicons-star-filled\"></span><span class=\"dashicons dashicons-star-filled\"></span><span class=\"dashicons dashicons-star-filled\"></span><span class=\"dashicons dashicons-star-filled\"></span><span class=\"dashicons dashicons-star-filled\"></span></div><span class=\"rating-count\">(<a href=\"https://wordpress.org/support/plugin/wp-autoupdates/reviews/\">10<span class=\"screen-reader-text\"> total ratings</span></a>)</span></div>\n",
       " <div class=\"entry-excerpt\">\n",
       " <p>A feature plugin to integrate Plugins &amp; Themes automatic updates in WordPress Core.</p>\n",
       " </div><!-- .entry-excerpt -->\n",
       " </div>\n",
       " <hr/>\n",
       " <footer>\n",
       " <span class=\"plugin-author\">\n",
       " <i class=\"dashicons dashicons-admin-users\"></i> The WordPress Team\t\t</span>\n",
       " <span class=\"active-installs\">\n",
       " <i class=\"dashicons dashicons-chart-area\"></i>\n",
       " \t\t\t600+ active installations\t\t</span>\n",
       " <span class=\"tested-with\">\n",
       " <i class=\"dashicons dashicons-wordpress-alt\"></i>\n",
       " \t\t\t\tTested with 5.4.4\t\t\t</span>\n",
       " <span class=\"last-updated\">\n",
       " <i class=\"dashicons dashicons-calendar\"></i>\n",
       " \t\t\tUpdated 4 months ago\t\t</span>\n",
       " </footer>\n",
       " </article><article class=\"plugin-card post-49 plugin type-plugin status-publish hentry plugin_section-beta plugin_category-authentication plugin_category-communication plugin_contributors-aaroncampbell plugin_contributors-alihusnainarshad plugin_contributors-extendwings plugin_contributors-georgestephanis plugin_contributors-johnbillion plugin_contributors-kasparsd plugin_contributors-netweb plugin_contributors-passoniate plugin_contributors-sgrant plugin_contributors-stevegrunwell plugin_contributors-stevenkword plugin_contributors-valendesigns plugin_committers-georgestephanis plugin_committers-kasparsd plugin_tags-authentication plugin_tags-login plugin_tags-totp plugin_tags-two-factor plugin_tags-two-step\">\n",
       " <div class=\"entry-thumbnail\">\n",
       " <a href=\"https://wordpress.org/plugins/two-factor/\" rel=\"bookmark\">\n",
       " <img class=\"plugin-icon\" src=\"https://ps.w.org/two-factor/assets/icon-256x256.png?rev=2125197\" srcset=\"https://ps.w.org/two-factor/assets/icon.svg?rev=2125197, https://ps.w.org/two-factor/assets/icon-256x256.png?rev=2125197 2x\"/> </a>\n",
       " </div><div class=\"entry\">\n",
       " <header class=\"entry-header\">\n",
       " <h3 class=\"entry-title\"><a href=\"https://wordpress.org/plugins/two-factor/\" rel=\"bookmark\">Two-Factor</a></h3> </header><!-- .entry-header -->\n",
       " <div class=\"plugin-rating\"><div aria-label=\"5 out of 5 stars\" class=\"wporg-ratings\" data-rating=\"5\" data-title-template=\"%s out of 5 stars\" style=\"color:#ffb900\"><span class=\"dashicons dashicons-star-filled\"></span><span class=\"dashicons dashicons-star-filled\"></span><span class=\"dashicons dashicons-star-filled\"></span><span class=\"dashicons dashicons-star-filled\"></span><span class=\"dashicons dashicons-star-filled\"></span></div><span class=\"rating-count\">(<a href=\"https://wordpress.org/support/plugin/two-factor/reviews/\">127<span class=\"screen-reader-text\"> total ratings</span></a>)</span></div>\n",
       " <div class=\"entry-excerpt\">\n",
       " <p>Enable Two-Factor Authentication using time-based one-time passwords (OTP, Google Authenticator), Universal 2nd Factor (FIDO U2F,…</p>\n",
       " </div><!-- .entry-excerpt -->\n",
       " </div>\n",
       " <hr/>\n",
       " <footer>\n",
       " <span class=\"plugin-author\">\n",
       " <i class=\"dashicons dashicons-admin-users\"></i> Plugin Contributors\t\t</span>\n",
       " <span class=\"active-installs\">\n",
       " <i class=\"dashicons dashicons-chart-area\"></i>\n",
       " \t\t\t20,000+ active installations\t\t</span>\n",
       " <span class=\"tested-with\">\n",
       " <i class=\"dashicons dashicons-wordpress-alt\"></i>\n",
       " \t\t\t\tTested with 5.5.3\t\t\t</span>\n",
       " <span class=\"last-updated\">\n",
       " <i class=\"dashicons dashicons-calendar\"></i>\n",
       " \t\t\tUpdated 6 months ago\t\t</span>\n",
       " </footer>\n",
       " </article> </section>,\n",
       " <section class=\"plugin-section\">\n",
       " <header class=\"section-header\">\n",
       " <h2 class=\"section-title\">Popular Plugins</h2>\n",
       " <a class=\"section-link\" href=\"https://wordpress.org/plugins/browse/popular/\">\n",
       " \t\t\t\t\t\tSee all <span class=\"screen-reader-text\">Popular Plugins</span> </a>\n",
       " </header>\n",
       " <article class=\"plugin-card post-158 plugin type-plugin status-publish hentry plugin_category-communication plugin_category-contact-forms plugin_category-utilities-and-tools plugin_contributors-takayukister plugin_committers-takayukister plugin_tags-contact plugin_tags-contact-form plugin_tags-email plugin_tags-feedback plugin_tags-form\">\n",
       " <div class=\"entry-thumbnail\">\n",
       " <a href=\"https://wordpress.org/plugins/contact-form-7/\" rel=\"bookmark\">\n",
       " <img class=\"plugin-icon\" src=\"https://ps.w.org/contact-form-7/assets/icon-256x256.png?rev=2279696\" srcset=\"https://ps.w.org/contact-form-7/assets/icon.svg?rev=2339255, https://ps.w.org/contact-form-7/assets/icon-256x256.png?rev=2279696 2x\"/> </a>\n",
       " </div><div class=\"entry\">\n",
       " <header class=\"entry-header\">\n",
       " <h3 class=\"entry-title\"><a href=\"https://wordpress.org/plugins/contact-form-7/\" rel=\"bookmark\">Contact Form 7</a></h3> </header><!-- .entry-header -->\n",
       " <div class=\"plugin-rating\"><div aria-label=\"4 out of 5 stars\" class=\"wporg-ratings\" data-rating=\"4\" data-title-template=\"%s out of 5 stars\" style=\"color:#ffb900\"><span class=\"dashicons dashicons-star-filled\"></span><span class=\"dashicons dashicons-star-filled\"></span><span class=\"dashicons dashicons-star-filled\"></span><span class=\"dashicons dashicons-star-filled\"></span><span class=\"dashicons dashicons-star-empty\"></span></div><span class=\"rating-count\">(<a href=\"https://wordpress.org/support/plugin/contact-form-7/reviews/\">1,843<span class=\"screen-reader-text\"> total ratings</span></a>)</span></div>\n",
       " <div class=\"entry-excerpt\">\n",
       " <p>Just another contact form plugin. Simple but flexible.</p>\n",
       " </div><!-- .entry-excerpt -->\n",
       " </div>\n",
       " <hr/>\n",
       " <footer>\n",
       " <span class=\"plugin-author\">\n",
       " <i class=\"dashicons dashicons-admin-users\"></i> Takayuki Miyoshi\t\t</span>\n",
       " <span class=\"active-installs\">\n",
       " <i class=\"dashicons dashicons-chart-area\"></i>\n",
       " \t\t\t5+ million active installations\t\t</span>\n",
       " <span class=\"tested-with\">\n",
       " <i class=\"dashicons dashicons-wordpress-alt\"></i>\n",
       " \t\t\t\tTested with 5.6.1\t\t\t</span>\n",
       " <span class=\"last-updated\">\n",
       " <i class=\"dashicons dashicons-calendar\"></i>\n",
       " \t\t\tUpdated 2 months ago\t\t</span>\n",
       " </footer>\n",
       " </article><article class=\"plugin-card post-159 plugin type-plugin status-publish hentry plugin_section-blocks plugin_category-seo-and-marketing plugin_category-social-and-sharing plugin_category-taxonomy plugin_contributors-joostdevalk plugin_contributors-omarreiss plugin_contributors-yoast plugin_committers-herregroen plugin_committers-ireneyoast plugin_committers-jipmoors plugin_committers-joostdevalk plugin_committers-omarreiss plugin_committers-yoast plugin_support_reps-amboutwe plugin_support_reps-awesomesaurus plugin_support_reps-benvaassen plugin_support_reps-devnihil plugin_support_reps-djennez plugin_support_reps-jeroenrotty plugin_support_reps-jerparx plugin_support_reps-marcanor plugin_support_reps-mayadaibrahim plugin_support_reps-maybellyne plugin_support_reps-mazedulislamkhan plugin_support_reps-mikes41720 plugin_support_reps-monbauza plugin_support_reps-onlyincebu plugin_support_reps-pcosta88 plugin_support_reps-priscillamc plugin_support_reps-suascat_wp plugin_support_reps-tacoverdo plugin_support_reps-tdevalk plugin_tags-content-analysis plugin_tags-readability plugin_tags-schema plugin_tags-seo plugin_tags-xml-sitemap\">\n",
       " <div class=\"entry-thumbnail\">\n",
       " <a href=\"https://wordpress.org/plugins/wordpress-seo/\" rel=\"bookmark\">\n",
       " <img class=\"plugin-icon\" src=\"https://ps.w.org/wordpress-seo/assets/icon-256x256.png?rev=2363699\" srcset=\"https://ps.w.org/wordpress-seo/assets/icon.svg?rev=2363699, https://ps.w.org/wordpress-seo/assets/icon-256x256.png?rev=2363699 2x\"/> </a>\n",
       " </div><div class=\"entry\">\n",
       " <header class=\"entry-header\">\n",
       " <h3 class=\"entry-title\"><a href=\"https://wordpress.org/plugins/wordpress-seo/\" rel=\"bookmark\">Yoast SEO</a></h3> </header><!-- .entry-header -->\n",
       " <div class=\"plugin-rating\"><div aria-label=\"5 out of 5 stars\" class=\"wporg-ratings\" data-rating=\"5\" data-title-template=\"%s out of 5 stars\" style=\"color:#ffb900\"><span class=\"dashicons dashicons-star-filled\"></span><span class=\"dashicons dashicons-star-filled\"></span><span class=\"dashicons dashicons-star-filled\"></span><span class=\"dashicons dashicons-star-filled\"></span><span class=\"dashicons dashicons-star-filled\"></span></div><span class=\"rating-count\">(<a href=\"https://wordpress.org/support/plugin/wordpress-seo/reviews/\">27,303<span class=\"screen-reader-text\"> total ratings</span></a>)</span></div>\n",
       " <div class=\"entry-excerpt\">\n",
       " <p>Improve your WordPress SEO: Write better content and have a fully optimized WordPress site using…</p>\n",
       " </div><!-- .entry-excerpt -->\n",
       " </div>\n",
       " <hr/>\n",
       " <footer>\n",
       " <span class=\"plugin-author\">\n",
       " <i class=\"dashicons dashicons-admin-users\"></i> Team Yoast\t\t</span>\n",
       " <span class=\"active-installs\">\n",
       " <i class=\"dashicons dashicons-chart-area\"></i>\n",
       " \t\t\t5+ million active installations\t\t</span>\n",
       " <span class=\"tested-with\">\n",
       " <i class=\"dashicons dashicons-wordpress-alt\"></i>\n",
       " \t\t\t\tTested with 5.6.1\t\t\t</span>\n",
       " <span class=\"last-updated\">\n",
       " <i class=\"dashicons dashicons-calendar\"></i>\n",
       " \t\t\tUpdated 4 days ago\t\t</span>\n",
       " </footer>\n",
       " </article><article class=\"plugin-card post-76189 plugin type-plugin status-publish hentry plugin_section-featured plugin_category-editor-and-writing plugin_contributors-alexislloyd plugin_contributors-azaozz plugin_contributors-chanthaboune plugin_contributors-desrosj plugin_contributors-luciano-croce plugin_contributors-melchoyce plugin_contributors-pento plugin_contributors-wordpressdotorg plugin_contributors-youknowriad plugin_committers-azaozz plugin_tags-classic-editor plugin_tags-disable plugin_tags-disable-gutenberg plugin_tags-editor plugin_tags-gutenberg\">\n",
       " <div class=\"entry-thumbnail\">\n",
       " <a href=\"https://wordpress.org/plugins/classic-editor/\" rel=\"bookmark\">\n",
       " <img class=\"plugin-icon\" src=\"https://ps.w.org/classic-editor/assets/icon-256x256.png?rev=1998671\" srcset=\"https://ps.w.org/classic-editor/assets/icon-128x128.png?rev=1998671, https://ps.w.org/classic-editor/assets/icon-256x256.png?rev=1998671 2x\"/> </a>\n",
       " </div><div class=\"entry\">\n",
       " <header class=\"entry-header\">\n",
       " <h3 class=\"entry-title\"><a href=\"https://wordpress.org/plugins/classic-editor/\" rel=\"bookmark\">Classic Editor</a></h3> </header><!-- .entry-header -->\n",
       " <div class=\"plugin-rating\"><div aria-label=\"5 out of 5 stars\" class=\"wporg-ratings\" data-rating=\"5\" data-title-template=\"%s out of 5 stars\" style=\"color:#ffb900\"><span class=\"dashicons dashicons-star-filled\"></span><span class=\"dashicons dashicons-star-filled\"></span><span class=\"dashicons dashicons-star-filled\"></span><span class=\"dashicons dashicons-star-filled\"></span><span class=\"dashicons dashicons-star-filled\"></span></div><span class=\"rating-count\">(<a href=\"https://wordpress.org/support/plugin/classic-editor/reviews/\">926<span class=\"screen-reader-text\"> total ratings</span></a>)</span></div>\n",
       " <div class=\"entry-excerpt\">\n",
       " <p>Enables the previous \"classic\" editor and the old-style Edit Post screen with TinyMCE, Meta Boxes,…</p>\n",
       " </div><!-- .entry-excerpt -->\n",
       " </div>\n",
       " <hr/>\n",
       " <footer>\n",
       " <span class=\"plugin-author\">\n",
       " <i class=\"dashicons dashicons-admin-users\"></i> WordPress Contributors\t\t</span>\n",
       " <span class=\"active-installs\">\n",
       " <i class=\"dashicons dashicons-chart-area\"></i>\n",
       " \t\t\t5+ million active installations\t\t</span>\n",
       " <span class=\"tested-with\">\n",
       " <i class=\"dashicons dashicons-wordpress-alt\"></i>\n",
       " \t\t\t\tTested with 5.6.1\t\t\t</span>\n",
       " <span class=\"last-updated\">\n",
       " <i class=\"dashicons dashicons-calendar\"></i>\n",
       " \t\t\tUpdated 2 months ago\t\t</span>\n",
       " </footer>\n",
       " </article><article class=\"plugin-card post-113 plugin type-plugin status-publish hentry plugin_section-featured plugin_category-discussion-and-community plugin_category-security-and-spam-protection plugin_contributors-andy plugin_contributors-automattic plugin_contributors-cfinke plugin_contributors-eoigal plugin_contributors-jgs plugin_contributors-josephscott plugin_contributors-lessbloat plugin_contributors-matt plugin_contributors-mdawaffe plugin_contributors-procifer plugin_contributors-ryan plugin_contributors-stephdau plugin_contributors-tellyworth plugin_committers-automattic plugin_committers-cfinke plugin_committers-eoigal plugin_committers-procifer plugin_committers-stephdau plugin_support_reps-csonnek plugin_support_reps-tmmbecker plugin_tags-anti-spam plugin_tags-antispam plugin_tags-comments plugin_tags-contact-form plugin_tags-spam\">\n",
       " <div class=\"entry-thumbnail\">\n",
       " <a href=\"https://wordpress.org/plugins/akismet/\" rel=\"bookmark\">\n",
       " <img class=\"plugin-icon\" src=\"https://ps.w.org/akismet/assets/icon-256x256.png?rev=969272\" srcset=\"https://ps.w.org/akismet/assets/icon-128x128.png?rev=969272, https://ps.w.org/akismet/assets/icon-256x256.png?rev=969272 2x\"/> </a>\n",
       " </div><div class=\"entry\">\n",
       " <header class=\"entry-header\">\n",
       " <h3 class=\"entry-title\"><a href=\"https://wordpress.org/plugins/akismet/\" rel=\"bookmark\">Akismet Spam Protection</a></h3> </header><!-- .entry-header -->\n",
       " <div class=\"plugin-rating\"><div aria-label=\"4.5 out of 5 stars\" class=\"wporg-ratings\" data-rating=\"4.5\" data-title-template=\"%s out of 5 stars\" style=\"color:#ffb900\"><span class=\"dashicons dashicons-star-filled\"></span><span class=\"dashicons dashicons-star-filled\"></span><span class=\"dashicons dashicons-star-filled\"></span><span class=\"dashicons dashicons-star-filled\"></span><span class=\"dashicons dashicons-star-half\"></span></div><span class=\"rating-count\">(<a href=\"https://wordpress.org/support/plugin/akismet/reviews/\">900<span class=\"screen-reader-text\"> total ratings</span></a>)</span></div>\n",
       " <div class=\"entry-excerpt\">\n",
       " <p>The best anti-spam protection to block spam comments and spam in a contact form. The…</p>\n",
       " </div><!-- .entry-excerpt -->\n",
       " </div>\n",
       " <hr/>\n",
       " <footer>\n",
       " <span class=\"plugin-author\">\n",
       " <i class=\"dashicons dashicons-admin-users\"></i> Automattic\t\t</span>\n",
       " <span class=\"active-installs\">\n",
       " <i class=\"dashicons dashicons-chart-area\"></i>\n",
       " \t\t\t5+ million active installations\t\t</span>\n",
       " <span class=\"tested-with\">\n",
       " <i class=\"dashicons dashicons-wordpress-alt\"></i>\n",
       " \t\t\t\tTested with 5.6.1\t\t\t</span>\n",
       " <span class=\"last-updated\">\n",
       " <i class=\"dashicons dashicons-calendar\"></i>\n",
       " \t\t\tUpdated 1 month ago\t\t</span>\n",
       " </footer>\n",
       " </article> </section>]"
      ]
     },
     "execution_count": 45,
     "metadata": {},
     "output_type": "execute_result"
    }
   ],
   "source": [
    "s"
   ]
  },
  {
   "cell_type": "code",
   "execution_count": 46,
   "metadata": {},
   "outputs": [
    {
     "data": {
      "text/plain": [
       "bs4.element.ResultSet"
      ]
     },
     "execution_count": 46,
     "metadata": {},
     "output_type": "execute_result"
    }
   ],
   "source": [
    "type(s)"
   ]
  },
  {
   "cell_type": "code",
   "execution_count": 35,
   "metadata": {},
   "outputs": [
    {
     "name": "stdout",
     "output_type": "stream",
     "text": [
      "['__add__', '__class__', '__contains__', '__delattr__', '__delitem__', '__dict__', '__dir__', '__doc__', '__eq__', '__format__', '__ge__', '__getattr__', '__getattribute__', '__getitem__', '__gt__', '__hash__', '__iadd__', '__imul__', '__init__', '__init_subclass__', '__iter__', '__le__', '__len__', '__lt__', '__module__', '__mul__', '__ne__', '__new__', '__reduce__', '__reduce_ex__', '__repr__', '__reversed__', '__rmul__', '__setattr__', '__setitem__', '__sizeof__', '__str__', '__subclasshook__', '__weakref__', 'append', 'clear', 'copy', 'count', 'extend', 'index', 'insert', 'pop', 'remove', 'reverse', 'sort', 'source']\n"
     ]
    }
   ],
   "source": [
    "print(dir(s))"
   ]
  },
  {
   "cell_type": "code",
   "execution_count": 36,
   "metadata": {},
   "outputs": [
    {
     "data": {
      "text/plain": [
       "4"
      ]
     },
     "execution_count": 36,
     "metadata": {},
     "output_type": "execute_result"
    }
   ],
   "source": [
    "len(s) # список"
   ]
  },
  {
   "cell_type": "code",
   "execution_count": 47,
   "metadata": {
    "scrolled": true
   },
   "outputs": [
    {
     "data": {
      "text/plain": [
       "<section class=\"plugin-section\">\n",
       "<header class=\"section-header\">\n",
       "<h2 class=\"section-title\">Popular Plugins</h2>\n",
       "<a class=\"section-link\" href=\"https://wordpress.org/plugins/browse/popular/\">\n",
       "\t\t\t\t\t\tSee all <span class=\"screen-reader-text\">Popular Plugins</span> </a>\n",
       "</header>\n",
       "<article class=\"plugin-card post-158 plugin type-plugin status-publish hentry plugin_category-communication plugin_category-contact-forms plugin_category-utilities-and-tools plugin_contributors-takayukister plugin_committers-takayukister plugin_tags-contact plugin_tags-contact-form plugin_tags-email plugin_tags-feedback plugin_tags-form\">\n",
       "<div class=\"entry-thumbnail\">\n",
       "<a href=\"https://wordpress.org/plugins/contact-form-7/\" rel=\"bookmark\">\n",
       "<img class=\"plugin-icon\" src=\"https://ps.w.org/contact-form-7/assets/icon-256x256.png?rev=2279696\" srcset=\"https://ps.w.org/contact-form-7/assets/icon.svg?rev=2339255, https://ps.w.org/contact-form-7/assets/icon-256x256.png?rev=2279696 2x\"/> </a>\n",
       "</div><div class=\"entry\">\n",
       "<header class=\"entry-header\">\n",
       "<h3 class=\"entry-title\"><a href=\"https://wordpress.org/plugins/contact-form-7/\" rel=\"bookmark\">Contact Form 7</a></h3> </header><!-- .entry-header -->\n",
       "<div class=\"plugin-rating\"><div aria-label=\"4 out of 5 stars\" class=\"wporg-ratings\" data-rating=\"4\" data-title-template=\"%s out of 5 stars\" style=\"color:#ffb900\"><span class=\"dashicons dashicons-star-filled\"></span><span class=\"dashicons dashicons-star-filled\"></span><span class=\"dashicons dashicons-star-filled\"></span><span class=\"dashicons dashicons-star-filled\"></span><span class=\"dashicons dashicons-star-empty\"></span></div><span class=\"rating-count\">(<a href=\"https://wordpress.org/support/plugin/contact-form-7/reviews/\">1,843<span class=\"screen-reader-text\"> total ratings</span></a>)</span></div>\n",
       "<div class=\"entry-excerpt\">\n",
       "<p>Just another contact form plugin. Simple but flexible.</p>\n",
       "</div><!-- .entry-excerpt -->\n",
       "</div>\n",
       "<hr/>\n",
       "<footer>\n",
       "<span class=\"plugin-author\">\n",
       "<i class=\"dashicons dashicons-admin-users\"></i> Takayuki Miyoshi\t\t</span>\n",
       "<span class=\"active-installs\">\n",
       "<i class=\"dashicons dashicons-chart-area\"></i>\n",
       "\t\t\t5+ million active installations\t\t</span>\n",
       "<span class=\"tested-with\">\n",
       "<i class=\"dashicons dashicons-wordpress-alt\"></i>\n",
       "\t\t\t\tTested with 5.6.1\t\t\t</span>\n",
       "<span class=\"last-updated\">\n",
       "<i class=\"dashicons dashicons-calendar\"></i>\n",
       "\t\t\tUpdated 2 months ago\t\t</span>\n",
       "</footer>\n",
       "</article><article class=\"plugin-card post-159 plugin type-plugin status-publish hentry plugin_section-blocks plugin_category-seo-and-marketing plugin_category-social-and-sharing plugin_category-taxonomy plugin_contributors-joostdevalk plugin_contributors-omarreiss plugin_contributors-yoast plugin_committers-herregroen plugin_committers-ireneyoast plugin_committers-jipmoors plugin_committers-joostdevalk plugin_committers-omarreiss plugin_committers-yoast plugin_support_reps-amboutwe plugin_support_reps-awesomesaurus plugin_support_reps-benvaassen plugin_support_reps-devnihil plugin_support_reps-djennez plugin_support_reps-jeroenrotty plugin_support_reps-jerparx plugin_support_reps-marcanor plugin_support_reps-mayadaibrahim plugin_support_reps-maybellyne plugin_support_reps-mazedulislamkhan plugin_support_reps-mikes41720 plugin_support_reps-monbauza plugin_support_reps-onlyincebu plugin_support_reps-pcosta88 plugin_support_reps-priscillamc plugin_support_reps-suascat_wp plugin_support_reps-tacoverdo plugin_support_reps-tdevalk plugin_tags-content-analysis plugin_tags-readability plugin_tags-schema plugin_tags-seo plugin_tags-xml-sitemap\">\n",
       "<div class=\"entry-thumbnail\">\n",
       "<a href=\"https://wordpress.org/plugins/wordpress-seo/\" rel=\"bookmark\">\n",
       "<img class=\"plugin-icon\" src=\"https://ps.w.org/wordpress-seo/assets/icon-256x256.png?rev=2363699\" srcset=\"https://ps.w.org/wordpress-seo/assets/icon.svg?rev=2363699, https://ps.w.org/wordpress-seo/assets/icon-256x256.png?rev=2363699 2x\"/> </a>\n",
       "</div><div class=\"entry\">\n",
       "<header class=\"entry-header\">\n",
       "<h3 class=\"entry-title\"><a href=\"https://wordpress.org/plugins/wordpress-seo/\" rel=\"bookmark\">Yoast SEO</a></h3> </header><!-- .entry-header -->\n",
       "<div class=\"plugin-rating\"><div aria-label=\"5 out of 5 stars\" class=\"wporg-ratings\" data-rating=\"5\" data-title-template=\"%s out of 5 stars\" style=\"color:#ffb900\"><span class=\"dashicons dashicons-star-filled\"></span><span class=\"dashicons dashicons-star-filled\"></span><span class=\"dashicons dashicons-star-filled\"></span><span class=\"dashicons dashicons-star-filled\"></span><span class=\"dashicons dashicons-star-filled\"></span></div><span class=\"rating-count\">(<a href=\"https://wordpress.org/support/plugin/wordpress-seo/reviews/\">27,303<span class=\"screen-reader-text\"> total ratings</span></a>)</span></div>\n",
       "<div class=\"entry-excerpt\">\n",
       "<p>Improve your WordPress SEO: Write better content and have a fully optimized WordPress site using…</p>\n",
       "</div><!-- .entry-excerpt -->\n",
       "</div>\n",
       "<hr/>\n",
       "<footer>\n",
       "<span class=\"plugin-author\">\n",
       "<i class=\"dashicons dashicons-admin-users\"></i> Team Yoast\t\t</span>\n",
       "<span class=\"active-installs\">\n",
       "<i class=\"dashicons dashicons-chart-area\"></i>\n",
       "\t\t\t5+ million active installations\t\t</span>\n",
       "<span class=\"tested-with\">\n",
       "<i class=\"dashicons dashicons-wordpress-alt\"></i>\n",
       "\t\t\t\tTested with 5.6.1\t\t\t</span>\n",
       "<span class=\"last-updated\">\n",
       "<i class=\"dashicons dashicons-calendar\"></i>\n",
       "\t\t\tUpdated 4 days ago\t\t</span>\n",
       "</footer>\n",
       "</article><article class=\"plugin-card post-76189 plugin type-plugin status-publish hentry plugin_section-featured plugin_category-editor-and-writing plugin_contributors-alexislloyd plugin_contributors-azaozz plugin_contributors-chanthaboune plugin_contributors-desrosj plugin_contributors-luciano-croce plugin_contributors-melchoyce plugin_contributors-pento plugin_contributors-wordpressdotorg plugin_contributors-youknowriad plugin_committers-azaozz plugin_tags-classic-editor plugin_tags-disable plugin_tags-disable-gutenberg plugin_tags-editor plugin_tags-gutenberg\">\n",
       "<div class=\"entry-thumbnail\">\n",
       "<a href=\"https://wordpress.org/plugins/classic-editor/\" rel=\"bookmark\">\n",
       "<img class=\"plugin-icon\" src=\"https://ps.w.org/classic-editor/assets/icon-256x256.png?rev=1998671\" srcset=\"https://ps.w.org/classic-editor/assets/icon-128x128.png?rev=1998671, https://ps.w.org/classic-editor/assets/icon-256x256.png?rev=1998671 2x\"/> </a>\n",
       "</div><div class=\"entry\">\n",
       "<header class=\"entry-header\">\n",
       "<h3 class=\"entry-title\"><a href=\"https://wordpress.org/plugins/classic-editor/\" rel=\"bookmark\">Classic Editor</a></h3> </header><!-- .entry-header -->\n",
       "<div class=\"plugin-rating\"><div aria-label=\"5 out of 5 stars\" class=\"wporg-ratings\" data-rating=\"5\" data-title-template=\"%s out of 5 stars\" style=\"color:#ffb900\"><span class=\"dashicons dashicons-star-filled\"></span><span class=\"dashicons dashicons-star-filled\"></span><span class=\"dashicons dashicons-star-filled\"></span><span class=\"dashicons dashicons-star-filled\"></span><span class=\"dashicons dashicons-star-filled\"></span></div><span class=\"rating-count\">(<a href=\"https://wordpress.org/support/plugin/classic-editor/reviews/\">926<span class=\"screen-reader-text\"> total ratings</span></a>)</span></div>\n",
       "<div class=\"entry-excerpt\">\n",
       "<p>Enables the previous \"classic\" editor and the old-style Edit Post screen with TinyMCE, Meta Boxes,…</p>\n",
       "</div><!-- .entry-excerpt -->\n",
       "</div>\n",
       "<hr/>\n",
       "<footer>\n",
       "<span class=\"plugin-author\">\n",
       "<i class=\"dashicons dashicons-admin-users\"></i> WordPress Contributors\t\t</span>\n",
       "<span class=\"active-installs\">\n",
       "<i class=\"dashicons dashicons-chart-area\"></i>\n",
       "\t\t\t5+ million active installations\t\t</span>\n",
       "<span class=\"tested-with\">\n",
       "<i class=\"dashicons dashicons-wordpress-alt\"></i>\n",
       "\t\t\t\tTested with 5.6.1\t\t\t</span>\n",
       "<span class=\"last-updated\">\n",
       "<i class=\"dashicons dashicons-calendar\"></i>\n",
       "\t\t\tUpdated 2 months ago\t\t</span>\n",
       "</footer>\n",
       "</article><article class=\"plugin-card post-113 plugin type-plugin status-publish hentry plugin_section-featured plugin_category-discussion-and-community plugin_category-security-and-spam-protection plugin_contributors-andy plugin_contributors-automattic plugin_contributors-cfinke plugin_contributors-eoigal plugin_contributors-jgs plugin_contributors-josephscott plugin_contributors-lessbloat plugin_contributors-matt plugin_contributors-mdawaffe plugin_contributors-procifer plugin_contributors-ryan plugin_contributors-stephdau plugin_contributors-tellyworth plugin_committers-automattic plugin_committers-cfinke plugin_committers-eoigal plugin_committers-procifer plugin_committers-stephdau plugin_support_reps-csonnek plugin_support_reps-tmmbecker plugin_tags-anti-spam plugin_tags-antispam plugin_tags-comments plugin_tags-contact-form plugin_tags-spam\">\n",
       "<div class=\"entry-thumbnail\">\n",
       "<a href=\"https://wordpress.org/plugins/akismet/\" rel=\"bookmark\">\n",
       "<img class=\"plugin-icon\" src=\"https://ps.w.org/akismet/assets/icon-256x256.png?rev=969272\" srcset=\"https://ps.w.org/akismet/assets/icon-128x128.png?rev=969272, https://ps.w.org/akismet/assets/icon-256x256.png?rev=969272 2x\"/> </a>\n",
       "</div><div class=\"entry\">\n",
       "<header class=\"entry-header\">\n",
       "<h3 class=\"entry-title\"><a href=\"https://wordpress.org/plugins/akismet/\" rel=\"bookmark\">Akismet Spam Protection</a></h3> </header><!-- .entry-header -->\n",
       "<div class=\"plugin-rating\"><div aria-label=\"4.5 out of 5 stars\" class=\"wporg-ratings\" data-rating=\"4.5\" data-title-template=\"%s out of 5 stars\" style=\"color:#ffb900\"><span class=\"dashicons dashicons-star-filled\"></span><span class=\"dashicons dashicons-star-filled\"></span><span class=\"dashicons dashicons-star-filled\"></span><span class=\"dashicons dashicons-star-filled\"></span><span class=\"dashicons dashicons-star-half\"></span></div><span class=\"rating-count\">(<a href=\"https://wordpress.org/support/plugin/akismet/reviews/\">900<span class=\"screen-reader-text\"> total ratings</span></a>)</span></div>\n",
       "<div class=\"entry-excerpt\">\n",
       "<p>The best anti-spam protection to block spam comments and spam in a contact form. The…</p>\n",
       "</div><!-- .entry-excerpt -->\n",
       "</div>\n",
       "<hr/>\n",
       "<footer>\n",
       "<span class=\"plugin-author\">\n",
       "<i class=\"dashicons dashicons-admin-users\"></i> Automattic\t\t</span>\n",
       "<span class=\"active-installs\">\n",
       "<i class=\"dashicons dashicons-chart-area\"></i>\n",
       "\t\t\t5+ million active installations\t\t</span>\n",
       "<span class=\"tested-with\">\n",
       "<i class=\"dashicons dashicons-wordpress-alt\"></i>\n",
       "\t\t\t\tTested with 5.6.1\t\t\t</span>\n",
       "<span class=\"last-updated\">\n",
       "<i class=\"dashicons dashicons-calendar\"></i>\n",
       "\t\t\tUpdated 1 month ago\t\t</span>\n",
       "</footer>\n",
       "</article> </section>"
      ]
     },
     "execution_count": 47,
     "metadata": {},
     "output_type": "execute_result"
    }
   ],
   "source": [
    "soup.find_all('section')[3]"
   ]
  },
  {
   "cell_type": "code",
   "execution_count": 48,
   "metadata": {},
   "outputs": [],
   "source": [
    "s = soup.find_all('section')[3]"
   ]
  },
  {
   "cell_type": "code",
   "execution_count": 49,
   "metadata": {},
   "outputs": [],
   "source": [
    "plugins = s.find_all('article') "
   ]
  },
  {
   "cell_type": "code",
   "execution_count": 50,
   "metadata": {
    "scrolled": true
   },
   "outputs": [
    {
     "data": {
      "text/plain": [
       "[<article class=\"plugin-card post-158 plugin type-plugin status-publish hentry plugin_category-communication plugin_category-contact-forms plugin_category-utilities-and-tools plugin_contributors-takayukister plugin_committers-takayukister plugin_tags-contact plugin_tags-contact-form plugin_tags-email plugin_tags-feedback plugin_tags-form\">\n",
       " <div class=\"entry-thumbnail\">\n",
       " <a href=\"https://wordpress.org/plugins/contact-form-7/\" rel=\"bookmark\">\n",
       " <img class=\"plugin-icon\" src=\"https://ps.w.org/contact-form-7/assets/icon-256x256.png?rev=2279696\" srcset=\"https://ps.w.org/contact-form-7/assets/icon.svg?rev=2339255, https://ps.w.org/contact-form-7/assets/icon-256x256.png?rev=2279696 2x\"/> </a>\n",
       " </div><div class=\"entry\">\n",
       " <header class=\"entry-header\">\n",
       " <h3 class=\"entry-title\"><a href=\"https://wordpress.org/plugins/contact-form-7/\" rel=\"bookmark\">Contact Form 7</a></h3> </header><!-- .entry-header -->\n",
       " <div class=\"plugin-rating\"><div aria-label=\"4 out of 5 stars\" class=\"wporg-ratings\" data-rating=\"4\" data-title-template=\"%s out of 5 stars\" style=\"color:#ffb900\"><span class=\"dashicons dashicons-star-filled\"></span><span class=\"dashicons dashicons-star-filled\"></span><span class=\"dashicons dashicons-star-filled\"></span><span class=\"dashicons dashicons-star-filled\"></span><span class=\"dashicons dashicons-star-empty\"></span></div><span class=\"rating-count\">(<a href=\"https://wordpress.org/support/plugin/contact-form-7/reviews/\">1,843<span class=\"screen-reader-text\"> total ratings</span></a>)</span></div>\n",
       " <div class=\"entry-excerpt\">\n",
       " <p>Just another contact form plugin. Simple but flexible.</p>\n",
       " </div><!-- .entry-excerpt -->\n",
       " </div>\n",
       " <hr/>\n",
       " <footer>\n",
       " <span class=\"plugin-author\">\n",
       " <i class=\"dashicons dashicons-admin-users\"></i> Takayuki Miyoshi\t\t</span>\n",
       " <span class=\"active-installs\">\n",
       " <i class=\"dashicons dashicons-chart-area\"></i>\n",
       " \t\t\t5+ million active installations\t\t</span>\n",
       " <span class=\"tested-with\">\n",
       " <i class=\"dashicons dashicons-wordpress-alt\"></i>\n",
       " \t\t\t\tTested with 5.6.1\t\t\t</span>\n",
       " <span class=\"last-updated\">\n",
       " <i class=\"dashicons dashicons-calendar\"></i>\n",
       " \t\t\tUpdated 2 months ago\t\t</span>\n",
       " </footer>\n",
       " </article>,\n",
       " <article class=\"plugin-card post-159 plugin type-plugin status-publish hentry plugin_section-blocks plugin_category-seo-and-marketing plugin_category-social-and-sharing plugin_category-taxonomy plugin_contributors-joostdevalk plugin_contributors-omarreiss plugin_contributors-yoast plugin_committers-herregroen plugin_committers-ireneyoast plugin_committers-jipmoors plugin_committers-joostdevalk plugin_committers-omarreiss plugin_committers-yoast plugin_support_reps-amboutwe plugin_support_reps-awesomesaurus plugin_support_reps-benvaassen plugin_support_reps-devnihil plugin_support_reps-djennez plugin_support_reps-jeroenrotty plugin_support_reps-jerparx plugin_support_reps-marcanor plugin_support_reps-mayadaibrahim plugin_support_reps-maybellyne plugin_support_reps-mazedulislamkhan plugin_support_reps-mikes41720 plugin_support_reps-monbauza plugin_support_reps-onlyincebu plugin_support_reps-pcosta88 plugin_support_reps-priscillamc plugin_support_reps-suascat_wp plugin_support_reps-tacoverdo plugin_support_reps-tdevalk plugin_tags-content-analysis plugin_tags-readability plugin_tags-schema plugin_tags-seo plugin_tags-xml-sitemap\">\n",
       " <div class=\"entry-thumbnail\">\n",
       " <a href=\"https://wordpress.org/plugins/wordpress-seo/\" rel=\"bookmark\">\n",
       " <img class=\"plugin-icon\" src=\"https://ps.w.org/wordpress-seo/assets/icon-256x256.png?rev=2363699\" srcset=\"https://ps.w.org/wordpress-seo/assets/icon.svg?rev=2363699, https://ps.w.org/wordpress-seo/assets/icon-256x256.png?rev=2363699 2x\"/> </a>\n",
       " </div><div class=\"entry\">\n",
       " <header class=\"entry-header\">\n",
       " <h3 class=\"entry-title\"><a href=\"https://wordpress.org/plugins/wordpress-seo/\" rel=\"bookmark\">Yoast SEO</a></h3> </header><!-- .entry-header -->\n",
       " <div class=\"plugin-rating\"><div aria-label=\"5 out of 5 stars\" class=\"wporg-ratings\" data-rating=\"5\" data-title-template=\"%s out of 5 stars\" style=\"color:#ffb900\"><span class=\"dashicons dashicons-star-filled\"></span><span class=\"dashicons dashicons-star-filled\"></span><span class=\"dashicons dashicons-star-filled\"></span><span class=\"dashicons dashicons-star-filled\"></span><span class=\"dashicons dashicons-star-filled\"></span></div><span class=\"rating-count\">(<a href=\"https://wordpress.org/support/plugin/wordpress-seo/reviews/\">27,303<span class=\"screen-reader-text\"> total ratings</span></a>)</span></div>\n",
       " <div class=\"entry-excerpt\">\n",
       " <p>Improve your WordPress SEO: Write better content and have a fully optimized WordPress site using…</p>\n",
       " </div><!-- .entry-excerpt -->\n",
       " </div>\n",
       " <hr/>\n",
       " <footer>\n",
       " <span class=\"plugin-author\">\n",
       " <i class=\"dashicons dashicons-admin-users\"></i> Team Yoast\t\t</span>\n",
       " <span class=\"active-installs\">\n",
       " <i class=\"dashicons dashicons-chart-area\"></i>\n",
       " \t\t\t5+ million active installations\t\t</span>\n",
       " <span class=\"tested-with\">\n",
       " <i class=\"dashicons dashicons-wordpress-alt\"></i>\n",
       " \t\t\t\tTested with 5.6.1\t\t\t</span>\n",
       " <span class=\"last-updated\">\n",
       " <i class=\"dashicons dashicons-calendar\"></i>\n",
       " \t\t\tUpdated 4 days ago\t\t</span>\n",
       " </footer>\n",
       " </article>,\n",
       " <article class=\"plugin-card post-76189 plugin type-plugin status-publish hentry plugin_section-featured plugin_category-editor-and-writing plugin_contributors-alexislloyd plugin_contributors-azaozz plugin_contributors-chanthaboune plugin_contributors-desrosj plugin_contributors-luciano-croce plugin_contributors-melchoyce plugin_contributors-pento plugin_contributors-wordpressdotorg plugin_contributors-youknowriad plugin_committers-azaozz plugin_tags-classic-editor plugin_tags-disable plugin_tags-disable-gutenberg plugin_tags-editor plugin_tags-gutenberg\">\n",
       " <div class=\"entry-thumbnail\">\n",
       " <a href=\"https://wordpress.org/plugins/classic-editor/\" rel=\"bookmark\">\n",
       " <img class=\"plugin-icon\" src=\"https://ps.w.org/classic-editor/assets/icon-256x256.png?rev=1998671\" srcset=\"https://ps.w.org/classic-editor/assets/icon-128x128.png?rev=1998671, https://ps.w.org/classic-editor/assets/icon-256x256.png?rev=1998671 2x\"/> </a>\n",
       " </div><div class=\"entry\">\n",
       " <header class=\"entry-header\">\n",
       " <h3 class=\"entry-title\"><a href=\"https://wordpress.org/plugins/classic-editor/\" rel=\"bookmark\">Classic Editor</a></h3> </header><!-- .entry-header -->\n",
       " <div class=\"plugin-rating\"><div aria-label=\"5 out of 5 stars\" class=\"wporg-ratings\" data-rating=\"5\" data-title-template=\"%s out of 5 stars\" style=\"color:#ffb900\"><span class=\"dashicons dashicons-star-filled\"></span><span class=\"dashicons dashicons-star-filled\"></span><span class=\"dashicons dashicons-star-filled\"></span><span class=\"dashicons dashicons-star-filled\"></span><span class=\"dashicons dashicons-star-filled\"></span></div><span class=\"rating-count\">(<a href=\"https://wordpress.org/support/plugin/classic-editor/reviews/\">926<span class=\"screen-reader-text\"> total ratings</span></a>)</span></div>\n",
       " <div class=\"entry-excerpt\">\n",
       " <p>Enables the previous \"classic\" editor and the old-style Edit Post screen with TinyMCE, Meta Boxes,…</p>\n",
       " </div><!-- .entry-excerpt -->\n",
       " </div>\n",
       " <hr/>\n",
       " <footer>\n",
       " <span class=\"plugin-author\">\n",
       " <i class=\"dashicons dashicons-admin-users\"></i> WordPress Contributors\t\t</span>\n",
       " <span class=\"active-installs\">\n",
       " <i class=\"dashicons dashicons-chart-area\"></i>\n",
       " \t\t\t5+ million active installations\t\t</span>\n",
       " <span class=\"tested-with\">\n",
       " <i class=\"dashicons dashicons-wordpress-alt\"></i>\n",
       " \t\t\t\tTested with 5.6.1\t\t\t</span>\n",
       " <span class=\"last-updated\">\n",
       " <i class=\"dashicons dashicons-calendar\"></i>\n",
       " \t\t\tUpdated 2 months ago\t\t</span>\n",
       " </footer>\n",
       " </article>,\n",
       " <article class=\"plugin-card post-113 plugin type-plugin status-publish hentry plugin_section-featured plugin_category-discussion-and-community plugin_category-security-and-spam-protection plugin_contributors-andy plugin_contributors-automattic plugin_contributors-cfinke plugin_contributors-eoigal plugin_contributors-jgs plugin_contributors-josephscott plugin_contributors-lessbloat plugin_contributors-matt plugin_contributors-mdawaffe plugin_contributors-procifer plugin_contributors-ryan plugin_contributors-stephdau plugin_contributors-tellyworth plugin_committers-automattic plugin_committers-cfinke plugin_committers-eoigal plugin_committers-procifer plugin_committers-stephdau plugin_support_reps-csonnek plugin_support_reps-tmmbecker plugin_tags-anti-spam plugin_tags-antispam plugin_tags-comments plugin_tags-contact-form plugin_tags-spam\">\n",
       " <div class=\"entry-thumbnail\">\n",
       " <a href=\"https://wordpress.org/plugins/akismet/\" rel=\"bookmark\">\n",
       " <img class=\"plugin-icon\" src=\"https://ps.w.org/akismet/assets/icon-256x256.png?rev=969272\" srcset=\"https://ps.w.org/akismet/assets/icon-128x128.png?rev=969272, https://ps.w.org/akismet/assets/icon-256x256.png?rev=969272 2x\"/> </a>\n",
       " </div><div class=\"entry\">\n",
       " <header class=\"entry-header\">\n",
       " <h3 class=\"entry-title\"><a href=\"https://wordpress.org/plugins/akismet/\" rel=\"bookmark\">Akismet Spam Protection</a></h3> </header><!-- .entry-header -->\n",
       " <div class=\"plugin-rating\"><div aria-label=\"4.5 out of 5 stars\" class=\"wporg-ratings\" data-rating=\"4.5\" data-title-template=\"%s out of 5 stars\" style=\"color:#ffb900\"><span class=\"dashicons dashicons-star-filled\"></span><span class=\"dashicons dashicons-star-filled\"></span><span class=\"dashicons dashicons-star-filled\"></span><span class=\"dashicons dashicons-star-filled\"></span><span class=\"dashicons dashicons-star-half\"></span></div><span class=\"rating-count\">(<a href=\"https://wordpress.org/support/plugin/akismet/reviews/\">900<span class=\"screen-reader-text\"> total ratings</span></a>)</span></div>\n",
       " <div class=\"entry-excerpt\">\n",
       " <p>The best anti-spam protection to block spam comments and spam in a contact form. The…</p>\n",
       " </div><!-- .entry-excerpt -->\n",
       " </div>\n",
       " <hr/>\n",
       " <footer>\n",
       " <span class=\"plugin-author\">\n",
       " <i class=\"dashicons dashicons-admin-users\"></i> Automattic\t\t</span>\n",
       " <span class=\"active-installs\">\n",
       " <i class=\"dashicons dashicons-chart-area\"></i>\n",
       " \t\t\t5+ million active installations\t\t</span>\n",
       " <span class=\"tested-with\">\n",
       " <i class=\"dashicons dashicons-wordpress-alt\"></i>\n",
       " \t\t\t\tTested with 5.6.1\t\t\t</span>\n",
       " <span class=\"last-updated\">\n",
       " <i class=\"dashicons dashicons-calendar\"></i>\n",
       " \t\t\tUpdated 1 month ago\t\t</span>\n",
       " </footer>\n",
       " </article>]"
      ]
     },
     "execution_count": 50,
     "metadata": {},
     "output_type": "execute_result"
    }
   ],
   "source": [
    "plugins"
   ]
  },
  {
   "cell_type": "code",
   "execution_count": 52,
   "metadata": {
    "scrolled": true
   },
   "outputs": [
    {
     "name": "stdout",
     "output_type": "stream",
     "text": [
      "<article class=\"plugin-card post-158 plugin type-plugin status-publish hentry plugin_category-communication plugin_category-contact-forms plugin_category-utilities-and-tools plugin_contributors-takayukister plugin_committers-takayukister plugin_tags-contact plugin_tags-contact-form plugin_tags-email plugin_tags-feedback plugin_tags-form\">\n",
      "<div class=\"entry-thumbnail\">\n",
      "<a href=\"https://wordpress.org/plugins/contact-form-7/\" rel=\"bookmark\">\n",
      "<img class=\"plugin-icon\" src=\"https://ps.w.org/contact-form-7/assets/icon-256x256.png?rev=2279696\" srcset=\"https://ps.w.org/contact-form-7/assets/icon.svg?rev=2339255, https://ps.w.org/contact-form-7/assets/icon-256x256.png?rev=2279696 2x\"/> </a>\n",
      "</div><div class=\"entry\">\n",
      "<header class=\"entry-header\">\n",
      "<h3 class=\"entry-title\"><a href=\"https://wordpress.org/plugins/contact-form-7/\" rel=\"bookmark\">Contact Form 7</a></h3> </header><!-- .entry-header -->\n",
      "<div class=\"plugin-rating\"><div aria-label=\"4 out of 5 stars\" class=\"wporg-ratings\" data-rating=\"4\" data-title-template=\"%s out of 5 stars\" style=\"color:#ffb900\"><span class=\"dashicons dashicons-star-filled\"></span><span class=\"dashicons dashicons-star-filled\"></span><span class=\"dashicons dashicons-star-filled\"></span><span class=\"dashicons dashicons-star-filled\"></span><span class=\"dashicons dashicons-star-empty\"></span></div><span class=\"rating-count\">(<a href=\"https://wordpress.org/support/plugin/contact-form-7/reviews/\">1,843<span class=\"screen-reader-text\"> total ratings</span></a>)</span></div>\n",
      "<div class=\"entry-excerpt\">\n",
      "<p>Just another contact form plugin. Simple but flexible.</p>\n",
      "</div><!-- .entry-excerpt -->\n",
      "</div>\n",
      "<hr/>\n",
      "<footer>\n",
      "<span class=\"plugin-author\">\n",
      "<i class=\"dashicons dashicons-admin-users\"></i> Takayuki Miyoshi\t\t</span>\n",
      "<span class=\"active-installs\">\n",
      "<i class=\"dashicons dashicons-chart-area\"></i>\n",
      "\t\t\t5+ million active installations\t\t</span>\n",
      "<span class=\"tested-with\">\n",
      "<i class=\"dashicons dashicons-wordpress-alt\"></i>\n",
      "\t\t\t\tTested with 5.6.1\t\t\t</span>\n",
      "<span class=\"last-updated\">\n",
      "<i class=\"dashicons dashicons-calendar\"></i>\n",
      "\t\t\tUpdated 2 months ago\t\t</span>\n",
      "</footer>\n",
      "</article>\n"
     ]
    }
   ],
   "source": [
    "for plugin in plugins:\n",
    "    print(plugin)\n",
    "    break"
   ]
  },
  {
   "cell_type": "code",
   "execution_count": 56,
   "metadata": {},
   "outputs": [
    {
     "name": "stdout",
     "output_type": "stream",
     "text": [
      "Contact Form 7\n",
      "Yoast SEO\n",
      "Classic Editor\n",
      "Akismet Spam Protection\n"
     ]
    }
   ],
   "source": [
    "for plugin in plugins:    \n",
    "    name = plugin.find('h3').text\n",
    "    print(name)"
   ]
  },
  {
   "cell_type": "code",
   "execution_count": 58,
   "metadata": {},
   "outputs": [
    {
     "name": "stdout",
     "output_type": "stream",
     "text": [
      "https://wordpress.org/plugins/contact-form-7/\n",
      "https://wordpress.org/plugins/wordpress-seo/\n",
      "https://wordpress.org/plugins/classic-editor/\n",
      "https://wordpress.org/plugins/akismet/\n"
     ]
    }
   ],
   "source": [
    "for plugin in plugins:\n",
    "    url = plugin.find('h3').find('a').get('href')\n",
    "    print(url)"
   ]
  },
  {
   "cell_type": "code",
   "execution_count": 59,
   "metadata": {},
   "outputs": [
    {
     "name": "stdout",
     "output_type": "stream",
     "text": [
      "1,843 total ratings\n",
      "27,303 total ratings\n",
      "926 total ratings\n",
      "900 total ratings\n"
     ]
    }
   ],
   "source": [
    "for plugin in plugins:    \n",
    "    r = plugin.find('span', class_='rating-count').find('a').text    \n",
    "    print(r)"
   ]
  },
  {
   "cell_type": "code",
   "execution_count": 60,
   "metadata": {},
   "outputs": [],
   "source": [
    "def refined(s):\n",
    "    # 1,470 total ratings\n",
    "    r = s.split(' ')[0]   # 1,470\n",
    "    return r.replace(',', '') # 1470"
   ]
  },
  {
   "cell_type": "code",
   "execution_count": 61,
   "metadata": {},
   "outputs": [
    {
     "name": "stdout",
     "output_type": "stream",
     "text": [
      "1843\n",
      "27303\n",
      "926\n",
      "900\n"
     ]
    }
   ],
   "source": [
    "for plugin in plugins:    \n",
    "    r = plugin.find('span', class_='rating-count').find('a').text    \n",
    "    print(refined(r))    "
   ]
  },
  {
   "cell_type": "code",
   "execution_count": 64,
   "metadata": {},
   "outputs": [
    {
     "name": "stdout",
     "output_type": "stream",
     "text": [
      "{'name': 'Contact Form 7', 'url': 'https://wordpress.org/plugins/contact-form-7/', 'reviews': '1843'}\n",
      "{'name': 'Yoast SEO', 'url': 'https://wordpress.org/plugins/wordpress-seo/', 'reviews': '27303'}\n",
      "{'name': 'Classic Editor', 'url': 'https://wordpress.org/plugins/classic-editor/', 'reviews': '926'}\n",
      "{'name': 'Akismet Spam Protection', 'url': 'https://wordpress.org/plugins/akismet/', 'reviews': '900'}\n"
     ]
    }
   ],
   "source": [
    "for plugin in plugins:\n",
    "    name = plugin.find('h3').text\n",
    "    url = plugin.find('h3').find('a').get('href')\n",
    "    rating = refined(plugin.find('span', class_='rating-count').find('a').text)\n",
    "    \n",
    "    data = {'name': name, 'url': url, 'reviews': rating }\n",
    "    print(data)"
   ]
  },
  {
   "cell_type": "code",
   "execution_count": 63,
   "metadata": {},
   "outputs": [
    {
     "data": {
      "text/plain": [
       "{'name': 'Akismet Spam Protection',\n",
       " 'url': 'https://wordpress.org/plugins/akismet/',\n",
       " 'reviews': '900'}"
      ]
     },
     "execution_count": 63,
     "metadata": {},
     "output_type": "execute_result"
    }
   ],
   "source": [
    "data"
   ]
  },
  {
   "cell_type": "code",
   "execution_count": 66,
   "metadata": {},
   "outputs": [],
   "source": [
    "import csv\n",
    "\n",
    "def write_csv(data):\n",
    "    with open('plugins.csv', 'a') as f:\n",
    "        writer = csv.writer(f)\n",
    "\n",
    "        writer.writerow([data['name'],\n",
    "                         data['url'],\n",
    "                         data['reviews']] )"
   ]
  },
  {
   "cell_type": "code",
   "execution_count": 70,
   "metadata": {},
   "outputs": [],
   "source": [
    "for plugin in plugins:\n",
    "    name = plugin.find('h3').text\n",
    "    url = plugin.find('h3').find('a').get('href')\n",
    "    rating = refined(plugin.find('span', class_='rating-count').find('a').text)\n",
    "    \n",
    "    data = {'name': name, 'url': url, 'reviews': rating }    \n",
    "    write_csv(data)"
   ]
  },
  {
   "cell_type": "code",
   "execution_count": 72,
   "metadata": {},
   "outputs": [],
   "source": [
    "# %load 'plugins.csv'\n",
    "Contact Form 7,https://wordpress.org/plugins/contact-form-7/,1843\n",
    "Yoast SEO,https://wordpress.org/plugins/wordpress-seo/,27303\n",
    "Classic Editor,https://wordpress.org/plugins/classic-editor/,926\n",
    "Akismet Spam Protection,https://wordpress.org/plugins/akismet/,900\n"
   ]
  },
  {
   "cell_type": "code",
   "execution_count": 73,
   "metadata": {},
   "outputs": [],
   "source": [
    "## 3"
   ]
  },
  {
   "cell_type": "code",
   "execution_count": 82,
   "metadata": {},
   "outputs": [
    {
     "name": "stdout",
     "output_type": "stream",
     "text": [
      "salary: 2700 usd per month\n",
      "salary: 2100 usd\n",
      "2100 usd\n",
      "2300 usd\n"
     ]
    }
   ],
   "source": [
    "from bs4 import BeautifulSoup\n",
    "import re\n",
    "\n",
    "# .find()\n",
    "# .find_all()\n",
    "\n",
    "# .parent\n",
    "# .find_parent()\n",
    "\n",
    "# .parents\n",
    "# .find_parents()\n",
    "\n",
    "# .find_next_sibling()\n",
    "# .find_previous_sibling()\n",
    "\n",
    "def get_copywriter(tag):\n",
    "    whois = tag.find('div', id='whois').text.strip()\n",
    "    if 'Copywriter' in whois:\n",
    "        return tag\n",
    "    return None\n",
    "\n",
    "\n",
    "def get_salary(s):\n",
    "    # salary: 2700 usd per month\n",
    "    pattern = r'\\d{1,9}'\n",
    "    # salary = re.findall(pattern, s)[0]\n",
    "    print(salary)\n",
    "\n",
    "\n",
    "def main():\n",
    "    file = open('index.html').read()\n",
    "    soup = BeautifulSoup(file, 'lxml')\n",
    "    # row = soup.find_all('div', {'data-set': 'salary'})\n",
    "    #\n",
    "    # alena = soup.find('div', text='Alena').find_parent(class_='row')\n",
    "    # print(alena)\n",
    "\n",
    "    # copywriters = []\n",
    "    #\n",
    "    # persons = soup.find_all('div', class_='row')\n",
    "    # for person in persons:\n",
    "    #     cw = get_copywriter(person)\n",
    "    #     if cw:\n",
    "    #         copywriters.append(cw)\n",
    "    #\n",
    "    # print(copywriters)\n",
    "\n",
    "    salary = soup.find_all('div', text=re.compile('\\d{1,9}'))\n",
    "    for i in salary:\n",
    "        print(i.text)\n",
    "\n",
    "    # ^ - начало строки\n",
    "    # $ - конец строки\n",
    "    # . - любой символ\n",
    "    # + - неограниченное количество вхождений\n",
    "    # '\\d' - цифра\n",
    "    # '\\w' - буквы, цифры, _\n",
    "\n",
    "if __name__ == '__main__':\n",
    "    main()\n"
   ]
  },
  {
   "cell_type": "code",
   "execution_count": 83,
   "metadata": {},
   "outputs": [],
   "source": [
    "from bs4 import BeautifulSoup"
   ]
  },
  {
   "cell_type": "code",
   "execution_count": 84,
   "metadata": {},
   "outputs": [],
   "source": [
    "url = \"http://dfedorov.spb.ru/python3/data/index.html\""
   ]
  },
  {
   "cell_type": "code",
   "execution_count": 85,
   "metadata": {},
   "outputs": [],
   "source": [
    "html = requests.get(url).text"
   ]
  },
  {
   "cell_type": "code",
   "execution_count": 87,
   "metadata": {},
   "outputs": [
    {
     "data": {
      "text/plain": [
       "'<!DOCTYPE html>\\n<html lang=\"en\">\\n<head>\\n    <meta charset=\"UTF-8\">\\n    <title>Document</title>\\n</head>\\n<body>\\n    <div class=\"container\">\\n        <div class=\"row\">\\n            <div class=\"name\">Petr</div>\\n            <div id=\"whois\">Python developer</div>\\n            <div data-set=\"salary\">salary: 2700 usd per month</div>\\n            <div class=\"links\">\\n                <a href=\"https://www.google.ru\">Google</a>\\n                <a href=\"www.website.ru\">Website</a>\\n                <a href=\"doroga.ru\">Personal Webpage</a>\\n            </div>\\n            <div>\\n                <p></p>\\n                <p></p>\\n                <p></p>\\n                <p><a href=\"/cdn-cgi/l/email-protection\" class=\"__cf_email__\" data-cfemail=\"5724383a32173a363e3b\">[email&#160;protected]</a></p>\\n            </div>\\n        </div>\\n\\n        <div class=\"row\">\\n            <div class=\"name1\">\\n                <div class=\"name\">Alena</div>\\n            </div>\\n            <div id=\"whois\">Copywriter</div>\\n            <div data-set=\"salary\">salary: 2100 usd</div>\\n            <div class=\"links\">\\n                <a href=\"http://yandex.ru\">Яндекс</a>\\n                <a href=\"https://yandex.ru/website\">Яндекс</a>\\n                <a href=\"https://yandex.ru/website/2\">Яндекс</a>\\n\\n                <a href=\"www.website.ru\">Website</a>\\n                <a href=\"doroga.ru\">Personal Webpage</a>\\n            </div>\\n            <div>\\n                <p>@twitter</p>\\n                <p></p>\\n                <p><a href=\"/cdn-cgi/l/email-protection\" class=\"__cf_email__\" data-cfemail=\"9eedf1f3fbdef3fff7f2\">[email&#160;protected]</a></p>\\n                <p></p>\\n            </div>\\n\\n        </div>\\n\\n        <div class=\"row\">\\n            <div class=\"name\">Kate</div>\\n            <div id=\"whois\">Copywriter</div>\\n            <div data-set=\"salary\">2100 usd</div>\\n            <div class=\"links\">\\n                <a href=\"http://yandex.ru\">Яндекс</a>\\n                <a href=\"https://yandex.ru/website\">Яндекс</a>\\n                <a href=\"https://yandex.ru/website/2\">Яндекс</a>\\n\\n                <a href=\"www.website.ru\">Website</a>\\n                <a href=\"doroga.ru\">Personal Webpage</a>\\n            </div>\\n            <div>\\n                <p>@twitter</p>\\n                <p></p>\\n                <p><a href=\"/cdn-cgi/l/email-protection\" class=\"__cf_email__\" data-cfemail=\"f98a96949cb994989095\">[email&#160;protected]</a></p>\\n                <p></p>\\n            </div>\\n        </div>\\n\\n        <div class=\"row\">\\n            <div class=\"name\">Ksenia</div>\\n            <div id=\"whois\">Designer</div>\\n            <div data-set=\"salary\">2300 usd</div>\\n\\n            <div class=\"links\">\\n                <p><a href=\"/cdn-cgi/l/email-protection\" class=\"__cf_email__\" data-cfemail=\"fb8894969ebb969a9297\">[email&#160;protected]</a></p>             <!--  мыло здесь  -->\\n                <a href=\"http://yandex.ru\">Яндекс</a>\\n                <a href=\"https://yandex.ru/website\">Яндекс</a>\\n                <a href=\"https://yandex.ru/website/2\">Яндекс</a>\\n\\n                <a href=\"www.website.ru\">Website</a>\\n                <a href=\"doroga.ru\">Personal Webpage</a>\\n            </div>\\n\\n            <div>\\n                Links:\\n                <p>Мой твиттер @twitter Подписывайтесь</p>\\n                <p></p>\\n                <p></p>\\n            </div>\\n        </div>\\n    </div>\\n\\n    <div>\\n        <a href=\"/cdn-cgi/l/email-protection#1a7f777b73765a777b737634747f6e\">Это не мое мыло</a>\\n    </div>\\n\\n\\n\\n<script data-cfasync=\"false\" src=\"/cdn-cgi/scripts/5c5dd728/cloudflare-static/email-decode.min.js\"></script></body>\\n</html>\\n'"
      ]
     },
     "execution_count": 87,
     "metadata": {},
     "output_type": "execute_result"
    }
   ],
   "source": [
    "html"
   ]
  },
  {
   "cell_type": "code",
   "execution_count": 88,
   "metadata": {},
   "outputs": [],
   "source": [
    "soup = BeautifulSoup(html, 'lxml')"
   ]
  },
  {
   "cell_type": "code",
   "execution_count": 89,
   "metadata": {},
   "outputs": [],
   "source": [
    "row = soup.find(\"div\", class_=\"row\")"
   ]
  },
  {
   "cell_type": "code",
   "execution_count": 90,
   "metadata": {},
   "outputs": [
    {
     "data": {
      "text/plain": [
       "<div class=\"row\">\n",
       "<div class=\"name\">Petr</div>\n",
       "<div id=\"whois\">Python developer</div>\n",
       "<div data-set=\"salary\">salary: 2700 usd per month</div>\n",
       "<div class=\"links\">\n",
       "<a href=\"https://www.google.ru\">Google</a>\n",
       "<a href=\"www.website.ru\">Website</a>\n",
       "<a href=\"doroga.ru\">Personal Webpage</a>\n",
       "</div>\n",
       "<div>\n",
       "<p></p>\n",
       "<p></p>\n",
       "<p></p>\n",
       "<p><a class=\"__cf_email__\" data-cfemail=\"5724383a32173a363e3b\" href=\"/cdn-cgi/l/email-protection\">[email protected]</a></p>\n",
       "</div>\n",
       "</div>"
      ]
     },
     "execution_count": 90,
     "metadata": {},
     "output_type": "execute_result"
    }
   ],
   "source": [
    "row"
   ]
  },
  {
   "cell_type": "code",
   "execution_count": 91,
   "metadata": {
    "scrolled": true
   },
   "outputs": [
    {
     "data": {
      "text/plain": [
       "[<div class=\"row\">\n",
       " <div class=\"name\">Petr</div>\n",
       " <div id=\"whois\">Python developer</div>\n",
       " <div data-set=\"salary\">salary: 2700 usd per month</div>\n",
       " <div class=\"links\">\n",
       " <a href=\"https://www.google.ru\">Google</a>\n",
       " <a href=\"www.website.ru\">Website</a>\n",
       " <a href=\"doroga.ru\">Personal Webpage</a>\n",
       " </div>\n",
       " <div>\n",
       " <p></p>\n",
       " <p></p>\n",
       " <p></p>\n",
       " <p><a class=\"__cf_email__\" data-cfemail=\"5724383a32173a363e3b\" href=\"/cdn-cgi/l/email-protection\">[email protected]</a></p>\n",
       " </div>\n",
       " </div>,\n",
       " <div class=\"row\">\n",
       " <div class=\"name1\">\n",
       " <div class=\"name\">Alena</div>\n",
       " </div>\n",
       " <div id=\"whois\">Copywriter</div>\n",
       " <div data-set=\"salary\">salary: 2100 usd</div>\n",
       " <div class=\"links\">\n",
       " <a href=\"http://yandex.ru\">Яндекс</a>\n",
       " <a href=\"https://yandex.ru/website\">Яндекс</a>\n",
       " <a href=\"https://yandex.ru/website/2\">Яндекс</a>\n",
       " <a href=\"www.website.ru\">Website</a>\n",
       " <a href=\"doroga.ru\">Personal Webpage</a>\n",
       " </div>\n",
       " <div>\n",
       " <p>@twitter</p>\n",
       " <p></p>\n",
       " <p><a class=\"__cf_email__\" data-cfemail=\"9eedf1f3fbdef3fff7f2\" href=\"/cdn-cgi/l/email-protection\">[email protected]</a></p>\n",
       " <p></p>\n",
       " </div>\n",
       " </div>,\n",
       " <div class=\"row\">\n",
       " <div class=\"name\">Kate</div>\n",
       " <div id=\"whois\">Copywriter</div>\n",
       " <div data-set=\"salary\">2100 usd</div>\n",
       " <div class=\"links\">\n",
       " <a href=\"http://yandex.ru\">Яндекс</a>\n",
       " <a href=\"https://yandex.ru/website\">Яндекс</a>\n",
       " <a href=\"https://yandex.ru/website/2\">Яндекс</a>\n",
       " <a href=\"www.website.ru\">Website</a>\n",
       " <a href=\"doroga.ru\">Personal Webpage</a>\n",
       " </div>\n",
       " <div>\n",
       " <p>@twitter</p>\n",
       " <p></p>\n",
       " <p><a class=\"__cf_email__\" data-cfemail=\"f98a96949cb994989095\" href=\"/cdn-cgi/l/email-protection\">[email protected]</a></p>\n",
       " <p></p>\n",
       " </div>\n",
       " </div>,\n",
       " <div class=\"row\">\n",
       " <div class=\"name\">Ksenia</div>\n",
       " <div id=\"whois\">Designer</div>\n",
       " <div data-set=\"salary\">2300 usd</div>\n",
       " <div class=\"links\">\n",
       " <p><a class=\"__cf_email__\" data-cfemail=\"fb8894969ebb969a9297\" href=\"/cdn-cgi/l/email-protection\">[email protected]</a></p> <!--  мыло здесь  -->\n",
       " <a href=\"http://yandex.ru\">Яндекс</a>\n",
       " <a href=\"https://yandex.ru/website\">Яндекс</a>\n",
       " <a href=\"https://yandex.ru/website/2\">Яндекс</a>\n",
       " <a href=\"www.website.ru\">Website</a>\n",
       " <a href=\"doroga.ru\">Personal Webpage</a>\n",
       " </div>\n",
       " <div>\n",
       "                 Links:\n",
       "                 <p>Мой твиттер @twitter Подписывайтесь</p>\n",
       " <p></p>\n",
       " <p></p>\n",
       " </div>\n",
       " </div>]"
      ]
     },
     "execution_count": 91,
     "metadata": {},
     "output_type": "execute_result"
    }
   ],
   "source": [
    "rows = soup.find_all(\"div\", class_=\"row\")\n",
    "rows"
   ]
  },
  {
   "cell_type": "code",
   "execution_count": 92,
   "metadata": {
    "scrolled": true
   },
   "outputs": [
    {
     "data": {
      "text/plain": [
       "[<div class=\"row\">\n",
       " <div class=\"name\">Petr</div>\n",
       " <div id=\"whois\">Python developer</div>\n",
       " <div data-set=\"salary\">salary: 2700 usd per month</div>\n",
       " <div class=\"links\">\n",
       " <a href=\"https://www.google.ru\">Google</a>\n",
       " <a href=\"www.website.ru\">Website</a>\n",
       " <a href=\"doroga.ru\">Personal Webpage</a>\n",
       " </div>\n",
       " <div>\n",
       " <p></p>\n",
       " <p></p>\n",
       " <p></p>\n",
       " <p><a class=\"__cf_email__\" data-cfemail=\"5724383a32173a363e3b\" href=\"/cdn-cgi/l/email-protection\">[email protected]</a></p>\n",
       " </div>\n",
       " </div>,\n",
       " <div class=\"row\">\n",
       " <div class=\"name1\">\n",
       " <div class=\"name\">Alena</div>\n",
       " </div>\n",
       " <div id=\"whois\">Copywriter</div>\n",
       " <div data-set=\"salary\">salary: 2100 usd</div>\n",
       " <div class=\"links\">\n",
       " <a href=\"http://yandex.ru\">Яндекс</a>\n",
       " <a href=\"https://yandex.ru/website\">Яндекс</a>\n",
       " <a href=\"https://yandex.ru/website/2\">Яндекс</a>\n",
       " <a href=\"www.website.ru\">Website</a>\n",
       " <a href=\"doroga.ru\">Personal Webpage</a>\n",
       " </div>\n",
       " <div>\n",
       " <p>@twitter</p>\n",
       " <p></p>\n",
       " <p><a class=\"__cf_email__\" data-cfemail=\"9eedf1f3fbdef3fff7f2\" href=\"/cdn-cgi/l/email-protection\">[email protected]</a></p>\n",
       " <p></p>\n",
       " </div>\n",
       " </div>,\n",
       " <div class=\"row\">\n",
       " <div class=\"name\">Kate</div>\n",
       " <div id=\"whois\">Copywriter</div>\n",
       " <div data-set=\"salary\">2100 usd</div>\n",
       " <div class=\"links\">\n",
       " <a href=\"http://yandex.ru\">Яндекс</a>\n",
       " <a href=\"https://yandex.ru/website\">Яндекс</a>\n",
       " <a href=\"https://yandex.ru/website/2\">Яндекс</a>\n",
       " <a href=\"www.website.ru\">Website</a>\n",
       " <a href=\"doroga.ru\">Personal Webpage</a>\n",
       " </div>\n",
       " <div>\n",
       " <p>@twitter</p>\n",
       " <p></p>\n",
       " <p><a class=\"__cf_email__\" data-cfemail=\"f98a96949cb994989095\" href=\"/cdn-cgi/l/email-protection\">[email protected]</a></p>\n",
       " <p></p>\n",
       " </div>\n",
       " </div>,\n",
       " <div class=\"row\">\n",
       " <div class=\"name\">Ksenia</div>\n",
       " <div id=\"whois\">Designer</div>\n",
       " <div data-set=\"salary\">2300 usd</div>\n",
       " <div class=\"links\">\n",
       " <p><a class=\"__cf_email__\" data-cfemail=\"fb8894969ebb969a9297\" href=\"/cdn-cgi/l/email-protection\">[email protected]</a></p> <!--  мыло здесь  -->\n",
       " <a href=\"http://yandex.ru\">Яндекс</a>\n",
       " <a href=\"https://yandex.ru/website\">Яндекс</a>\n",
       " <a href=\"https://yandex.ru/website/2\">Яндекс</a>\n",
       " <a href=\"www.website.ru\">Website</a>\n",
       " <a href=\"doroga.ru\">Personal Webpage</a>\n",
       " </div>\n",
       " <div>\n",
       "                 Links:\n",
       "                 <p>Мой твиттер @twitter Подписывайтесь</p>\n",
       " <p></p>\n",
       " <p></p>\n",
       " </div>\n",
       " </div>]"
      ]
     },
     "execution_count": 92,
     "metadata": {},
     "output_type": "execute_result"
    }
   ],
   "source": [
    "rows = soup.find_all(\"div\", {\"class\":\"row\"})\n",
    "rows"
   ]
  },
  {
   "cell_type": "code",
   "execution_count": 93,
   "metadata": {},
   "outputs": [
    {
     "data": {
      "text/plain": [
       "[<div data-set=\"salary\">salary: 2700 usd per month</div>,\n",
       " <div data-set=\"salary\">salary: 2100 usd</div>,\n",
       " <div data-set=\"salary\">2100 usd</div>,\n",
       " <div data-set=\"salary\">2300 usd</div>]"
      ]
     },
     "execution_count": 93,
     "metadata": {},
     "output_type": "execute_result"
    }
   ],
   "source": [
    "rows = soup.find_all(\"div\", {\"data-set\":\"salary\"})\n",
    "rows "
   ]
  },
  {
   "cell_type": "code",
   "execution_count": null,
   "metadata": {},
   "outputs": [],
   "source": [
    "# снизу вверх искать"
   ]
  },
  {
   "cell_type": "code",
   "execution_count": 99,
   "metadata": {},
   "outputs": [
    {
     "data": {
      "text/plain": [
       "<div class=\"row\">\n",
       "<div class=\"name1\">\n",
       "<div class=\"name\">Alena</div>\n",
       "</div>\n",
       "<div id=\"whois\">Copywriter</div>\n",
       "<div data-set=\"salary\">salary: 2100 usd</div>\n",
       "<div class=\"links\">\n",
       "<a href=\"http://yandex.ru\">Яндекс</a>\n",
       "<a href=\"https://yandex.ru/website\">Яндекс</a>\n",
       "<a href=\"https://yandex.ru/website/2\">Яндекс</a>\n",
       "<a href=\"www.website.ru\">Website</a>\n",
       "<a href=\"doroga.ru\">Personal Webpage</a>\n",
       "</div>\n",
       "<div>\n",
       "<p>@twitter</p>\n",
       "<p></p>\n",
       "<p><a class=\"__cf_email__\" data-cfemail=\"9eedf1f3fbdef3fff7f2\" href=\"/cdn-cgi/l/email-protection\">[email protected]</a></p>\n",
       "<p></p>\n",
       "</div>\n",
       "</div>"
      ]
     },
     "execution_count": 99,
     "metadata": {},
     "output_type": "execute_result"
    }
   ],
   "source": [
    "alena = soup.find('div', text=\"Alena\").find_parent(class_=\"row\")\n",
    "alena"
   ]
  },
  {
   "cell_type": "code",
   "execution_count": 101,
   "metadata": {},
   "outputs": [],
   "source": [
    "salary = soup.find_all('div', {'data-set': 'salary'})"
   ]
  },
  {
   "cell_type": "code",
   "execution_count": 102,
   "metadata": {},
   "outputs": [
    {
     "data": {
      "text/plain": [
       "[<div data-set=\"salary\">salary: 2700 usd per month</div>,\n",
       " <div data-set=\"salary\">salary: 2100 usd</div>,\n",
       " <div data-set=\"salary\">2100 usd</div>,\n",
       " <div data-set=\"salary\">2300 usd</div>]"
      ]
     },
     "execution_count": 102,
     "metadata": {},
     "output_type": "execute_result"
    }
   ],
   "source": [
    "salary"
   ]
  },
  {
   "cell_type": "code",
   "execution_count": 103,
   "metadata": {},
   "outputs": [
    {
     "name": "stdout",
     "output_type": "stream",
     "text": [
      "salary: 2700 usd per month\n",
      "salary: 2100 usd\n",
      "2100 usd\n",
      "2300 usd\n"
     ]
    }
   ],
   "source": [
    "for i in salary:\n",
    "    print(i.text)"
   ]
  },
  {
   "cell_type": "code",
   "execution_count": 113,
   "metadata": {},
   "outputs": [],
   "source": [
    "import re\n",
    "\n",
    "def get_salary(s):\n",
    "    # salary: 2700 usd per month\n",
    "    pattern = r'\\d{1,9}'\n",
    "    salary = re.findall(pattern, s)[0]\n",
    "    #salary = re.search(pattern, s).group()\n",
    "    print(salary)"
   ]
  },
  {
   "cell_type": "code",
   "execution_count": 105,
   "metadata": {},
   "outputs": [],
   "source": [
    "#https://pythex.org/"
   ]
  },
  {
   "cell_type": "code",
   "execution_count": 114,
   "metadata": {},
   "outputs": [
    {
     "name": "stdout",
     "output_type": "stream",
     "text": [
      "2700\n",
      "2100\n",
      "2100\n",
      "2300\n"
     ]
    }
   ],
   "source": [
    "for i in salary:\n",
    "    get_salary(i.text)"
   ]
  },
  {
   "cell_type": "code",
   "execution_count": null,
   "metadata": {},
   "outputs": [],
   "source": []
  }
 ],
 "metadata": {
  "kernelspec": {
   "display_name": "Python 3",
   "language": "python",
   "name": "python3"
  },
  "language_info": {
   "codemirror_mode": {
    "name": "ipython",
    "version": 3
   },
   "file_extension": ".py",
   "mimetype": "text/x-python",
   "name": "python",
   "nbconvert_exporter": "python",
   "pygments_lexer": "ipython3",
   "version": "3.8.2"
  },
  "widgets": {
   "application/vnd.jupyter.widget-state+json": {
    "state": {},
    "version_major": 2,
    "version_minor": 0
   }
  }
 },
 "nbformat": 4,
 "nbformat_minor": 4
}
