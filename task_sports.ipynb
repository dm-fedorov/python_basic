{
 "cells": [
  {
   "cell_type": "markdown",
   "metadata": {},
   "source": [
    "### Задание\n",
    "\n",
    "Определите наиболее популярный вид спорта в стране, исходя из количества построенных спортивных объектов для них. \n",
    "\n",
    "Файл с данными находится по [ссылке](https://raw.githubusercontent.com/dm-fedorov/python_basic/master/data/sports.stat).\n",
    "\n",
    "Cтолбцы файла:\n",
    "- порядковый номер строки;\n",
    "- наименование спортивного объект;\n",
    "- полный адрес спортивного объекта;\n",
    "- виды спорта, для которых предназначен спортивный объект;\n",
    "- пропускная способность объекта;\n",
    "- вместимость объекта;\n",
    "- площадь объекта (Га)."
   ]
  },
  {
   "cell_type": "code",
   "execution_count": null,
   "metadata": {},
   "outputs": [],
   "source": []
  }
 ],
 "metadata": {
  "kernelspec": {
   "display_name": "Python 3",
   "language": "python",
   "name": "python3"
  },
  "language_info": {
   "codemirror_mode": {
    "name": "ipython",
    "version": 3
   },
   "file_extension": ".py",
   "mimetype": "text/x-python",
   "name": "python",
   "nbconvert_exporter": "python",
   "pygments_lexer": "ipython3",
   "version": "3.8.3"
  }
 },
 "nbformat": 4,
 "nbformat_minor": 4
}
