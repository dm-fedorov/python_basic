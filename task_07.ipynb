{
 "cells": [
  {
   "cell_type": "markdown",
   "id": "sensitive-registrar",
   "metadata": {},
   "source": [
    "# Задания для самостоятельного выполнения"
   ]
  },
  {
   "cell_type": "markdown",
   "id": "progressive-privacy",
   "metadata": {},
   "source": [
    "<a href=\"https://colab.research.google.com/github/dm-fedorov/python_basic/blob/master/task_07.ipynb\" target=\"_blank\"><img align=\"left\" src=\"https://colab.research.google.com/assets/colab-badge.svg\" alt=\"Open in Colab\" title=\"Open and Execute in Google Colaboratory\"></a>"
   ]
  },
  {
   "cell_type": "markdown",
   "id": "seasonal-miami",
   "metadata": {},
   "source": [
    "## Задание 1\n",
    "\n",
    "Определите функцию-генератор, `get_odds()`, которая возвращает начетные числа из диапазона `range(10)`.\n",
    "\n",
    "Напишите doc-тесты."
   ]
  },
  {
   "cell_type": "code",
   "execution_count": 1,
   "id": "changing-librarian",
   "metadata": {},
   "outputs": [],
   "source": [
    "# здесь решение"
   ]
  },
  {
   "cell_type": "markdown",
   "id": "facial-secretary",
   "metadata": {},
   "source": [
    "## Задание 2\n",
    "\n",
    "Провести объектно-ориентированный анализ задачи и определить объекты (создать классы с заданным поведением по аналогии с [КОШКОЙ](https://github.com/dm-fedorov/python3_intro/blob/master/lesson_11/class_cat_eat.log)), которые потребуется использовать:\n",
    "\n",
    "- создается компьютерная игра, поддерживающая одновременное управление несколькими персонажами;\n",
    "- каждый персонаж умеет бегать, стрелять и собирать предметы;\n",
    "- некоторые персонажи умеют летать (использовать наследование классов);\n",
    "- каждый тип действий сопровождается определенной анимацией (подсказка: [изменением координат](https://github.com/dm-fedorov/python3_intro/blob/master/lesson_11/my_shape.py));\n",
    "- собираемые предметы могут менять характеристики действий и соответствующую анимацию (например, вдвое ускорять или, наоборот, замедлять бег персонажа)."
   ]
  },
  {
   "cell_type": "code",
   "execution_count": 2,
   "id": "established-detector",
   "metadata": {},
   "outputs": [],
   "source": [
    "# здесь решение"
   ]
  },
  {
   "cell_type": "markdown",
   "id": "loaded-cleaner",
   "metadata": {},
   "source": [
    "## Задание 3\n",
    "\n",
    "Напишите программу, которая моделирует игрушку, предсказывающую будущее: дает случайный ответ на общий вопрос, требующий ответа \"да\" или \"нет\". \n",
    "\n",
    "Файл с ответами: [responses.txt](https://raw.githubusercontent.com/dm-fedorov/python_basic/master/data/responses.txt)\n",
    "\n",
    "Программа должна предложить пользователю задать вопрос и затем показать один из ответов, отобранных из файла случайным образом. Программа должна продолжать работу до тех пор, пока пользователь не будет готов из нее выйти. \n",
    "\n",
    "Обработайте возможные ошибки."
   ]
  },
  {
   "cell_type": "code",
   "execution_count": 3,
   "id": "sweet-ozone",
   "metadata": {},
   "outputs": [],
   "source": [
    "# здесь решение"
   ]
  },
  {
   "cell_type": "markdown",
   "id": "viral-portfolio",
   "metadata": {},
   "source": [
    "## Задание 4\n",
    "\n",
    "Напиши программу для очистки и нормализации первой главы Моби Дика, находящегося в файле [moby.txt](https://github.com/dm-fedorov/python3_intro/blob/master/lesson_10/moby.txt).\n",
    "\n",
    "- Все символы должны относиться к одному регистру. \n",
    "- Удалить все знаки препинания.\n",
    "- Записать слова по одному на строку во второй файл с именем `moby_clean.txt` \n",
    "\n",
    "Обработайте возможные ошибки."
   ]
  },
  {
   "cell_type": "code",
   "execution_count": 4,
   "id": "frequent-benjamin",
   "metadata": {},
   "outputs": [],
   "source": [
    "# здесь решение"
   ]
  },
  {
   "cell_type": "markdown",
   "id": "second-syndication",
   "metadata": {},
   "source": [
    "## Задание 5\n",
    "\n",
    "Прочитайте содержимое файла `moby_clean.txt`, полученного в `задании 4`. \n",
    "Используйте словарь для подсчета вхождений каждого слова, выведите первые `5` самых частых и самых редких слов.\n",
    "\n",
    "Обработайте возможные ошибки."
   ]
  },
  {
   "cell_type": "code",
   "execution_count": 5,
   "id": "specialized-trinity",
   "metadata": {},
   "outputs": [],
   "source": [
    "# здесь решение"
   ]
  }
 ],
 "metadata": {
  "kernelspec": {
   "display_name": "Python 3",
   "language": "python",
   "name": "python3"
  },
  "language_info": {
   "codemirror_mode": {
    "name": "ipython",
    "version": 3
   },
   "file_extension": ".py",
   "mimetype": "text/x-python",
   "name": "python",
   "nbconvert_exporter": "python",
   "pygments_lexer": "ipython3",
   "version": "3.8.2"
  }
 },
 "nbformat": 4,
 "nbformat_minor": 5
}
