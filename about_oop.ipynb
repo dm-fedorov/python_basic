{
 "cells": [
  {
   "cell_type": "markdown",
   "metadata": {},
   "source": [
    "## Объектно-ориентированный стиль программирования в Python \n"
   ]
  },
  {
   "cell_type": "code",
   "execution_count": null,
   "metadata": {},
   "outputs": [],
   "source": [
    "class Dog:\n",
    "    pass\n",
    "\n",
    "dog1 = Dog()\n",
    "dog2 = Dog()\n",
    "\n",
    "print(type(dog1))\n",
    "print(type(dog2))"
   ]
  },
  {
   "cell_type": "code",
   "execution_count": null,
   "metadata": {},
   "outputs": [],
   "source": []
  },
  {
   "cell_type": "code",
   "execution_count": null,
   "metadata": {},
   "outputs": [],
   "source": []
  },
  {
   "cell_type": "code",
   "execution_count": null,
   "metadata": {},
   "outputs": [],
   "source": []
  },
  {
   "cell_type": "code",
   "execution_count": null,
   "metadata": {},
   "outputs": [],
   "source": [
    "a = int('5')\n",
    "print(type(a))"
   ]
  },
  {
   "cell_type": "code",
   "execution_count": null,
   "metadata": {},
   "outputs": [],
   "source": []
  },
  {
   "cell_type": "code",
   "execution_count": null,
   "metadata": {},
   "outputs": [],
   "source": []
  },
  {
   "cell_type": "code",
   "execution_count": null,
   "metadata": {},
   "outputs": [],
   "source": []
  },
  {
   "cell_type": "code",
   "execution_count": null,
   "metadata": {},
   "outputs": [],
   "source": [
    "class Dog:\n",
    "    pass\n",
    "\n",
    "dog1 = Dog()\n",
    "\n",
    "# атрибуты объекта добавляются динамически по аналогии со словарями:\n",
    "dog1.name = \"Шарик\"\n",
    "dog1.age = 2\n",
    "\n",
    "# вывести возраст собаки\n",
    "print(dog1.age)\n",
    "# посмотреть атрибуты объекта dog1:\n",
    "print(dog1.__dict__)\n",
    "\n",
    "dog2 = Dog()\n",
    "\n",
    "# атрибуты объекта добавляются динамически по аналогии со словарями:\n",
    "dog2.name = \"Бобик\"\n",
    "dog2.age = 1\n",
    "\n",
    "# вывести возраст второй собаки\n",
    "print(dog2.age)\n",
    "# посмотреть атрибуты объекта dog1:\n",
    "print(dog2.__dict__)"
   ]
  },
  {
   "cell_type": "code",
   "execution_count": null,
   "metadata": {},
   "outputs": [],
   "source": []
  },
  {
   "cell_type": "code",
   "execution_count": null,
   "metadata": {},
   "outputs": [],
   "source": []
  },
  {
   "cell_type": "code",
   "execution_count": null,
   "metadata": {},
   "outputs": [],
   "source": []
  },
  {
   "cell_type": "code",
   "execution_count": null,
   "metadata": {},
   "outputs": [],
   "source": [
    "def info_obj(obj):\n",
    "    \"\"\" Отображает на экране поля объекта \"\"\"\n",
    "\n",
    "    # обратиться к полям через словарь:\n",
    "    for i in obj.__dict__:\n",
    "        print(f'{i} : {obj.__dict__[i]}')"
   ]
  },
  {
   "cell_type": "code",
   "execution_count": null,
   "metadata": {},
   "outputs": [],
   "source": [
    "info_obj(dog1)"
   ]
  },
  {
   "cell_type": "code",
   "execution_count": null,
   "metadata": {},
   "outputs": [],
   "source": [
    "info_obj(dog2)"
   ]
  },
  {
   "cell_type": "code",
   "execution_count": null,
   "metadata": {},
   "outputs": [],
   "source": []
  },
  {
   "cell_type": "code",
   "execution_count": null,
   "metadata": {},
   "outputs": [],
   "source": []
  },
  {
   "cell_type": "markdown",
   "metadata": {},
   "source": [
    "## Состояние и поведение объектов"
   ]
  },
  {
   "cell_type": "code",
   "execution_count": null,
   "metadata": {},
   "outputs": [],
   "source": [
    "class Dog:    \n",
    "    # метод для произношения имени:\n",
    "    def bark(self):         \n",
    "        return f\"Собака говорит: {self.name}\"\n",
    "\n",
    "# Конкретная собака:        \n",
    "my_dog = Dog()\n",
    "\n",
    "# определяем имя собаки\n",
    "my_dog.name = \"Шарик\" # динамически добавляется атрибут объекта name\n",
    "\n",
    "# выводим имя собаки через обращение к атрибуту\n",
    "print(my_dog.name)\n",
    "\n",
    "# определяем дополнительные атрибуты\n",
    "my_dog.weight = 20\n",
    "my_dog.age = 3\n",
    "\n",
    "# просим собаку что-нибудь сказать через обращение к методу\n",
    "print(my_dog.bark()) # перед вызовом методы атрибут name уже должен существовать\n",
    "\n",
    "# Преобразуется в полную форму:\n",
    "print(Dog.bark(my_dog))"
   ]
  },
  {
   "cell_type": "code",
   "execution_count": null,
   "metadata": {},
   "outputs": [],
   "source": []
  },
  {
   "cell_type": "code",
   "execution_count": null,
   "metadata": {},
   "outputs": [],
   "source": [
    "# Упражнение"
   ]
  },
  {
   "cell_type": "code",
   "execution_count": null,
   "metadata": {},
   "outputs": [],
   "source": []
  },
  {
   "cell_type": "code",
   "execution_count": null,
   "metadata": {},
   "outputs": [],
   "source": []
  },
  {
   "cell_type": "code",
   "execution_count": null,
   "metadata": {},
   "outputs": [],
   "source": [
    "class Dog:    \n",
    "    # Конструктор\n",
    "    # Вызывается в момент создания объекта данного типа (класса)\n",
    "    def __init__(self):\n",
    "        self.name = \"Собака без имени\"\n",
    "        print(\"Родилась новая собака!\")\n",
    "\n",
    "# Создаем собаку\n",
    "my_dog = Dog() # здесь хочется здать имя....\n",
    "\n",
    "print(my_dog.name)"
   ]
  },
  {
   "cell_type": "code",
   "execution_count": null,
   "metadata": {},
   "outputs": [],
   "source": []
  },
  {
   "cell_type": "code",
   "execution_count": null,
   "metadata": {},
   "outputs": [],
   "source": []
  },
  {
   "cell_type": "code",
   "execution_count": null,
   "metadata": {},
   "outputs": [],
   "source": []
  },
  {
   "cell_type": "code",
   "execution_count": null,
   "metadata": {},
   "outputs": [],
   "source": [
    "class Dog:    \n",
    "    # Конструктор\n",
    "    # Вызывается на момент создания объекта этого типа\n",
    "    def __init__ (self, new_name='Собака без имени'):\n",
    "        self.name = new_name # переменной объекта присваиваем локальную переменную\n",
    "        print(\"Родилась новая собака!\")\n",
    "\n",
    "# Создаем собаку и теперь можем задать ей имя!\n",
    "my_dog = Dog(\"Шарик\")\n",
    "\n",
    "# Вывести имя собаки, убедиться, что оно было установлено \n",
    "# (так обычно не делают!)\n",
    "print(my_dog.name)\n",
    "\n",
    "# Создаем еще одну собаку \n",
    "her_dog = Dog() # имя по умолчанию 'Собака без имени'\n",
    "\n",
    "print(her_dog.name)"
   ]
  },
  {
   "cell_type": "code",
   "execution_count": null,
   "metadata": {},
   "outputs": [],
   "source": []
  },
  {
   "cell_type": "code",
   "execution_count": null,
   "metadata": {},
   "outputs": [],
   "source": []
  },
  {
   "cell_type": "code",
   "execution_count": null,
   "metadata": {},
   "outputs": [],
   "source": []
  },
  {
   "cell_type": "code",
   "execution_count": null,
   "metadata": {},
   "outputs": [],
   "source": []
  },
  {
   "cell_type": "markdown",
   "metadata": {},
   "source": [
    "Скрываем работу с внутренними переменными класса.\n",
    "Просим, чтобы к ним обращались через методы.\n",
    "\n",
    "Со временем внутренние переменные могут измениться, а методы (API - application programming interface) остаются неизменными.\n",
    "\n",
    "Мы работаем с API и нам неважно, как оно внутри работает (инкапсуляция). \n",
    "Главное, правильность работы и стабильность (неизменнный интерфейс вызова)."
   ]
  },
  {
   "cell_type": "code",
   "execution_count": null,
   "metadata": {},
   "outputs": [],
   "source": [
    "class Dog:    \n",
    "    # Конструктор\n",
    "    def __init__(self, new_name='Собака без имени'):        \n",
    "        self._name = new_name\n",
    "    # Можем в любой момент вызвать этот метод и изменить имя объекта:\n",
    "    def set_name(self, new_name):\n",
    "        self._name = new_name\n",
    "    # Можем в любой момент вызвать этот метод и узнать имя объекта:\n",
    "    def get_name(self):\n",
    "        return self._name\n",
    "\n",
    "# Создаем конкретную собаку\n",
    "my_dog = Dog(\"Тузик\")\n",
    "\n",
    "# Вывести имя собаки\n",
    "print(my_dog.get_name())\n",
    "\n",
    "# Изменили имя собаки\n",
    "my_dog.set_name(\"Шарик\")\n",
    "\n",
    "# Посмотрели изменения\n",
    "print(my_dog.get_name())"
   ]
  },
  {
   "cell_type": "code",
   "execution_count": null,
   "metadata": {},
   "outputs": [],
   "source": []
  },
  {
   "cell_type": "code",
   "execution_count": null,
   "metadata": {},
   "outputs": [],
   "source": []
  },
  {
   "cell_type": "code",
   "execution_count": null,
   "metadata": {},
   "outputs": [],
   "source": [
    "# цитата"
   ]
  },
  {
   "cell_type": "code",
   "execution_count": null,
   "metadata": {},
   "outputs": [],
   "source": []
  },
  {
   "cell_type": "code",
   "execution_count": null,
   "metadata": {},
   "outputs": [],
   "source": [
    "# упражнение"
   ]
  },
  {
   "cell_type": "code",
   "execution_count": null,
   "metadata": {},
   "outputs": [],
   "source": []
  },
  {
   "cell_type": "code",
   "execution_count": null,
   "metadata": {},
   "outputs": [],
   "source": []
  },
  {
   "cell_type": "code",
   "execution_count": null,
   "metadata": {},
   "outputs": [],
   "source": []
  },
  {
   "cell_type": "code",
   "execution_count": null,
   "metadata": {},
   "outputs": [],
   "source": [
    "# ответ к заданию про кошку"
   ]
  },
  {
   "cell_type": "code",
   "execution_count": null,
   "metadata": {},
   "outputs": [],
   "source": [
    "class Cat:    \n",
    "    def __init__(self, new_name='Кошка без имени'):        \n",
    "        self._name = new_name # новое имя\n",
    "        print(f'Родилась новая кошка... {self._name}')\n",
    "        self._eat = 0 # счетчик сытости на нуле\n",
    "    \n",
    "    def set_name(self, new_name):\n",
    "        self._name = new_name # новое имя\n",
    "    \n",
    "    def meow(self):\n",
    "        print(f\"Кошка говорит: меня зовут {self._name}\")\n",
    "        if self._eat == 0: # если счетчик сытости на нуле\n",
    "            print(\"Кошка проголодалась...\")    \n",
    "    \n",
    "    def gaming(self):\n",
    "        if self._eat == 0:\n",
    "            print('Нет сил играть...')\n",
    "        else:\n",
    "            print(\"Кошка играет с мячиком...\")\n",
    "            self._eat -= 1 # счетчик сытости уменьшается\n",
    "            \n",
    "    def eating(self):\n",
    "        self._eat += 1 # счетчик сытости увеличивается\n",
    "        print(\"Кошка ест...\")\n",
    "        \n",
    "# Создаем кошку:        \n",
    "my_сat1 = Cat()\n",
    "my_сat1.set_name(\"Котик\")\n",
    "\n",
    "# Несколько дней из жизни кошки\n",
    "my_сat1.gaming()\n",
    "my_сat1.meow()\n",
    "my_сat1.eating()\n",
    "my_сat1.gaming()\n",
    "\n",
    "my_сat2 = Cat('Барсик')\n",
    "\n",
    "# Несколько дней из жизни кошки\n",
    "my_сat2.meow()\n",
    "my_сat1.eating()\n",
    "my_сat1.gaming()"
   ]
  },
  {
   "cell_type": "code",
   "execution_count": null,
   "metadata": {},
   "outputs": [],
   "source": []
  },
  {
   "cell_type": "code",
   "execution_count": null,
   "metadata": {},
   "outputs": [],
   "source": []
  },
  {
   "cell_type": "code",
   "execution_count": null,
   "metadata": {},
   "outputs": [],
   "source": [
    "# упражнения"
   ]
  },
  {
   "cell_type": "code",
   "execution_count": null,
   "metadata": {},
   "outputs": [],
   "source": []
  },
  {
   "cell_type": "code",
   "execution_count": null,
   "metadata": {},
   "outputs": [],
   "source": []
  },
  {
   "cell_type": "code",
   "execution_count": null,
   "metadata": {},
   "outputs": [],
   "source": [
    "# ответ к упражнению"
   ]
  },
  {
   "cell_type": "code",
   "execution_count": null,
   "metadata": {},
   "outputs": [],
   "source": [
    "class Point: \n",
    "    def __init__(self, x=0, y=0):\n",
    "        '''\n",
    "        Конструктор\n",
    "        '''\n",
    "        self.x = x\n",
    "        self.y = y\n",
    "        print(f\"Инициализация координат ({x},{y}) \")\n",
    "\n",
    "    def set(self, x, y):\n",
    "        self.x = x\n",
    "        self.y = y\n",
    "\n",
    "    def get(self):\n",
    "        print(f'координата x={self.x}, координата y={self.y}')\n",
    "\n",
    "pt1 = Point()\n",
    "pt2 = Point(3, 5)\n",
    "\n",
    "pt2.get()\n",
    "\n",
    "pt1.set(4, 6)\n",
    "pt1.get()"
   ]
  },
  {
   "cell_type": "code",
   "execution_count": null,
   "metadata": {},
   "outputs": [],
   "source": []
  },
  {
   "cell_type": "code",
   "execution_count": null,
   "metadata": {},
   "outputs": [],
   "source": []
  },
  {
   "cell_type": "code",
   "execution_count": null,
   "metadata": {},
   "outputs": [],
   "source": []
  },
  {
   "cell_type": "markdown",
   "metadata": {},
   "source": [
    "Как суммировать координаты двух точек?"
   ]
  },
  {
   "cell_type": "markdown",
   "metadata": {},
   "source": [
    "```python\n",
    "pt1 = Point(2, 4)\n",
    "pt2 = Point(1, 5)\n",
    "\n",
    "pt3 = pt1 + pt2 # Point.__add__(pt1, pt2)\n",
    "pt3.get()\n",
    "# (3, 9)\n",
    "```"
   ]
  },
  {
   "cell_type": "code",
   "execution_count": null,
   "metadata": {},
   "outputs": [],
   "source": []
  },
  {
   "cell_type": "code",
   "execution_count": null,
   "metadata": {},
   "outputs": [],
   "source": [
    "# Напоминалочка"
   ]
  },
  {
   "cell_type": "code",
   "execution_count": null,
   "metadata": {},
   "outputs": [],
   "source": [
    "'3' + '5'"
   ]
  },
  {
   "cell_type": "code",
   "execution_count": null,
   "metadata": {},
   "outputs": [],
   "source": [
    "'3'.__add__('5')"
   ]
  },
  {
   "cell_type": "code",
   "execution_count": null,
   "metadata": {},
   "outputs": [],
   "source": [
    "str.__add__('3', '5')"
   ]
  },
  {
   "cell_type": "code",
   "execution_count": null,
   "metadata": {},
   "outputs": [],
   "source": []
  },
  {
   "cell_type": "code",
   "execution_count": null,
   "metadata": {},
   "outputs": [],
   "source": [
    "# ответ про сумму координат двух точек"
   ]
  },
  {
   "cell_type": "code",
   "execution_count": null,
   "metadata": {},
   "outputs": [],
   "source": [
    "class Point: \n",
    "    def __init__(self, x=0, y=0):\n",
    "        '''\n",
    "        Конструктор\n",
    "        '''\n",
    "        self.x = x\n",
    "        self.y = y\n",
    "        print(f\"Инициализация координат ({x},{y})\")\n",
    "\n",
    "    def set(self, x, y):\n",
    "        self.x = x\n",
    "        self.y = y\n",
    "\n",
    "    def get(self):\n",
    "        print(f'координата x = {self.x}, координата y = {self.y}')\n",
    "\n",
    "    def __add__(self, other):\n",
    "        return Point(self.x + other.x, self.y + other.y)\n",
    "\n",
    "pt1 = Point()\n",
    "pt2 = Point(3, 5)\n",
    "\n",
    "pt2.get()\n",
    "pt1.set(1, 2)\n",
    "pt1.get()\n",
    "\n",
    "pt3 = pt1 + pt2\n",
    "pt3.get()"
   ]
  },
  {
   "cell_type": "code",
   "execution_count": null,
   "metadata": {},
   "outputs": [],
   "source": []
  },
  {
   "cell_type": "code",
   "execution_count": null,
   "metadata": {},
   "outputs": [],
   "source": []
  },
  {
   "cell_type": "code",
   "execution_count": null,
   "metadata": {},
   "outputs": [],
   "source": [
    "# выводим информацию о точке с помощью функции print"
   ]
  },
  {
   "cell_type": "code",
   "execution_count": null,
   "metadata": {},
   "outputs": [],
   "source": [
    "print(pt1) # вместо метода get"
   ]
  },
  {
   "cell_type": "code",
   "execution_count": null,
   "metadata": {},
   "outputs": [],
   "source": []
  },
  {
   "cell_type": "code",
   "execution_count": null,
   "metadata": {},
   "outputs": [],
   "source": [
    "# Point.__str__(pt1)"
   ]
  },
  {
   "cell_type": "code",
   "execution_count": null,
   "metadata": {},
   "outputs": [],
   "source": []
  },
  {
   "cell_type": "code",
   "execution_count": null,
   "metadata": {},
   "outputs": [],
   "source": []
  },
  {
   "cell_type": "code",
   "execution_count": null,
   "metadata": {},
   "outputs": [],
   "source": [
    "class Point: \n",
    "    def __init__(self, x=0, y=0):\n",
    "        '''\n",
    "        Инициализация точки\n",
    "        '''\n",
    "        self.x = x\n",
    "        self.y = y\n",
    "        print(f\"Инициализация координат ({x},{y})\")\n",
    "\n",
    "    def set(self, x, y):\n",
    "        '''\n",
    "        Устанавливает координаты точки\n",
    "        '''\n",
    "        self.x = x\n",
    "        self.y = y\n",
    "\n",
    "    def __add__(self, other):\n",
    "        '''\n",
    "        Специальный метод для выполнения операции сложения двух точек\n",
    "        '''\n",
    "        return Point(self.x + other.x, self.y + other.y)\n",
    "\n",
    "    def __str__(self):\n",
    "        '''\n",
    "        Специальный метод для отображения информации о точке\n",
    "        '''\n",
    "        return f'Точка с координатами ({self.x},{self.y})'\n",
    "\n",
    "pt1 = Point()\n",
    "print(pt1)\n",
    "\n",
    "pt2 = Point(3, 5)\n",
    "print(pt2)\n",
    "\n",
    "pt1.set(3, 5)\n",
    "print(pt1)\n",
    "\n",
    "print(pt1 + pt2)"
   ]
  },
  {
   "cell_type": "code",
   "execution_count": null,
   "metadata": {},
   "outputs": [],
   "source": []
  },
  {
   "cell_type": "code",
   "execution_count": null,
   "metadata": {},
   "outputs": [],
   "source": []
  },
  {
   "cell_type": "code",
   "execution_count": null,
   "metadata": {},
   "outputs": [],
   "source": []
  },
  {
   "cell_type": "code",
   "execution_count": null,
   "metadata": {},
   "outputs": [],
   "source": [
    "# Про переменные и атрибуты объекта"
   ]
  },
  {
   "cell_type": "code",
   "execution_count": null,
   "metadata": {},
   "outputs": [],
   "source": [
    "# создаем класс Car\n",
    "class Car:  \n",
    "    def start(self):\n",
    "        # локальная переменная внутри метода:\n",
    "        message = \"Двигатель заведен\" \n",
    "        return message\n",
    "\n",
    "car = Car()  \n",
    "# print(car.message)\n",
    "# AttributeError: 'Car' object has no attribute 'message'\n",
    "# не можем обратиться к переменной внутри метода\n",
    "\n",
    "print(car.start()) # Car.start(car)"
   ]
  },
  {
   "cell_type": "code",
   "execution_count": null,
   "metadata": {},
   "outputs": [],
   "source": []
  },
  {
   "cell_type": "code",
   "execution_count": null,
   "metadata": {},
   "outputs": [],
   "source": [
    "class Car:  \n",
    "    def __init__(self):\n",
    "        print(\"Двигатель заведен\")\n",
    "        self.name = \"corolla\"\n",
    "        self._make = \"toyota\"\n",
    "        self._model = 1999\n",
    "        \n",
    "car = Car()  \n",
    "# можем обратиться к переменной объекта:\n",
    "print(car.name)"
   ]
  },
  {
   "cell_type": "code",
   "execution_count": null,
   "metadata": {},
   "outputs": [],
   "source": []
  },
  {
   "cell_type": "code",
   "execution_count": null,
   "metadata": {},
   "outputs": [],
   "source": [
    "class Car:  \n",
    "    # переменная класса:\n",
    "    message1 = \"Двигатель заведен\"\n",
    "\n",
    "print(Car.message1)    \n",
    "\n",
    "car = Car()  \n",
    "# можем обратиться к (глобальной) переменной класса:\n",
    "print(car.message1)"
   ]
  },
  {
   "cell_type": "code",
   "execution_count": null,
   "metadata": {},
   "outputs": [],
   "source": []
  },
  {
   "cell_type": "code",
   "execution_count": null,
   "metadata": {},
   "outputs": [],
   "source": []
  },
  {
   "cell_type": "markdown",
   "metadata": {},
   "source": [
    "## Атрибуты класс"
   ]
  },
  {
   "cell_type": "code",
   "execution_count": null,
   "metadata": {},
   "outputs": [],
   "source": [
    "class Dog:\n",
    "    # Атрибуты класса доступны из всех экземпляров данного класса\n",
    "    count = 0\n",
    "    legs = 4    \n",
    "    \n",
    "    # Конструктор\n",
    "    def __init__(self, new_name='Собака без имени'):        \n",
    "        self._name = new_name\n",
    "        Dog.count += 1 # увеличиваем счетчик экземпляров класса Dog\n",
    "        \n",
    "    # Можем в любой момент вызвать этот метод и изменить имя:\n",
    "    def set_name(self, new_name):\n",
    "        self._name = new_name\n",
    "    \n",
    "    # Можем в любой момент вызвать этот метод и узнать имя:\n",
    "    def get_name(self):\n",
    "        return self._name\n",
    "\n",
    "# Создаем конкретную собаку\n",
    "my_dog = Dog()\n",
    "\n",
    "# Изменяем имя собаки\n",
    "my_dog.set_name(\"Шарик\")\n",
    "\n",
    "# Сколько ног у собаки (доступ к атрибуту класса):\n",
    "print(f'У {my_dog.get_name()}а {my_dog.legs} ноги')\n",
    "\n",
    "# Создаем еще одну конкретную собаку\n",
    "her_dog = Dog(\"Бобик\")\n",
    "\n",
    "print(f'У {her_dog.get_name()}а {her_dog.legs} ноги')\n",
    "\n",
    "# Сколько экземпляров класса Dog создано:\n",
    "print('создано собак:', Dog.count)"
   ]
  },
  {
   "cell_type": "code",
   "execution_count": null,
   "metadata": {},
   "outputs": [],
   "source": []
  },
  {
   "cell_type": "code",
   "execution_count": null,
   "metadata": {},
   "outputs": [],
   "source": []
  },
  {
   "cell_type": "markdown",
   "metadata": {},
   "source": [
    "## Наследование"
   ]
  },
  {
   "cell_type": "code",
   "execution_count": null,
   "metadata": {},
   "outputs": [],
   "source": [
    "class Person:\n",
    "    def __init__(self, name='Человек без имени'):\n",
    "        self.name = name\n",
    "        self.age = 0\n",
    "    def say(self):\n",
    "        print(f\"{self.name} говорит\")\n",
    "\n",
    "class Employee(Person):\n",
    "    def set_job(self, job_title='Безработный'):\n",
    "        self.job_title = job_title        \n",
    "    def get_job(self):\n",
    "        print(self.job_title)\n",
    "    \n",
    "class Customer(Person):    \n",
    "    def set_email(self, email='Нет почты'):\n",
    "        self.email = email        \n",
    "    def get_email(self):\n",
    "        print(self.email)\n",
    "\n",
    "person = Person('Иван')\n",
    "person.say()\n",
    "\n",
    "emp = Employee()\n",
    "# вызываем метод из базового класса:\n",
    "emp.say()\n",
    "# в этот момент ошибка. почему? как исправить?\n",
    "emp.get_job()\n",
    "\n",
    "cust = Customer('Петр')\n",
    "# вызываем метод из базового класса:\n",
    "cust.say()\n",
    "# в этот момент ошибка. почему? как исправить?\n",
    "cust.get_email()"
   ]
  },
  {
   "cell_type": "code",
   "execution_count": null,
   "metadata": {},
   "outputs": [],
   "source": []
  },
  {
   "cell_type": "code",
   "execution_count": null,
   "metadata": {},
   "outputs": [],
   "source": [
    "class Person:\n",
    "    def __init__(self, name='Человек без имени'):\n",
    "        self.name = name\n",
    "        self.age = 0\n",
    "    def say(self):\n",
    "        print(f\"{self.name} говорит\")\n",
    "\n",
    "class Employee(Person):\n",
    "    def __init__(self, name='Работник без имени'):\n",
    "        Person.__init__(self, name=name)\n",
    "        self.job_title = 'Безработный'\n",
    "    def set_job(self, job_title):\n",
    "        self.job_title = job_title        \n",
    "    def get_job(self):\n",
    "        print(self.name, self.job_title)\n",
    "    \n",
    "class Customer(Person):\n",
    "    def __init__(self, name='Покупатель без имени'):\n",
    "        Person.__init__(self, name=name)\n",
    "        self.email = 'Нет почты'\n",
    "    def set_email(self, email):\n",
    "        self.email = email        \n",
    "    def get_email(self):\n",
    "        print(self.name, self.email)\n",
    "\n",
    "person = Person('Иван')\n",
    "person.say()\n",
    "\n",
    "emp = Employee('Игорь')\n",
    "emp.say()\n",
    "emp.get_job()\n",
    "\n",
    "cust = Customer('Петр')\n",
    "cust.say()\n",
    "cust.get_email()\n",
    "\n",
    "print(type(emp))"
   ]
  },
  {
   "cell_type": "code",
   "execution_count": null,
   "metadata": {},
   "outputs": [],
   "source": []
  },
  {
   "cell_type": "code",
   "execution_count": null,
   "metadata": {},
   "outputs": [],
   "source": [
    "class Person:\n",
    "    def __init__(self, name='Человек без имени'):\n",
    "        self.name = name\n",
    "        self.age = 0\n",
    "    def __str__(self):\n",
    "        return f'{self.name}'                \n",
    "    def say(self):\n",
    "        print(f\"{self.name} говорит\")\n",
    "\n",
    "class Employee(Person):\n",
    "    def __init__(self, name='Работник без имени'):\n",
    "        Person.__init__(self, name=name)\n",
    "        self.job_title = 'Безработный'\n",
    "    def __str__(self):\n",
    "        return f'{self.name} {self.job_title}'                \n",
    "    def set_job(self, job_title):\n",
    "        self.job_title = job_title        \n",
    "\n",
    "class Customer(Person):\n",
    "    def __init__(self, name='Покупатель без имени'):\n",
    "        Person.__init__(self, name=name)\n",
    "        self.email = 'Нет почты'\n",
    "    def __str__(self):\n",
    "        return f'{self.name} {self.email}'\n",
    "    def set_email(self, email):\n",
    "        self.email = email        \n",
    "\n",
    "person = Person('Иван')\n",
    "print(person)\n",
    "\n",
    "emp = Employee('Игорь')\n",
    "print(emp)\n",
    "\n",
    "cust = Customer('Петр')\n",
    "print(cust)"
   ]
  },
  {
   "cell_type": "code",
   "execution_count": null,
   "metadata": {},
   "outputs": [],
   "source": []
  },
  {
   "cell_type": "code",
   "execution_count": null,
   "metadata": {},
   "outputs": [],
   "source": []
  },
  {
   "cell_type": "code",
   "execution_count": null,
   "metadata": {},
   "outputs": [],
   "source": [
    "# Определяем собственное исключение:\n",
    "class MyError(Exception):\n",
    "    pass\n",
    "\n",
    "try:\n",
    "    raise MyError(\"Мое исключение... я могу написать о нем\")\n",
    "except MyError as error:\n",
    "    print(\"Поймали исключение:\", error)"
   ]
  },
  {
   "cell_type": "code",
   "execution_count": null,
   "metadata": {},
   "outputs": [],
   "source": []
  },
  {
   "cell_type": "code",
   "execution_count": null,
   "metadata": {},
   "outputs": [],
   "source": [
    "# упражнение"
   ]
  },
  {
   "cell_type": "code",
   "execution_count": null,
   "metadata": {},
   "outputs": [],
   "source": []
  },
  {
   "cell_type": "code",
   "execution_count": null,
   "metadata": {},
   "outputs": [],
   "source": []
  }
 ],
 "metadata": {
  "kernelspec": {
   "display_name": "Python 3",
   "language": "python",
   "name": "python3"
  },
  "language_info": {
   "codemirror_mode": {
    "name": "ipython",
    "version": 3
   },
   "file_extension": ".py",
   "mimetype": "text/x-python",
   "name": "python",
   "nbconvert_exporter": "python",
   "pygments_lexer": "ipython3",
   "version": "3.8.3"
  }
 },
 "nbformat": 4,
 "nbformat_minor": 4
}
