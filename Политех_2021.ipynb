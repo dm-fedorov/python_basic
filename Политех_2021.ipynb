{
 "cells": [
  {
   "cell_type": "markdown",
   "id": "metric-preparation",
   "metadata": {},
   "source": [
    "<a href=\"https://colab.research.google.com/github/dm-fedorov/python_basic/blob/master/task_01.ipynb\" target=\"_blank\"><img align=\"left\" src=\"https://colab.research.google.com/assets/colab-badge.svg\" alt=\"Open in Colab\" title=\"Open and Execute in Google Colaboratory\"></a>"
   ]
  },
  {
   "cell_type": "markdown",
   "id": "parallel-finland",
   "metadata": {},
   "source": [
    "## Задание 1\n",
    "\n",
    "Напишите функцию `my_log()`, которая принимает на вход список чисел, и возвращает список их натуральных логарифмов. Если число меньше или равно `0`, на его месте в возвращаемом списке должно быть `None`.\n",
    "\n",
    "Пример:\n",
    "\n",
    "Входные данные:\n",
    "\n",
    "    [1, 3, 2.5, -1, 9, 0, 2.71]\n",
    "\n",
    "Выходные данные:\n",
    "\n",
    "    [0.0, 1.0986122886681098, 0.9162907318741551, None, 2.1972245773362196, None, 0.9969486348916096]"
   ]
  },
  {
   "cell_type": "code",
   "execution_count": 10,
   "id": "organizational-terminology",
   "metadata": {},
   "outputs": [],
   "source": [
    "# здесь код"
   ]
  },
  {
   "cell_type": "markdown",
   "id": "nervous-retention",
   "metadata": {},
   "source": [
    "## Задание 2\n",
    "\n",
    "Напиши программу для очистки и нормализации первой главы Моби Дика, находящегося в файле [moby.txt](https://github.com/dm-fedorov/python3_intro/blob/master/lesson_10/moby.txt?raw=True).\n",
    "\n",
    "- Все символы должны относиться к одному регистру. \n",
    "- Удалить все знаки препинания.\n",
    "- Записать слова по одному на строку во второй файл с именем `moby_clean.txt` "
   ]
  },
  {
   "cell_type": "code",
   "execution_count": 11,
   "id": "wound-concern",
   "metadata": {},
   "outputs": [
    {
     "data": {
      "text/plain": [
       "\"Call me Ishmael.  Some years ago--never mind how long precisely--\\nhaving little or no money in my purse, and nothing particular\\nto interest me on shore, I thought I would sail about a little\\nand see the watery part of the world.  It is a way I have\\nof driving off the spleen and regulating the circulation.\\nWhenever I find myself growing grim about the mouth;\\nwhenever it is a damp, drizzly November in my soul; whenever I\\nfind myself involuntarily pausing before coffin warehouses,\\nand bringing up the rear of every funeral I meet;\\nand especially whenever my hypos get such an upper hand of me,\\nthat it requires a strong moral principle to prevent me from\\ndeliberately stepping into the street, and methodically knocking\\npeople's hats off--then, I account it high time to get to sea\\nas soon as I can.  This is my substitute for pistol and ball.\\nWith a philosophical flourish Cato throws himself upon his sword;\\nI quietly take to the ship.  There is nothing surprising in this.\\nIf they but knew it, almost all men in their degree, some time\\nor other, cherish very nearly the same feelings towards\\nthe ocean with me.\\n\\nThere now is your insular city of the Manhattoes, belted round by wharves\\nas Indian isles by coral reefs--commerce surrounds it with her surf.\\nRight and left, the streets take you waterward.  Its extreme downtown\\nis the battery, where that noble mole is washed by waves, and cooled\\nby breezes, which a few hours previous were out of sight of land.\\nLook at the crowds of water-gazers there.\\n\""
      ]
     },
     "execution_count": 11,
     "metadata": {},
     "output_type": "execute_result"
    }
   ],
   "source": [
    "# пример скачивания файла:\n",
    "import requests\n",
    "\n",
    "url = \"https://github.com/dm-fedorov/python3_intro/blob/master/lesson_10/moby.txt?raw=True\"\n",
    "text = requests.get(url).text\n",
    "text\n",
    "\n",
    "# здесь код"
   ]
  },
  {
   "cell_type": "markdown",
   "id": "sixth-handling",
   "metadata": {},
   "source": [
    "## Задание 3\n",
    "\n",
    "Прочитайте содержимое файла `moby_clean.txt`, полученного в `задании 2`. \n",
    "Используйте словарь для подсчета вхождений каждого слова, выведите первые `5` самых частых и самых редких слов."
   ]
  },
  {
   "cell_type": "code",
   "execution_count": 12,
   "id": "pleased-laundry",
   "metadata": {},
   "outputs": [],
   "source": [
    "# здесь код"
   ]
  },
  {
   "cell_type": "markdown",
   "id": "bigger-sauce",
   "metadata": {},
   "source": [
    "## Задание 4\n",
    "\n",
    "Напишите программу, которая моделирует игрушку, предсказывающую будущее: дает случайный ответ на общий вопрос, требующий ответа \"да\" или \"нет\". \n",
    "\n",
    "Файл с ответами: [responses.txt](https://raw.githubusercontent.com/dm-fedorov/python_basic/master/data/responses.txt)\n",
    "\n",
    "Программа должна предложить пользователю задать вопрос и затем показать один из ответов, отобранных из файла случайным образом. Программа должна продолжать работу до тех пор, пока пользователь не будет готов из нее выйти. "
   ]
  },
  {
   "cell_type": "code",
   "execution_count": 13,
   "id": "biblical-walker",
   "metadata": {},
   "outputs": [],
   "source": [
    "# здесь код"
   ]
  },
  {
   "cell_type": "markdown",
   "id": "otherwise-cartoon",
   "metadata": {},
   "source": [
    "## Задание 5\n",
    "\n",
    "Напишите программу, выполняющую функции простейшего калькулятора. \n",
    "\n",
    "Программа получает два числа, а затем запрашивает оператор. "
   ]
  },
  {
   "cell_type": "code",
   "execution_count": 14,
   "id": "unknown-framework",
   "metadata": {},
   "outputs": [],
   "source": [
    "# здесь код"
   ]
  },
  {
   "cell_type": "code",
   "execution_count": null,
   "id": "painful-kingston",
   "metadata": {},
   "outputs": [],
   "source": []
  }
 ],
 "metadata": {
  "kernelspec": {
   "display_name": "Python 3",
   "language": "python",
   "name": "python3"
  },
  "language_info": {
   "codemirror_mode": {
    "name": "ipython",
    "version": 3
   },
   "file_extension": ".py",
   "mimetype": "text/x-python",
   "name": "python",
   "nbconvert_exporter": "python",
   "pygments_lexer": "ipython3",
   "version": "3.8.2"
  }
 },
 "nbformat": 4,
 "nbformat_minor": 5
}
