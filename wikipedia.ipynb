{
 "cells": [
  {
   "cell_type": "code",
   "execution_count": null,
   "metadata": {},
   "outputs": [],
   "source": [
    "#!pip install wikipedia"
   ]
  },
  {
   "cell_type": "code",
   "execution_count": 2,
   "metadata": {},
   "outputs": [],
   "source": [
    "import wikipedia"
   ]
  },
  {
   "cell_type": "code",
   "execution_count": 3,
   "metadata": {},
   "outputs": [],
   "source": [
    "wikipedia.set_lang('ru')"
   ]
  },
  {
   "cell_type": "code",
   "execution_count": 4,
   "metadata": {},
   "outputs": [
    {
     "data": {
      "text/plain": [
       "['Python',\n",
       " 'Монти Пайтон',\n",
       " 'Colt Python',\n",
       " 'Python (значения)',\n",
       " 'Стандартная библиотека Python',\n",
       " 'Anaconda (дистрибутив Python)',\n",
       " 'Ван Россум, Гвидо',\n",
       " 'Питоны',\n",
       " 'PL/Python',\n",
       " 'История языка программирования Python']"
      ]
     },
     "execution_count": 4,
     "metadata": {},
     "output_type": "execute_result"
    }
   ],
   "source": [
    "wikipedia.search('Python')"
   ]
  },
  {
   "cell_type": "code",
   "execution_count": 5,
   "metadata": {},
   "outputs": [],
   "source": [
    "python = wikipedia.page('Python')"
   ]
  },
  {
   "cell_type": "code",
   "execution_count": 6,
   "metadata": {},
   "outputs": [
    {
     "data": {
      "text/plain": [
       "'https://ru.wikipedia.org/wiki/Python'"
      ]
     },
     "execution_count": 6,
     "metadata": {},
     "output_type": "execute_result"
    }
   ],
   "source": [
    "python.url"
   ]
  },
  {
   "cell_type": "code",
   "execution_count": 7,
   "metadata": {},
   "outputs": [
    {
     "data": {
      "text/plain": [
       "'Python (МФА: [ˈpʌɪθ(ə)n]; в русском языке распространено название пито́н) — высокоуровневый язык программирования общего назначения, ориентированный на повышение производительности разработчика и читаемости кода. Синтаксис ядра Python минималистичен. В то же время стандартная библиотека включает большой набор полезных функций.\\nPython поддерживает структурное, обобщенное, объектно-ориентированное, функциональное и аспектно-ориентированное программирование. Основные архитектурные черты — динамическая типизация, автоматическое управление памятью, полная интроспекция, механизм обработки исключений, поддержка многопоточных вычислений, высокоуровневые структуры данных. Поддерживается разбиение программ на модули, которые, в свою очередь, могут объединяться в пакеты.\\nЭталонной реализацией Python является интерпретатор CPython, поддерживающий большинство активно используемых платформ. Он распространяется под свободной лицензией Python Software Foundation License, позволяющей использовать его без ограничений в любых приложениях, включая проприетарные. Есть реализация интерпретатора для JVM с возможностью компиляции, CLR, LLVM, другие независимые реализации. Проект PyPy использует JIT-компиляцию, которая значительно увеличивает скорость выполнения Python-программ.\\nPython — активно развивающийся язык программирования, новые версии с добавлением/изменением языковых свойств выходят примерно раз в два с половиной года. Язык не подвергался официальной стандартизации, роль стандарта де-факто выполняет CPython, разрабатываемый под контролем автора языка. В настоящий момент Python занимает третье место в рейтинге TIOBE с показателем 10,2 %. Аналитики отмечают, что это самый высокий балл Python за все время его присутствия в рейтинге.'"
      ]
     },
     "execution_count": 7,
     "metadata": {},
     "output_type": "execute_result"
    }
   ],
   "source": [
    "python.summary"
   ]
  },
  {
   "cell_type": "code",
   "execution_count": 8,
   "metadata": {
    "scrolled": true
   },
   "outputs": [
    {
     "data": {
      "text/plain": [
       "['https://upload.wikimedia.org/wikipedia/commons/4/4a/Commons-logo.svg',\n",
       " 'https://upload.wikimedia.org/wikipedia/commons/4/48/Folder_Hexagonal_Icon.svg',\n",
       " 'https://upload.wikimedia.org/wikipedia/commons/6/66/Guido_van_Rossum_OSCON_2006.jpg',\n",
       " 'https://upload.wikimedia.org/wikipedia/commons/7/76/Notification-icon-Commons-logo.svg',\n",
       " 'https://upload.wikimedia.org/wikipedia/commons/e/e0/Notification-icon-Wikibooks-logo.svg',\n",
       " 'https://upload.wikimedia.org/wikipedia/commons/5/5a/Notification-icon-Wikisource-logo.svg',\n",
       " 'https://upload.wikimedia.org/wikipedia/commons/f/fd/Portal-puzzle.svg',\n",
       " 'https://upload.wikimedia.org/wikipedia/commons/d/d7/Python%27s_IDLE.png',\n",
       " 'https://upload.wikimedia.org/wikipedia/commons/1/10/Python_3._The_standard_type_hierarchy.png',\n",
       " 'https://upload.wikimedia.org/wikipedia/commons/6/68/Python_batteries_included.jpg',\n",
       " 'https://upload.wikimedia.org/wikipedia/commons/f/f8/Python_logo_and_wordmark.svg',\n",
       " 'https://upload.wikimedia.org/wikipedia/commons/8/89/Symbol_book_class2.svg',\n",
       " 'https://upload.wikimedia.org/wikipedia/commons/d/db/Symbol_list_class.svg',\n",
       " 'https://upload.wikimedia.org/wikipedia/commons/8/89/Symbol_neutral_vote.svg',\n",
       " 'https://upload.wikimedia.org/wikipedia/commons/e/e0/Symbol_question.svg',\n",
       " 'https://upload.wikimedia.org/wikipedia/commons/c/c9/Wikipedia_interwiki_section_gear_icon.svg',\n",
       " 'https://upload.wikimedia.org/wikipedia/ru/8/89/Python-icon.png']"
      ]
     },
     "execution_count": 8,
     "metadata": {},
     "output_type": "execute_result"
    }
   ],
   "source": [
    "python.images"
   ]
  },
  {
   "cell_type": "code",
   "execution_count": 9,
   "metadata": {
    "scrolled": true
   },
   "outputs": [
    {
     "data": {
      "text/plain": [
       "['http://aspn.activestate.com/ASPN/Cookbook/Python/Recipe/426123',\n",
       " 'http://www.artima.com/intv/python2.html',\n",
       " 'http://www.artima.com/intv/pythonP.html',\n",
       " 'http://www.artima.com/weblogs/viewpost.jsp?thread=211200',\n",
       " 'http://qinsb.blogspot.com/2011/03/unladen-swallow-retrospective.html',\n",
       " 'http://www.codeplex.com/Wiki/View.aspx?ProjectName=IronPython',\n",
       " 'http://corepython.com/',\n",
       " 'http://www.damonkohler.com/2008/12/python-on-android.html',\n",
       " 'http://www.drdobbs.com/building-hybrid-systems-with-boostpython/184401666',\n",
       " 'http://egenix.com/',\n",
       " 'http://code.google.com/p/overloading-lib/',\n",
       " 'http://code.google.com/p/python-safethread/',\n",
       " 'http://code.google.com/p/unladen-swallow/wiki/ProjectPlan',\n",
       " 'http://inventwithpython.com/chapters/',\n",
       " 'http://insidetech.monster.com/training/articles/8114-15-ways-python-is-a-powerful-force-on-the-web',\n",
       " 'http://wiki.opensource.nokia.com/projects/PyS60',\n",
       " 'http://oakwinter.com/code/typecheck/',\n",
       " 'http://chimera.labs.oreilly.com/books/1230000000393/pr01.html',\n",
       " 'http://www.parallelpython.com/',\n",
       " 'http://qpython.com/',\n",
       " 'http://stackoverflow.com/questions/68630/are-tuples-more-efficient-than-lists-in-python',\n",
       " 'http://peak.telecommunity.com/DevCenter/FrontPage',\n",
       " 'http://peak.telecommunity.com/DevCenter/RulesReadme',\n",
       " 'http://citeseerx.ist.psu.edu/viewdoc/summary?doi=10.1.1.38.2023',\n",
       " 'http://www.stsci.edu/resources/software_hardware/numarray',\n",
       " 'http://www.brython.info/',\n",
       " 'http://younglinux.info/python.php',\n",
       " 'http://codespeak.net/pypy/dist/pypy/doc/carbonpython.html',\n",
       " 'http://codespeak.net/pypy/dist/pypy/doc/coding-guide.html',\n",
       " 'http://www.diveintopython3.net/',\n",
       " 'http://www.diveintopython3.net',\n",
       " 'http://cxx.sourceforge.net/',\n",
       " 'http://pychecker.sourceforge.net/',\n",
       " 'http://pyfortran.sourceforge.net/',\n",
       " 'http://pyinline.sourceforge.net/',\n",
       " 'http://pympi.sourceforge.net/',\n",
       " 'http://pyopengl.sourceforge.net/',\n",
       " 'http://pythonnet.sourceforge.net/',\n",
       " 'http://www.cosc.canterbury.ac.nz/greg.ewing/python/Pyrex/',\n",
       " 'http://www.altlinux.org/Books:PythonSchool',\n",
       " 'http://web.archive.org/web/20120126001317/http://inventwithpython.com/chapters/',\n",
       " 'http://web.archive.org/web/20200921203043/https://docs.blender.org/manual/en/latest/advanced/scripting/introduction.html',\n",
       " 'http://web.archive.org/web/20200922204821/https://dropbox.tech/application/our-journey-to-type-checking-4-million-lines-of-python',\n",
       " 'http://web.archive.org/web/20200923160619/https://gis.ucar.edu/building-plugin-qgis',\n",
       " 'http://web.archive.org/web/20200923172045/https://www.kickstarter.com/projects/421164014/openshot-video-editor-for-windows-mac-and-linux/description',\n",
       " 'http://web.archive.org/web/20201002201841/https://www.oryxthejournal.org/writing-for-conservation-guide/plot-with-a-purpose.html',\n",
       " 'http://web.archive.org/web/20201002203816/https://veusz.github.io/development/',\n",
       " 'http://web.archive.org/web/20201002210222/https://iopscience.iop.org/article/10.3847/1538-3881/aabc4f/pdf',\n",
       " 'http://www.boost.org/libs/python/doc/',\n",
       " 'http://www.boost.org/libs/python/pyste/index.html',\n",
       " 'http://www.bpython-interpreter.org/',\n",
       " 'http://www.cython.org/',\n",
       " 'http://shootout.alioth.debian.org/',\n",
       " 'http://shootout.alioth.debian.org/u32/benchmark.php?test=all&lang=python&lang2=gpp&box=1',\n",
       " 'http://dx.doi.org/10.3389%2Fneuro.11.005.2009',\n",
       " 'http://dx.doi.org/10.3847%2F1538-3881%2Faabc4f',\n",
       " 'http://effbot.org/zone/call-by-object.htm',\n",
       " 'http://www.jython.org/',\n",
       " 'http://www.logilab.org/view?rql=Any%20X%20WHERE%20X%20eid%20857',\n",
       " 'http://micropython.org/',\n",
       " 'http://www.ogre3d.org/wiki/index.php/PyOgre',\n",
       " 'http://www.opencascade.org/',\n",
       " 'http://perldoc.perl.org/perlthrtut.html',\n",
       " 'http://docs.pylint.org/intro.html',\n",
       " 'http://python.org/download/releases/3.0/',\n",
       " 'http://docs.python.org/dev/whatsnew/3.2.html#multi-threading',\n",
       " 'http://docs.python.org/faq/general#why-is-it-called-python',\n",
       " 'http://docs.python.org/faq/general.html#why-was-python-created-in-the-first-place',\n",
       " 'http://docs.python.org/howto/functional.html',\n",
       " 'http://docs.python.org/library/stdtypes.html',\n",
       " 'http://docs.python.org/reference/lexical_analysis.html#reserved-classes-of-identifiers',\n",
       " 'http://docs.python.org/tutorial/classes.html',\n",
       " 'http://docs.python.org/whatsnew/2.6.html#port-specific-changes-windows',\n",
       " 'http://mail.python.org/pipermail/python-dev/2009-October/093321.html',\n",
       " 'http://pypi.python.org/pypi/processing',\n",
       " 'http://svn.python.org/view/*checkout*/python/trunk/Misc/HISTORY',\n",
       " 'http://www.python.org/',\n",
       " 'http://www.python.org/2.5/license.html',\n",
       " 'http://www.python.org/about/',\n",
       " 'http://www.python.org/dev/peps/',\n",
       " 'http://www.python.org/dev/peps/pep-0318/',\n",
       " 'http://www.python.org/dev/peps/pep-0333/',\n",
       " 'http://www.python.org/dev/peps/pep-3107/',\n",
       " 'http://www.python.org/dev/peps/pep-3124/',\n",
       " 'http://www.python.org/dev/peps/pep-3146/',\n",
       " 'http://www.python.org/doc/essays/foreword/',\n",
       " 'http://www.python.org/peps/pep-0020.html',\n",
       " 'http://www.pythonocc.org/',\n",
       " 'http://ipython.scipy.org/',\n",
       " 'http://www.scipy.org/Weave',\n",
       " 'http://softwaremaniacs.org/blog/2005/12/08/django/',\n",
       " 'http://www.tinypy.org/',\n",
       " 'http://www.worldcat.org/search?fq=x0:jrnl&q=n2:1538-3881',\n",
       " 'http://www.worldcat.org/search?fq=x0:jrnl&q=n2:1662-5196',\n",
       " 'http://www.wxpython.org/',\n",
       " 'http://blog.jetfix.ru/post/zamykaniya-v-python-chto-eto-i-s-chem-ih-edyat',\n",
       " 'http://pyhrol.ru/',\n",
       " 'http://dfedorov.spb.ru/python3/book.pdf',\n",
       " 'http://www.symbol.ru/date/634254.html',\n",
       " 'http://www.symbol.ru/date/661501.html',\n",
       " 'http://www.symbol.ru/date/784182.html',\n",
       " 'http://www.symbol.ru/date/816603.html',\n",
       " 'http://www.symbol.ru/date/841171.html',\n",
       " 'http://www.xakep.ru/magazine/xa/117/088/1.asp',\n",
       " 'http://www.riverbankcomputing.co.uk/sip/',\n",
       " 'https://all3dp.com/1/best-3d-slicer-software-3d-printer/',\n",
       " 'https://pythoninsider.blogspot.com/2020/10/python-390-is-now-available-and-you-can.html',\n",
       " 'https://code.facebook.com/posts/1040181199381023/python-in-production-engineering/',\n",
       " 'https://github.com/Ultimaker/Cura',\n",
       " 'https://github.com/google/googletest/blob/b88511ef640c046ec9c7553b383a2aba64c80967/googlemock/scripts/generator/README',\n",
       " 'https://opensource.googleblog.com/2017/01/grumpy-go-running-python.html',\n",
       " 'https://habr.com/post/417047/',\n",
       " 'https://habr.com/post/421659/',\n",
       " 'https://engineering.instagram.com/what-powers-instagram-hundreds-of-instances-dozens-of-technologies-adf2e22da2ad',\n",
       " 'https://www.kickstarter.com/projects/421164014/openshot-video-editor-for-windows-mac-and-linux',\n",
       " 'https://docs.microsoft.com/ru-ru/power-bi/desktop-python-scripts',\n",
       " 'https://www.phoronix.com/scan.php?page=news_item&px=Python-3.9-Released',\n",
       " 'https://www.sidefx.com/docs/houdini/hom/index.html',\n",
       " 'https://www.tiobe.com/tiobe-index/python/',\n",
       " 'https://impythonist.wordpress.com/2014/02/16/open-heart-with-guido-van-rosuuma-lost-interview-of-python-creator-part2/',\n",
       " 'https://www.youtube.com/watch?v=4XzGHzLgyng',\n",
       " 'https://www.youtube.com/watch?v=FsAPt_9Bf3U',\n",
       " 'https://gis.ucar.edu/building-plugin-qgis',\n",
       " 'https://veusz.github.io/development/',\n",
       " 'https://lwn.net/Articles/833550/',\n",
       " 'https://web.archive.org/web/20070203081217/http://www.boost.org/libs/python/pyste/index.html',\n",
       " 'https://web.archive.org/web/20070204104248/http://oakwinter.com/code/typecheck/',\n",
       " 'https://web.archive.org/web/20070206205611/http://www.ogre3d.org/wiki/index.php/PyOgre',\n",
       " 'https://web.archive.org/web/20070208081606/http://www.riverbankcomputing.co.uk/sip/',\n",
       " 'https://web.archive.org/web/20070301021602/http://www.scipy.org/Weave',\n",
       " 'https://web.archive.org/web/20070707005837/http://codespeak.net/pypy/dist/pypy/doc/coding-guide.html#restricted-python',\n",
       " 'https://web.archive.org/web/20070912131432/http://codespeak.net/pypy/dist/pypy/doc/carbonpython.html',\n",
       " 'https://web.archive.org/web/20090806081738/http://wiki.opensource.nokia.com/projects/PyS60',\n",
       " 'https://web.archive.org/web/20100528112950/http://www.parallelpython.com/',\n",
       " 'https://web.archive.org/web/20120831065317/http://shootout.alioth.debian.org/',\n",
       " 'https://web.archive.org/web/20130810230937/http://zephyrfalcon.org/labs/python_pitfalls.html',\n",
       " 'https://web.archive.org/web/20140815085458/https://docs.python.org/3.0/whatsnew/3.0.html',\n",
       " 'https://web.archive.org/web/20150906104126/http://insidetech.monster.com/training/articles/8114-15-ways-python-is-a-powerful-force-on-the-web',\n",
       " 'https://web.archive.org/web/20160217132249/http://svn.python.org/view/*checkout*/python/trunk/Misc/HISTORY',\n",
       " 'https://web.archive.org/web/20161011223331/http://blog.jetfix.ru/post/zamykaniya-v-python-chto-eto-i-s-chem-ih-edyat',\n",
       " 'https://web.archive.org/web/20171102043224/http://chimera.labs.oreilly.com/books/1230000000393/pr01.html',\n",
       " 'https://web.archive.org/web/20180804135112/http://ipython.scipy.org/',\n",
       " 'https://docs.blender.org/manual/en/latest/advanced/scripting/introduction.html',\n",
       " 'https://fedoramagazine.org/using-gns3-with-fedora/',\n",
       " 'https://www.frontiersin.org/articles/10.3389/neuro.11.005.2009/full',\n",
       " 'https://iopscience.iop.org/article/10.3847/1538-3881/aabc4f/pdf',\n",
       " 'https://www.oryxthejournal.org/writing-for-conservation-guide/plot-with-a-purpose.html',\n",
       " 'https://www.oryxthejournal.org/writing-for-conservation-guide',\n",
       " 'https://docs.python.org/2/faq/general.html#why-is-it-called-python',\n",
       " 'https://docs.python.org/2/library/pprint.html',\n",
       " 'https://docs.python.org/3.0/whatsnew/3.0.html',\n",
       " 'https://docs.python.org/3.5/using/windows.html',\n",
       " 'https://docs.python.org/3.6/tutorial/index.html',\n",
       " 'https://docs.python.org/3/faq/windows.html#is-a-pyd-file-the-same-as-a-dll',\n",
       " 'https://docs.python.org/3/library/re.html',\n",
       " 'https://docs.python.org/3/license.html',\n",
       " 'https://docs.python.org/3/reference/compound_stmts.html',\n",
       " 'https://mail.python.org/pipermail/python-committers/2018-July/005664.html',\n",
       " 'https://www.python.org/',\n",
       " 'https://www.python.org/dev/peps/pep-0484/#generics',\n",
       " 'https://www.python.org/downloads/',\n",
       " 'https://www.webcitation.org/5w4n0S15k?url=http://www.damonkohler.com/2008/12/python-on-android.html',\n",
       " 'https://www.webcitation.org/5w4n1Glim?url=http://docs.python.org/whatsnew/2.6.html#port-specific-changes-windows',\n",
       " 'https://www.webcitation.org/5w4n2As6O?url=http://docs.python.org/reference/lexical_analysis.html#reserved-classes-of-identifiers',\n",
       " 'https://www.webcitation.org/5w4n30Deb?url=http://shootout.alioth.debian.org/u32/benchmark.php?test=all',\n",
       " 'https://www.webcitation.org/5w4n3soB7?url=http://code.google.com/p/unladen-swallow/wiki/ProjectPlan',\n",
       " 'https://books.google.ru/books?id=1HxWGezDZcgC&pg=PA8',\n",
       " 'https://books.google.ru/books?id=jLFjDwAAQBAJ&pg=PA64',\n",
       " 'https://iz.ru/788412/2018-09-12/iazyk-programmirovaniia-python-izmenitsia-radi-politkorrektnosti',\n",
       " 'https://dropbox.tech/application/our-journey-to-type-checking-4-million-lines-of-python']"
      ]
     },
     "execution_count": 9,
     "metadata": {},
     "output_type": "execute_result"
    }
   ],
   "source": [
    "python.references"
   ]
  },
  {
   "cell_type": "code",
   "execution_count": null,
   "metadata": {},
   "outputs": [],
   "source": []
  }
 ],
 "metadata": {
  "kernelspec": {
   "display_name": "Python 3",
   "language": "python",
   "name": "python3"
  },
  "language_info": {
   "codemirror_mode": {
    "name": "ipython",
    "version": 3
   },
   "file_extension": ".py",
   "mimetype": "text/x-python",
   "name": "python",
   "nbconvert_exporter": "python",
   "pygments_lexer": "ipython3",
   "version": "3.8.3"
  }
 },
 "nbformat": 4,
 "nbformat_minor": 4
}
