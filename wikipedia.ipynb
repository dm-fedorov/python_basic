{
 "cells": [
  {
   "cell_type": "code",
   "execution_count": 13,
   "metadata": {},
   "outputs": [],
   "source": [
    "#!pip install wikipedia"
   ]
  },
  {
   "cell_type": "code",
   "execution_count": 14,
   "metadata": {},
   "outputs": [],
   "source": [
    "import wikipedia"
   ]
  },
  {
   "cell_type": "code",
   "execution_count": 15,
   "metadata": {},
   "outputs": [],
   "source": [
    "wikipedia.set_lang('ru')"
   ]
  },
  {
   "cell_type": "code",
   "execution_count": 16,
   "metadata": {},
   "outputs": [
    {
     "data": {
      "text/plain": [
       "['Python',\n",
       " 'Colt Python',\n",
       " 'Монти Пайтон',\n",
       " 'Python (значения)',\n",
       " 'Anaconda (дистрибутив Python)',\n",
       " 'Стандартная библиотека Python',\n",
       " 'История языка программирования Python',\n",
       " 'Питоны',\n",
       " 'Python Software Foundation',\n",
       " 'PL/Python']"
      ]
     },
     "execution_count": 16,
     "metadata": {},
     "output_type": "execute_result"
    }
   ],
   "source": [
    "wikipedia.search('Python')"
   ]
  },
  {
   "cell_type": "code",
   "execution_count": 17,
   "metadata": {},
   "outputs": [],
   "source": [
    "python = wikipedia.page('Python')"
   ]
  },
  {
   "cell_type": "code",
   "execution_count": 18,
   "metadata": {},
   "outputs": [
    {
     "data": {
      "text/plain": [
       "'https://ru.wikipedia.org/wiki/Python'"
      ]
     },
     "execution_count": 18,
     "metadata": {},
     "output_type": "execute_result"
    }
   ],
   "source": [
    "python.url"
   ]
  },
  {
   "cell_type": "code",
   "execution_count": 19,
   "metadata": {},
   "outputs": [
    {
     "data": {
      "text/plain": [
       "'Python (МФА: [ˈpʌɪθ(ə)n]; в русском языке распространено название пито́н или па́йтон) — высокоуровневый язык программирования общего назначения с динамической типизацией и автоматическим управлением памятью, ориентированный на повышение производительности разработчика, читаемости кода и его качества, а также на обеспечение переносимости написанных на нём программ. Язык является полностью объектно-ориентированным — всё является объектами. Необычной особенностью языка является выделение блоков кода пробельными отступами. Синтаксис ядра языка минималистичен, за счёт чего на практике редко возникает необходимость обращаться к документации, сам же язык известен как интерпретируемый и используется в том числе для написания скриптов. Недостатками языка являются зачастую более низкая скорость работы и более высокое потребление памяти написанных на нём программ по сравнению с аналогичным кодом, написанным на Си или C++.\\nPython является мультипарадигмальным языком программирования, поддерживающим императивное, процедурное, структурное, объектно-ориентированное и функциональное программирование. Задачи обобщённого программирования решаются за счёт динамической типизации. Аспектно-ориентированное программирование частично поддерживается через декораторы, более полноценная поддержка обеспечивается дополнительными фреймворками. Такие методики как контрактное и логическое программирование можно реализовать с помощью библиотек или расширений. Основные архитектурные черты — динамическая типизация, автоматическое управление памятью, полная интроспекция, механизм обработки исключений, поддержка многопоточных вычислений с глобальной блокировкой интерпретатора (GIL), высокоуровневые структуры данных. Поддерживается разбиение программ на модули, которые, в свою очередь, могут объединяться в пакеты.\\nЭталонной реализацией Python является интерпретатор CPython, поддерживающий большинство активно используемых платформ и являющийся стандартом де-факто языка. Он распространяется под свободной лицензией Python Software Foundation License, позволяющей использовать его без ограничений в любых приложениях, включая проприетарные. CPython компилирует исходные тексты в высокоуровневый байткод, который исполняется в стековой виртуальной машине. К другим трём основным реализациям языка относятся Jython (для JVM), IronPython (для CLR/.NET) и PyPy. PyPy написан на подмножестве языка Python (RPython) и разрабатывался как альтернатива CPython с целью повышения скорости исполнения программ, в том числе за счёт использования JIT-компиляции. Поддержка версии Python 2 закончилась в 2020 году. На текущий момент активно развивается версия языка Python 3. Разработка языка ведётся через предложения по расширению языка PEP (англ. Python Enhancement Proposal), в которых описываются нововведения, делаются корректировки согласно обратной связи от сообщества и документируются итоговые решения.\\nСтандартная библиотека включает большой набор полезных переносимых функций, начиная от функционала для работы с текстом и заканчивая средствами для написания сетевых приложений. Дополнительные возможности, такие как математическое моделирование, работа с оборудованием, написание веб-приложений или разработка игр, могут реализовываться посредством обширного количества сторонних библиотек, а также интеграцией библиотек, написанных на Си или C++, при этом и сам интерпретатор Python может интегрироваться в проекты, написанные на этих языках. Существует и специализированный репозиторий программного обеспечения, написанного на Python, — PyPI. Данный репозиторий предоставляет средства для простой установки пакетов в операцонную систему и стал стандартом де-факто для Python. По состоянию на 2019 год в нём содержалось более 175 тысяч пакетов.\\nPython стал одним из самых популярных языков, он используется в анализе данных, машинном обучении, DevOps и веб-разработке, а также в других сферах, включая разработку игр. За счёт читабельности, простого синтаксиса и отсутствия необходимости в компиляции язык хорошо подходит для обучения программированию, позволяя концентрироваться на изучении алгоритмов, концептов и парадигм. Отладка же в значительной степени облегчается тем фактом, что язык является интерпретируемым. Применяется язык многими крупными компаниями, такими как Google или Facebook. По состоянию на февраль 2020 года Python занимает третье место в рейтинге TIOBE популярности языков программирования с показателем 10,86 %. «Языком года» по версии TIOBE Python объявлялся в 2007, 2010, 2018 и 2020 году.'"
      ]
     },
     "execution_count": 19,
     "metadata": {},
     "output_type": "execute_result"
    }
   ],
   "source": [
    "python.summary"
   ]
  },
  {
   "cell_type": "code",
   "execution_count": 20,
   "metadata": {
    "scrolled": true
   },
   "outputs": [
    {
     "data": {
      "text/plain": [
       "['https://upload.wikimedia.org/wikipedia/commons/4/4a/Commons-logo.svg',\n",
       " 'https://upload.wikimedia.org/wikipedia/commons/4/48/Folder_Hexagonal_Icon.svg',\n",
       " 'https://upload.wikimedia.org/wikipedia/commons/6/66/Guido_van_Rossum_OSCON_2006.jpg',\n",
       " 'https://upload.wikimedia.org/wikipedia/commons/7/76/Notification-icon-Commons-logo.svg',\n",
       " 'https://upload.wikimedia.org/wikipedia/commons/e/e0/Notification-icon-Wikibooks-logo.svg',\n",
       " 'https://upload.wikimedia.org/wikipedia/commons/5/5a/Notification-icon-Wikisource-logo.svg',\n",
       " 'https://upload.wikimedia.org/wikipedia/commons/e/ec/Planned_section.svg',\n",
       " 'https://upload.wikimedia.org/wikipedia/commons/f/fd/Portal-puzzle.svg',\n",
       " 'https://upload.wikimedia.org/wikipedia/commons/d/d7/Python%27s_IDLE.png',\n",
       " 'https://upload.wikimedia.org/wikipedia/commons/1/10/Python_3._The_standard_type_hierarchy.png',\n",
       " 'https://upload.wikimedia.org/wikipedia/commons/6/68/Python_batteries_included.jpg',\n",
       " 'https://upload.wikimedia.org/wikipedia/commons/7/72/Python_logo_1990s.svg',\n",
       " 'https://upload.wikimedia.org/wikipedia/commons/f/f8/Python_logo_and_wordmark.svg',\n",
       " 'https://upload.wikimedia.org/wikipedia/commons/8/89/Symbol_book_class2.svg',\n",
       " 'https://upload.wikimedia.org/wikipedia/commons/d/db/Symbol_list_class.svg',\n",
       " 'https://upload.wikimedia.org/wikipedia/commons/8/89/Symbol_neutral_vote.svg',\n",
       " 'https://upload.wikimedia.org/wikipedia/commons/e/e0/Symbol_question.svg',\n",
       " 'https://upload.wikimedia.org/wikipedia/commons/8/82/Text-x-python.svg',\n",
       " 'https://upload.wikimedia.org/wikipedia/commons/c/c9/Wikipedia_interwiki_section_gear_icon.svg']"
      ]
     },
     "execution_count": 20,
     "metadata": {},
     "output_type": "execute_result"
    }
   ],
   "source": [
    "python.images"
   ]
  },
  {
   "cell_type": "code",
   "execution_count": 21,
   "metadata": {
    "scrolled": true
   },
   "outputs": [
    {
     "data": {
      "text/plain": [
       "['http://aspn.activestate.com/ASPN/Cookbook/Python/Recipe/426123',\n",
       " 'http://www.artima.com/intv/python2.html',\n",
       " 'http://www.artima.com/intv/pythonP.html',\n",
       " 'http://www.artima.com/weblogs/viewpost.jsp?thread=211200',\n",
       " 'http://qinsb.blogspot.com/2011/03/unladen-swallow-retrospective.html',\n",
       " 'http://www.codeplex.com/Wiki/View.aspx?ProjectName=IronPython',\n",
       " 'http://corepython.com/',\n",
       " 'http://www.damonkohler.com/2008/12/python-on-android.html',\n",
       " 'http://www.drdobbs.com/building-hybrid-systems-with-boostpython/184401666',\n",
       " 'http://ebeab.com/2014/01/21/python-culture/',\n",
       " 'http://egenix.com/',\n",
       " 'http://code.google.com/p/overloading-lib/',\n",
       " 'http://code.google.com/p/python-safethread/',\n",
       " 'http://code.google.com/p/unladen-swallow/wiki/ProjectPlan',\n",
       " 'http://ijaerd.com/papers/special_papers/IT032.pdf',\n",
       " 'http://inventwithpython.com/chapters/',\n",
       " 'http://www.linuxdevcenter.com/pub/a/linux/2001/11/29/ruby.html',\n",
       " 'http://wiki.opensource.nokia.com/projects/PyS60',\n",
       " 'http://oakwinter.com/code/typecheck/',\n",
       " 'http://radar.oreilly.com/2014/10/python-tuples-immutable-but-potentially-changing.html',\n",
       " 'http://shop.oreilly.com/product/9780596007973.do',\n",
       " 'http://www.parallelpython.com/',\n",
       " 'http://qpython.com/',\n",
       " 'http://peak.telecommunity.com/DevCenter/FrontPage',\n",
       " 'http://peak.telecommunity.com/DevCenter/RulesReadme',\n",
       " 'http://radio.weblogs.com/0112098/2003/08/29.html',\n",
       " 'http://facweb.cs.depaul.edu/sjost/it211/documents/structured.htm',\n",
       " 'http://citeseerx.ist.psu.edu/viewdoc/summary?doi=10.1.1.38.2023',\n",
       " 'http://www.stsci.edu/resources/software_hardware/numarray',\n",
       " 'http://www.brython.info/',\n",
       " 'http://younglinux.info/python.php',\n",
       " 'http://codespeak.net/pypy/dist/pypy/doc/carbonpython.html',\n",
       " 'http://codespeak.net/pypy/dist/pypy/doc/coding-guide.html',\n",
       " 'http://cxx.sourceforge.net/',\n",
       " 'http://pychecker.sourceforge.net/',\n",
       " 'http://pyfortran.sourceforge.net/',\n",
       " 'http://pyinline.sourceforge.net/',\n",
       " 'http://pympi.sourceforge.net/',\n",
       " 'http://pyopengl.sourceforge.net/',\n",
       " 'http://pythonnet.sourceforge.net/',\n",
       " 'http://www.wayforward.net/pycontract/',\n",
       " 'http://www.cosc.canterbury.ac.nz/greg.ewing/python/Pyrex/',\n",
       " 'http://www.altlinux.org/Books:PythonSchool',\n",
       " 'http://web.archive.org/web/20120126001317/http://inventwithpython.com/chapters/',\n",
       " 'http://web.archive.org/web/20180422011318/http://ojs.pythonpapers.org/index.php/tpp/article/download/218/202',\n",
       " 'http://web.archive.org/web/20200715080906/http://www.ijaerd.com/papers/special_papers/IT032.pdf',\n",
       " 'http://web.archive.org/web/20201002201841/https://www.oryxthejournal.org/writing-for-conservation-guide/plot-with-a-purpose.html',\n",
       " 'http://web.archive.org/web/20201002210222/https://iopscience.iop.org/article/10.3847/1538-3881/aabc4f/pdf',\n",
       " 'http://web.archive.org/web/20201111215017/https://wiki.python.org/moin/PythonImplementations',\n",
       " 'http://web.archive.org/web/20201204155936/https://developers.google.com/edu/python/introduction',\n",
       " 'http://web.archive.org/web/20210221072641/https://www.oreilly.com/library/view/python-cookbook-3rd/9781449357337/ch10.html',\n",
       " 'http://web.archive.org/web/20210221190643/https://www.oreilly.com/library/view/mastering-object-oriented-python/9781789531367/8cc23b01-44dd-4d1c-8993-f11107febf72.xhtml',\n",
       " 'http://web.archive.org/web/20210223142412/https://cs.ucsb.edu/sites/cs.ucsb.edu/files/docs/reports/2010-14.pdf',\n",
       " 'http://www.boost.org/libs/python/doc/',\n",
       " 'http://www.boost.org/libs/python/pyste/index.html',\n",
       " 'http://www.bpython-interpreter.org/',\n",
       " 'http://www.cython.org/',\n",
       " 'http://shootout.alioth.debian.org/',\n",
       " 'http://shootout.alioth.debian.org/u32/benchmark.php?test=all&lang=python&lang2=gpp&box=1',\n",
       " 'http://dx.doi.org/10.1007%2F978-3-642-45404-2_5',\n",
       " 'http://dx.doi.org/10.1016%2Fj.ascom.2014.12.001',\n",
       " 'http://dx.doi.org/10.1371%2Fjournal.pcbi.1004867',\n",
       " 'http://dx.doi.org/10.2139%2Fssrn.3426281',\n",
       " 'http://dx.doi.org/10.3389%2Fneuro.11.005.2009',\n",
       " 'http://dx.doi.org/10.3847%2F1538-3881%2Faabc4f',\n",
       " 'http://wiki.ecmascript.org/doku.php?id=proposals:iterators_and_generators',\n",
       " 'http://effbot.org/zone/call-by-object.htm',\n",
       " 'http://www.jython.org/',\n",
       " 'http://www.logilab.org/view?rql=Any%20X%20WHERE%20X%20eid%20857',\n",
       " 'http://micropython.org/',\n",
       " 'http://nondot.org/sabre',\n",
       " 'http://www.nongnu.org/pydbc/',\n",
       " 'http://www.ogre3d.org/wiki/index.php/PyOgre',\n",
       " 'http://www.opencascade.org/',\n",
       " 'http://perldoc.perl.org/perlthrtut.html',\n",
       " 'http://docs.pylint.org/intro.html',\n",
       " 'http://python.org/download/releases/3.0/',\n",
       " 'http://docs.python.org/dev/whatsnew/3.2.html#multi-threading',\n",
       " 'http://docs.python.org/faq/general.html#why-was-python-created-in-the-first-place',\n",
       " 'http://docs.python.org/howto/functional.html',\n",
       " 'http://docs.python.org/library/stdtypes.html',\n",
       " 'http://docs.python.org/reference/lexical_analysis.html#reserved-classes-of-identifiers',\n",
       " 'http://docs.python.org/tutorial/classes.html',\n",
       " 'http://docs.python.org/whatsnew/2.6.html#port-specific-changes-windows',\n",
       " 'http://mail.python.org/pipermail/python-dev/2009-October/093321.html',\n",
       " 'http://pypi.python.org/pypi/processing',\n",
       " 'http://svn.python.org/view/*checkout*/python/trunk/Misc/HISTORY',\n",
       " 'http://www.python.org/',\n",
       " 'http://www.python.org/2.5/license.html',\n",
       " 'http://www.python.org/about/',\n",
       " 'http://www.python.org/dev/peps/',\n",
       " 'http://www.python.org/dev/peps/pep-0333/',\n",
       " 'http://www.python.org/dev/peps/pep-3107/',\n",
       " 'http://www.python.org/dev/peps/pep-3124/',\n",
       " 'http://www.python.org/dev/peps/pep-3146/',\n",
       " 'http://www.python.org/doc/essays/foreword/',\n",
       " 'http://www.python.org/peps/pep-0020.html',\n",
       " 'http://www.pythonocc.org/',\n",
       " 'http://ipython.scipy.org/',\n",
       " 'http://www.scipy.org/Weave',\n",
       " 'http://softwaremaniacs.org/blog/2005/12/08/django/',\n",
       " 'http://www.tinypy.org/',\n",
       " 'http://www.worldcat.org/search?fq=x0:jrnl&q=n2:1538-3881',\n",
       " 'http://www.worldcat.org/search?fq=x0:jrnl&q=n2:1553-7358',\n",
       " 'http://www.worldcat.org/search?fq=x0:jrnl&q=n2:1662-5196',\n",
       " 'http://www.worldcat.org/search?fq=x0:jrnl&q=n2:1834-3147',\n",
       " 'http://www.worldcat.org/search?fq=x0:jrnl&q=n2:2213-1337',\n",
       " 'http://www.worldcat.org/search?fq=x0:jrnl&q=n2:2348-447',\n",
       " 'http://www.worldcat.org/search?fq=x0:jrnl&q=n2:2395-0056',\n",
       " 'http://www.wxpython.org/',\n",
       " 'http://pyhrol.ru/',\n",
       " 'http://dfedorov.spb.ru/python3/book.pdf',\n",
       " 'http://www.symbol.ru/date/634254.html',\n",
       " 'http://www.symbol.ru/date/661501.html',\n",
       " 'http://www.symbol.ru/date/784182.html',\n",
       " 'http://www.symbol.ru/date/816603.html',\n",
       " 'http://www.symbol.ru/date/841171.html',\n",
       " 'http://www.xakep.ru/magazine/xa/117/088/1.asp',\n",
       " 'http://www.riverbankcomputing.co.uk/sip/',\n",
       " 'https://all3dp.com/1/best-3d-slicer-software-3d-printer/',\n",
       " 'https://pythoninsider.blogspot.com/2021/02/python-392-and-388-are-now-available.html',\n",
       " 'https://code.facebook.com/posts/1040181199381023/python-in-production-engineering/',\n",
       " 'https://github.com/Ultimaker/Cura',\n",
       " 'https://github.com/google/googletest/blob/b88511ef640c046ec9c7553b383a2aba64c80967/googlemock/scripts/generator/README',\n",
       " 'https://github.com/grumpyhome/grumpy',\n",
       " 'https://developers.google.com/edu/python/introduction?hl=ru',\n",
       " 'https://sites.google.com/site/pydatalog/',\n",
       " 'https://opensource.googleblog.com/2017/01/grumpy-go-running-python.html',\n",
       " 'https://habr.com/post/421659/',\n",
       " 'https://www.infoworld.com/article/3157745/application-development/nim-language-draws-from-best-of-python-rust-go-and-lisp.html',\n",
       " 'https://engineering.instagram.com/what-powers-instagram-hundreds-of-instances-dozens-of-technologies-adf2e22da2ad',\n",
       " 'https://www.kickstarter.com/projects/421164014/openshot-video-editor-for-windows-mac-and-linux',\n",
       " 'https://www.linuxjournal.com/content/multiprocessing-python',\n",
       " 'https://docs.microsoft.com/ru-ru/power-bi/desktop-python-scripts',\n",
       " 'https://insidetech.monster.com/training/articles/8114-15-ways-python-is-a-powerful-force-on-the-web',\n",
       " 'https://www.oreilly.com/library/view/learning-python-3rd/9780596513986/ch01.html',\n",
       " 'https://www.oreilly.com/library/view/mastering-object-oriented-python/9781789531367/8cc23b01-44dd-4d1c-8993-f11107febf72.xhtml',\n",
       " 'https://www.oreilly.com/library/view/python-cookbook-3rd/9781449357337/ch10.html',\n",
       " 'https://www.sciencedirect.com/science/article/pii/S2213133714000687',\n",
       " 'https://www.sidefx.com/docs/houdini/hom/index.html',\n",
       " 'https://link.springer.com/chapter/10.1007/978-3-642-45404-2_5',\n",
       " 'https://papers.ssrn.com/abstract=3426281',\n",
       " 'https://techcrunch.com/2009/11/10/google-go-language/',\n",
       " 'https://tiobe.com/tiobe-index/',\n",
       " 'https://www.tiobe.com/tiobe-index/python/',\n",
       " 'https://impythonist.wordpress.com/2014/02/16/open-heart-with-guido-van-rosuuma-lost-interview-of-python-creator-part2/',\n",
       " 'https://gis.ucar.edu/building-plugin-qgis',\n",
       " 'https://cs.ucsb.edu/sites/cs.ucsb.edu/files/docs/reports/2010-14.pdf',\n",
       " 'https://veusz.github.io/development/',\n",
       " 'https://mypy.readthedocs.io/en/stable/generics.html',\n",
       " 'https://www.irjet.net/archives/V6/i2/IRJET-V6I2367.pdf',\n",
       " 'https://archive.org/details/pythonessentialr00beaz',\n",
       " 'https://web.archive.org/web/20070203081217/http://www.boost.org/libs/python/pyste/index.html',\n",
       " 'https://web.archive.org/web/20070204104248/http://oakwinter.com/code/typecheck/',\n",
       " 'https://web.archive.org/web/20070206205611/http://www.ogre3d.org/wiki/index.php/PyOgre',\n",
       " 'https://web.archive.org/web/20070208081606/http://www.riverbankcomputing.co.uk/sip/',\n",
       " 'https://web.archive.org/web/20070301021602/http://www.scipy.org/Weave',\n",
       " 'https://web.archive.org/web/20070405085722/http://radio.weblogs.com/0112098/2003/08/29.html',\n",
       " 'https://web.archive.org/web/20070707005837/http://codespeak.net/pypy/dist/pypy/doc/coding-guide.html#restricted-python',\n",
       " 'https://web.archive.org/web/20070912131432/http://codespeak.net/pypy/dist/pypy/doc/carbonpython.html',\n",
       " 'https://web.archive.org/web/20071020082650/http://wiki.ecmascript.org/doku.php?id=proposals:iterators_and_generators',\n",
       " 'https://web.archive.org/web/20090530030205/http://www.python.org/community/pycon/dc2004/papers/24/metaclasses-pycon.pdf',\n",
       " 'https://web.archive.org/web/20090806081738/http://wiki.opensource.nokia.com/projects/PyS60',\n",
       " 'https://web.archive.org/web/20100528112950/http://www.parallelpython.com/',\n",
       " 'https://web.archive.org/web/20120831065317/http://shootout.alioth.debian.org/',\n",
       " 'https://web.archive.org/web/20130810230937/http://zephyrfalcon.org/labs/python_pitfalls.html',\n",
       " 'https://web.archive.org/web/20140130021902/http://ebeab.com/2014/01/21/python-culture/',\n",
       " 'https://web.archive.org/web/20160217132249/http://svn.python.org/view/*checkout*/python/trunk/Misc/HISTORY',\n",
       " 'https://web.archive.org/web/20180804135112/http://ipython.scipy.org/',\n",
       " 'https://web.archive.org/web/20190511065650/http://insidetech.monster.com/training/articles/8114-15-ways-python-is-a-powerful-force-on-the-web',\n",
       " 'https://web.archive.org/web/20191123043655/http://effbot.org/zone/call-by-object.htm',\n",
       " 'https://web.archive.org/web/20200921203043/https://docs.blender.org/manual/en/latest/advanced/scripting/introduction.html',\n",
       " 'https://web.archive.org/web/20200922204821/https://dropbox.tech/application/our-journey-to-type-checking-4-million-lines-of-python',\n",
       " 'https://web.archive.org/web/20200923160619/https://gis.ucar.edu/building-plugin-qgis',\n",
       " 'https://web.archive.org/web/20200923172045/https://www.kickstarter.com/projects/421164014/openshot-video-editor-for-windows-mac-and-linux/description',\n",
       " 'https://web.archive.org/web/20201002203816/https://veusz.github.io/development/',\n",
       " 'https://web.archive.org/web/20201127052040/https://www.gtk.org/docs/language-bindings/python/',\n",
       " 'https://web.archive.org/web/20210116094945/http://radar.oreilly.com/2014/10/python-tuples-immutable-but-potentially-changing.html',\n",
       " 'https://web.archive.org/web/20210208175236/https://www.oreilly.com/library/view/learning-python-3rd/9780596513986/ch01.html',\n",
       " 'https://web.archive.org/web/20210209180311/https://www.python.org/dev/peps/pep-0484/',\n",
       " 'https://web.archive.org/web/20210211163417/https://www.irjet.net/archives/V6/i2/IRJET-V6I2367.pdf',\n",
       " 'https://web.archive.org/web/20210213135624/https://mypy.readthedocs.io/en/stable/generics.html',\n",
       " 'https://web.archive.org/web/20210213175706/https://link.springer.com/chapter/10.1007/978-3-642-45404-2_5',\n",
       " 'https://web.archive.org/web/20210214122407/https://www.linuxjournal.com/content/multiprocessing-python',\n",
       " 'https://web.archive.org/web/20210215210244/https://arxiv.org/pdf/1410.4345.pdf',\n",
       " 'https://web.archive.org/web/20210216190549/https://www.ncbi.nlm.nih.gov/pmc/articles/PMC4896647/pdf/pcbi.1004867.pdf',\n",
       " 'https://web.archive.org/web/20210217043130/https://www.python.org/dev/peps/pep-0373/',\n",
       " 'https://arxiv.org/pdf/2011.02626v1.pdf',\n",
       " 'https://docs.blender.org/manual/en/latest/advanced/scripting/introduction.html',\n",
       " 'https://fedoramagazine.org/using-gns3-with-fedora/',\n",
       " 'https://www.frontiersin.org/articles/10.3389/neuro.11.005.2009/full',\n",
       " 'https://www.gtk.org/docs/language-bindings/python',\n",
       " 'https://iopscience.iop.org/article/10.3847/1538-3881/aabc4f/pdf',\n",
       " 'https://julialang.org/blog/2012/02/why-we-created-julia',\n",
       " 'https://www.oryxthejournal.org/writing-for-conservation-guide/plot-with-a-purpose.html',\n",
       " 'https://www.oryxthejournal.org/writing-for-conservation-guide',\n",
       " 'https://journals.plos.org/ploscompbiol/article?id=10.1371/journal.pcbi.1004867',\n",
       " 'https://bugs.python.org/issue32592',\n",
       " 'https://devguide.python.org/#status-of-python-branches',\n",
       " 'https://docs.python.org/3.0/reference/datamodel.html#special-method-names',\n",
       " 'https://docs.python.org/3.5/using/windows.html',\n",
       " 'https://docs.python.org/3.8/tutorial/floatingpoint.html#representation-error',\n",
       " 'https://docs.python.org/3/faq/general.html#why-is-it-called-python',\n",
       " 'https://docs.python.org/3/faq/windows.html#is-a-pyd-file-the-same-as-a-dll',\n",
       " 'https://docs.python.org/3/library/itertools.html',\n",
       " 'https://docs.python.org/3/library/pprint.html',\n",
       " 'https://docs.python.org/3/library/re.html',\n",
       " 'https://docs.python.org/3/library/stdtypes.html#typesseq-range',\n",
       " 'https://docs.python.org/3/license.html',\n",
       " 'https://docs.python.org/3/reference/compound_stmts.html',\n",
       " 'https://docs.python.org/extending/extending.html#reference-counts',\n",
       " 'https://legacy.python.org/dev/peps/pep-0373/',\n",
       " 'https://wiki.python.org/moin/PythonImplementations',\n",
       " 'https://www.python.org/',\n",
       " 'https://www.python.org/community/pycon/dc2004/papers/24/metaclasses-pycon.pdf',\n",
       " 'https://www.python.org/dev/peps/pep-0020/',\n",
       " 'https://www.python.org/dev/peps/pep-0237/',\n",
       " 'https://www.python.org/dev/peps/pep-0289/',\n",
       " 'https://www.python.org/dev/peps/pep-0373/',\n",
       " 'https://www.python.org/dev/peps/pep-0466/',\n",
       " 'https://www.python.org/dev/peps/pep-0484/',\n",
       " 'https://www.python.org/doc/sunset-python-2/',\n",
       " 'https://www.python.org/downloads/',\n",
       " 'https://www.webcitation.org/5w4n0S15k?url=http://www.damonkohler.com/2008/12/python-on-android.html',\n",
       " 'https://www.webcitation.org/5w4n1Glim?url=http://docs.python.org/whatsnew/2.6.html#port-specific-changes-windows',\n",
       " 'https://www.webcitation.org/5w4n2As6O?url=http://docs.python.org/reference/lexical_analysis.html#reserved-classes-of-identifiers',\n",
       " 'https://www.webcitation.org/5w4n30Deb?url=http://shootout.alioth.debian.org/u32/benchmark.php?test=all',\n",
       " 'https://www.webcitation.org/5w4n3soB7?url=http://code.google.com/p/unladen-swallow/wiki/ProjectPlan',\n",
       " 'https://books.google.ru/books?id=1HxWGezDZcgC&pg=PA8',\n",
       " 'https://books.google.ru/books?id=FOVBDAAAQBAJ&pg=SA3-PA35',\n",
       " 'https://books.google.ru/books?id=O0PfBgAAQBAJ&pg=PA8&lpg=PA8',\n",
       " 'https://books.google.ru/books?id=RkEAEAAAQBAJ&pg=PT47',\n",
       " 'https://books.google.ru/books?id=gdN5AAAAQBAJ&pg=PA201&lpg=PA201',\n",
       " 'https://books.google.ru/books?id=jLFjDwAAQBAJ&pg=PA64',\n",
       " 'https://books.google.ru/books?id=k_6MDwAAQBAJ&lpg=PA11&hl=ru&pg=PA11#v=onepage&q&f=false',\n",
       " 'https://books.google.ru/books?id=qVBjDwAAQBAJ',\n",
       " 'https://iz.ru/788412/2018-09-12/iazyk-programmirovaniia-python-izmenitsia-radi-politkorrektnosti',\n",
       " 'https://dropbox.tech/application/our-journey-to-type-checking-4-million-lines-of-python',\n",
       " 'https://core.ac.uk/download/pdf/230920601.pdf']"
      ]
     },
     "execution_count": 21,
     "metadata": {},
     "output_type": "execute_result"
    }
   ],
   "source": [
    "python.references"
   ]
  },
  {
   "cell_type": "code",
   "execution_count": null,
   "metadata": {},
   "outputs": [],
   "source": []
  }
 ],
 "metadata": {
  "kernelspec": {
   "display_name": "Python 3",
   "language": "python",
   "name": "python3"
  },
  "language_info": {
   "codemirror_mode": {
    "name": "ipython",
    "version": 3
   },
   "file_extension": ".py",
   "mimetype": "text/x-python",
   "name": "python",
   "nbconvert_exporter": "python",
   "pygments_lexer": "ipython3",
   "version": "3.8.3"
  },
  "widgets": {
   "application/vnd.jupyter.widget-state+json": {
    "state": {},
    "version_major": 2,
    "version_minor": 0
   }
  }
 },
 "nbformat": 4,
 "nbformat_minor": 4
}
