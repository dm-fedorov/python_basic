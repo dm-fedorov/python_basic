{
 "cells": [
  {
   "cell_type": "markdown",
   "metadata": {},
   "source": [
    "### Собираем статистику\n",
    "\n",
    "Сколько в среднем в месяц публикуется записей."
   ]
  },
  {
   "cell_type": "code",
   "execution_count": null,
   "metadata": {},
   "outputs": [],
   "source": [
    "import csv\n",
    "\n",
    "with open(\"data/vk_group_reach.stat\") as csvfile:\n",
    "    stat = csv.reader(csvfile)\n",
    "    for row in stat:\n",
    "        print(row)        \n",
    "        break    "
   ]
  },
  {
   "cell_type": "code",
   "execution_count": null,
   "metadata": {},
   "outputs": [],
   "source": [
    "import csv\n",
    "\n",
    "with open(\"data/vk_group_reach.stat\") as csvfile:\n",
    "    stat = csv.reader(csvfile)\n",
    "    for row in stat:               \n",
    "        for i, item in enumerate(row):\n",
    "            print(i, item)\n",
    "        break"
   ]
  },
  {
   "cell_type": "code",
   "execution_count": null,
   "metadata": {},
   "outputs": [],
   "source": [
    "import csv\n",
    "\n",
    "note = list()\n",
    "\n",
    "with open(\"data/vk_group_reach.stat\") as csvfile:\n",
    "    stat = csv.reader(csvfile)\n",
    "    for row in stat:\n",
    "        if row[0] == 'Дата':\n",
    "            continue\n",
    "        else:            \n",
    "            print(row)     \n",
    "            break"
   ]
  },
  {
   "cell_type": "code",
   "execution_count": null,
   "metadata": {},
   "outputs": [],
   "source": [
    "import csv\n",
    "\n",
    "note = list()\n",
    "\n",
    "with open(\"data/vk_group_reach.stat\") as csvfile:\n",
    "    stat = csv.reader(csvfile)\n",
    "    for row in stat:\n",
    "        if row[0] == 'Дата':\n",
    "            continue\n",
    "        else:            \n",
    "            #print(row[0].split('-')[1])  \n",
    "            note.append(row[0].split('-')[1])\n",
    "print(note)"
   ]
  },
  {
   "cell_type": "code",
   "execution_count": null,
   "metadata": {},
   "outputs": [],
   "source": [
    "import collections\n",
    "\n",
    "count = collections.Counter(note)\n",
    "dict(count)"
   ]
  },
  {
   "cell_type": "code",
   "execution_count": null,
   "metadata": {},
   "outputs": [],
   "source": [
    "list(dict(count).keys())"
   ]
  },
  {
   "cell_type": "code",
   "execution_count": null,
   "metadata": {},
   "outputs": [],
   "source": [
    "len(list(dict(count).keys()))"
   ]
  },
  {
   "cell_type": "code",
   "execution_count": null,
   "metadata": {},
   "outputs": [],
   "source": [
    "list(dict(count).values())"
   ]
  },
  {
   "cell_type": "code",
   "execution_count": null,
   "metadata": {},
   "outputs": [],
   "source": [
    "for i in list(dict(count).values()):\n",
    "    print(i/len(list(dict(count).keys())))"
   ]
  },
  {
   "cell_type": "code",
   "execution_count": null,
   "metadata": {},
   "outputs": [],
   "source": []
  }
 ],
 "metadata": {
  "kernelspec": {
   "display_name": "Python 3",
   "language": "python",
   "name": "python3"
  },
  "language_info": {
   "codemirror_mode": {
    "name": "ipython",
    "version": 3
   },
   "file_extension": ".py",
   "mimetype": "text/x-python",
   "name": "python",
   "nbconvert_exporter": "python",
   "pygments_lexer": "ipython3",
   "version": "3.8.3"
  }
 },
 "nbformat": 4,
 "nbformat_minor": 4
}
