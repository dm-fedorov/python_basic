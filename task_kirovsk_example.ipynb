{
 "cells": [
  {
   "cell_type": "markdown",
   "metadata": {},
   "source": [
    "Определить за 2017 год средние траты в ресторане в Кировской области"
   ]
  },
  {
   "cell_type": "code",
   "execution_count": null,
   "metadata": {},
   "outputs": [],
   "source": [
    "import csv\n",
    "\n",
    "with open('data/opendata.stat') as csvfile:    \n",
    "    stat = csv.reader(csvfile)   \n",
    "    for row in stat:\n",
    "        if row[0] == 'name':\n",
    "            continue\n",
    "        else:\n",
    "            print(row)\n",
    "            break       "
   ]
  },
  {
   "cell_type": "code",
   "execution_count": null,
   "metadata": {},
   "outputs": [],
   "source": [
    "import csv\n",
    "\n",
    "with open('data/opendata.stat') as csvfile:    \n",
    "    stat = csv.reader(csvfile)   \n",
    "    for row in stat:\n",
    "        if row[0] == 'name':\n",
    "            continue\n",
    "        else:\n",
    "            if row[0] == \"Средние траты в ресторане\" and row[1] == \"Кировская область\":\n",
    "                print(row)"
   ]
  },
  {
   "cell_type": "code",
   "execution_count": null,
   "metadata": {},
   "outputs": [],
   "source": [
    "import csv\n",
    "\n",
    "with open('data/opendata.stat') as csvfile:    \n",
    "    stat = csv.reader(csvfile)   \n",
    "    for row in stat:\n",
    "        if row[0] == 'name':\n",
    "            continue\n",
    "        else:\n",
    "            if row[0] == \"Средние траты в ресторане\" and row[1] == \"Кировская область\":\n",
    "                print(row[2].split('-')[0])\n",
    "                break"
   ]
  },
  {
   "cell_type": "code",
   "execution_count": null,
   "metadata": {},
   "outputs": [],
   "source": [
    "import csv\n",
    "\n",
    "with open('data/opendata.stat') as csvfile:    \n",
    "    stat = csv.reader(csvfile)   \n",
    "    for row in stat:\n",
    "        if row[0] == 'name':\n",
    "            continue\n",
    "        else:\n",
    "            if row[0] == \"Средние траты в ресторане\" and row[1] == \"Кировская область\" and row[2].split('-')[0] == '2017':\n",
    "                print(row)                "
   ]
  },
  {
   "cell_type": "code",
   "execution_count": null,
   "metadata": {},
   "outputs": [],
   "source": [
    "import csv\n",
    "\n",
    "rub = dict()\n",
    "\n",
    "with open('data/opendata.stat') as csvfile:    \n",
    "    stat = csv.reader(csvfile)   \n",
    "    for row in stat:\n",
    "        if row[0] == 'name':\n",
    "            continue\n",
    "        else:\n",
    "            if row[0] == \"Средние траты в ресторане\" and row[1] == \"Кировская область\" and row[2].split('-')[0] == '2017':\n",
    "                rub[int(row[2].split('-')[1])] = int(row[3])\n",
    "\n",
    "print(rub)"
   ]
  },
  {
   "cell_type": "code",
   "execution_count": null,
   "metadata": {},
   "outputs": [],
   "source": [
    "import matplotlib.pyplot as plt\n",
    "\n",
    "x_coord = list(rub.keys()) # получаем список ключей словаря rub\n",
    "y_coord = list(rub.values()) # получаем список значений словаря rub\n",
    " \n",
    "# Построить график.\n",
    "plt.plot(x_coord, y_coord)\n",
    "\n",
    "# Показать график.\n",
    "plt.show()"
   ]
  },
  {
   "cell_type": "code",
   "execution_count": null,
   "metadata": {},
   "outputs": [],
   "source": []
  }
 ],
 "metadata": {
  "kernelspec": {
   "display_name": "Python 3",
   "language": "python",
   "name": "python3"
  },
  "language_info": {
   "codemirror_mode": {
    "name": "ipython",
    "version": 3
   },
   "file_extension": ".py",
   "mimetype": "text/x-python",
   "name": "python",
   "nbconvert_exporter": "python",
   "pygments_lexer": "ipython3",
   "version": "3.8.3"
  }
 },
 "nbformat": 4,
 "nbformat_minor": 4
}
