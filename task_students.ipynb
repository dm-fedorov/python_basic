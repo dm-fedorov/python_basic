{
 "cells": [
  {
   "cell_type": "markdown",
   "metadata": {},
   "source": [
    "В [файле](https://raw.githubusercontent.com/dm-fedorov/python_basic/master/data/students.stat) следующие поля:\n",
    "    \n",
    "- *gender* — пол абитуриента;\n",
    "- *race/ethnicity* — национальность (зашифрована в виде значений \"Group A\", \"Group B\" и т.д.);\n",
    "- *parental level of education* — уровень образования родителей;\n",
    "- *lunch* — насколько качественно пообедал абитуриент перед тестом;\n",
    "- *test preparation course* — закончил ли абитуриент подготовительные курсы;\n",
    "- *math score* — оценка по математике;\n",
    "- *reading score* — оценка по чтению;\n",
    "- *writing score* — оценка по письму."
   ]
  },
  {
   "cell_type": "markdown",
   "metadata": {},
   "source": [
    "## Задание 0\n",
    "\n",
    "Считаем девочек и мальчиков."
   ]
  },
  {
   "cell_type": "code",
   "execution_count": null,
   "metadata": {},
   "outputs": [],
   "source": []
  },
  {
   "cell_type": "markdown",
   "metadata": {},
   "source": [
    "## Задание 1\n",
    "\n",
    "У скольких абитуриентов родители имеют диплом бакалавра (bachelor's degree)?\n",
    "\n",
    "Ответ в виде целого числа. "
   ]
  },
  {
   "cell_type": "code",
   "execution_count": null,
   "metadata": {},
   "outputs": [],
   "source": []
  },
  {
   "cell_type": "markdown",
   "metadata": {},
   "source": [
    "## Задание 2\n",
    "\n",
    "Сколько разных вариантов значений встречается в столбце \"parental level of education\"?\n",
    "\n",
    "Ответ в виде целого числа."
   ]
  },
  {
   "cell_type": "code",
   "execution_count": null,
   "metadata": {},
   "outputs": [],
   "source": []
  },
  {
   "cell_type": "markdown",
   "metadata": {},
   "source": [
    "## Задание 3\n",
    "\n",
    "Сколько процентов абитуриентов полноценно пообедали перед экзаменом? (У скольких процентов абитуриентов значение столбца \"lunch\" = \"standard\").\n",
    "\n",
    "Ответ в виде десятичной дроби."
   ]
  },
  {
   "cell_type": "code",
   "execution_count": null,
   "metadata": {},
   "outputs": [],
   "source": []
  },
  {
   "cell_type": "markdown",
   "metadata": {},
   "source": [
    "## Задание 4\n",
    "\n",
    "Сколько абитуриентов относится к этнической группе \"group C\"?\n",
    "\n",
    "Ответ в виде целого числа."
   ]
  },
  {
   "cell_type": "code",
   "execution_count": null,
   "metadata": {},
   "outputs": [],
   "source": []
  },
  {
   "cell_type": "markdown",
   "metadata": {},
   "source": [
    "### Задание 5\n",
    "\n",
    "Сколько разных этнических групп встречается в файле?\n",
    "\n",
    "Ответ в виде целого числа."
   ]
  },
  {
   "cell_type": "code",
   "execution_count": null,
   "metadata": {},
   "outputs": [],
   "source": []
  },
  {
   "cell_type": "markdown",
   "metadata": {},
   "source": [
    "### Задание 6\n",
    "\n",
    "Вычислите средний балл абитуриентов на экзамене по чтению (reading score).\n",
    "\n",
    "Ответ в виде одного числа."
   ]
  },
  {
   "cell_type": "code",
   "execution_count": null,
   "metadata": {},
   "outputs": [],
   "source": []
  },
  {
   "cell_type": "markdown",
   "metadata": {},
   "source": [
    "### Задание 7\n",
    "\n",
    "Сколько абитуриентов получили на экзамене по чтению (reading score) оценку ниже среднего?\n"
   ]
  },
  {
   "cell_type": "code",
   "execution_count": null,
   "metadata": {},
   "outputs": [],
   "source": []
  },
  {
   "cell_type": "markdown",
   "metadata": {},
   "source": [
    "### Задание 8\n",
    "\n",
    "Какой средний балл на экзамене по чтению (reading score) получили девочки?\n",
    "\n",
    "Ответ округлите до трёх знаков после запятой."
   ]
  },
  {
   "cell_type": "code",
   "execution_count": null,
   "metadata": {},
   "outputs": [],
   "source": []
  },
  {
   "cell_type": "markdown",
   "metadata": {},
   "source": [
    "### Задание 9\n",
    "\n",
    "Сколько абитуриентов получили на экзамене по письму (writing score) оценку выше 90?"
   ]
  },
  {
   "cell_type": "code",
   "execution_count": null,
   "metadata": {},
   "outputs": [],
   "source": []
  },
  {
   "cell_type": "markdown",
   "metadata": {},
   "source": [
    "### Задание 10\n",
    "\n",
    "Сколько процентов абитуриентов, получивших на экзамене по письму (writing score) оценку более 90, хорошо пообедали перед экзаменом (lunch = standard)?\n",
    "\n",
    "Ответ округлите до одного знака после запятой."
   ]
  },
  {
   "cell_type": "code",
   "execution_count": null,
   "metadata": {},
   "outputs": [],
   "source": []
  },
  {
   "cell_type": "markdown",
   "metadata": {},
   "source": [
    "### Задание 11\n",
    "\n",
    "Сколько мальчиков хорошо пообедали перед экзаменом (lunch = standard)?\n",
    "\n",
    "Ответ в виде одного числа."
   ]
  },
  {
   "cell_type": "code",
   "execution_count": null,
   "metadata": {},
   "outputs": [],
   "source": []
  },
  {
   "cell_type": "markdown",
   "metadata": {},
   "source": [
    "### Задание 12\n",
    "\n",
    "Сколько мальчиков закончили подготовительные курсы (test preparation course = completed)?\n",
    "\n",
    "Ответ в виде одного числа."
   ]
  },
  {
   "cell_type": "code",
   "execution_count": null,
   "metadata": {},
   "outputs": [],
   "source": []
  },
  {
   "cell_type": "markdown",
   "metadata": {},
   "source": [
    "### Задание 13\n",
    "\n",
    "У скольких девочек родители имеют степень магистра (parental level of education = master's degree)?\n",
    "\n",
    "Ответ в виде одного числа."
   ]
  },
  {
   "cell_type": "code",
   "execution_count": null,
   "metadata": {},
   "outputs": [],
   "source": []
  },
  {
   "cell_type": "markdown",
   "metadata": {},
   "source": [
    "### Задание 14\n",
    "\n",
    "Сколько абитуриентов, относящихся к этнической группе С, закончили подготовительные курсы?\n",
    "\n",
    "Ответ введите в виде одного числа."
   ]
  },
  {
   "cell_type": "code",
   "execution_count": null,
   "metadata": {},
   "outputs": [],
   "source": []
  },
  {
   "cell_type": "markdown",
   "metadata": {},
   "source": [
    "### Задание 15\n",
    "\n",
    "Сколько девочек, родители которых имеют степень магистра, набрали по математике больше 90 баллов?\n",
    "\n",
    "Ответ введите в виде одного числа."
   ]
  },
  {
   "cell_type": "code",
   "execution_count": null,
   "metadata": {},
   "outputs": [],
   "source": []
  }
 ],
 "metadata": {
  "kernelspec": {
   "display_name": "Python 3",
   "language": "python",
   "name": "python3"
  },
  "language_info": {
   "codemirror_mode": {
    "name": "ipython",
    "version": 3
   },
   "file_extension": ".py",
   "mimetype": "text/x-python",
   "name": "python",
   "nbconvert_exporter": "python",
   "pygments_lexer": "ipython3",
   "version": "3.8.3"
  }
 },
 "nbformat": 4,
 "nbformat_minor": 4
}
