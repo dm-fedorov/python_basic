{
 "cells": [
  {
   "cell_type": "markdown",
   "metadata": {},
   "source": [
    "### Собираем статистику"
   ]
  },
  {
   "cell_type": "code",
   "execution_count": null,
   "metadata": {},
   "outputs": [],
   "source": [
    "import csv\n",
    "\n",
    "with open(\"data/vk_group_reach.stat\") as csvfile:\n",
    "    stat = csv.reader(csvfile)\n",
    "    for row in stat:\n",
    "        print(row)        \n",
    "        break    "
   ]
  },
  {
   "cell_type": "code",
   "execution_count": null,
   "metadata": {},
   "outputs": [],
   "source": [
    "import csv\n",
    "\n",
    "with open(\"data/vk_group_reach.stat\") as csvfile:\n",
    "    stat = csv.reader(csvfile)\n",
    "    for row in stat:               \n",
    "        for i, item in enumerate(row):\n",
    "            print(i, item)\n",
    "        break"
   ]
  },
  {
   "cell_type": "code",
   "execution_count": null,
   "metadata": {},
   "outputs": [],
   "source": [
    "import csv\n",
    "\n",
    "with open(\"data/vk_group_reach.stat\") as csvfile:\n",
    "    stat = csv.reader(csvfile)\n",
    "    for i, row in enumerate(stat):               \n",
    "        print(row)\n",
    "        # ограничиваем вывод для больших файлов!\n",
    "        if i >= 5:\n",
    "            break"
   ]
  },
  {
   "cell_type": "markdown",
   "metadata": {},
   "source": [
    "### Записи с наибольшим полным охватом"
   ]
  },
  {
   "cell_type": "code",
   "execution_count": null,
   "metadata": {},
   "outputs": [],
   "source": [
    "from pprint import pprint # красивая печать словарей\n",
    "import csv\n",
    "\n",
    "note = dict()\n",
    "\n",
    "i = 0 # для ключа словаря\n",
    "\n",
    "with open(\"data/vk_group_reach.stat\") as csvfile:\n",
    "    stat = csv.reader(csvfile)\n",
    "    for row in stat:\n",
    "        if row[0] == 'Дата':\n",
    "            continue\n",
    "        else:            \n",
    "            note[i] = {'name':row[2], 'link':row[3], 'count':int(row[7])}\n",
    "            i = i + 1\n",
    "   \n",
    "# красиво печатаем словарь с помощью функции pprint\n",
    "pprint(note)           "
   ]
  },
  {
   "cell_type": "markdown",
   "metadata": {},
   "source": [
    "Необходимо провести сортировку словаря по полю 'count'"
   ]
  },
  {
   "cell_type": "code",
   "execution_count": null,
   "metadata": {},
   "outputs": [],
   "source": [
    "lst_values = list(note.values())\n",
    "lst_values"
   ]
  },
  {
   "cell_type": "code",
   "execution_count": null,
   "metadata": {},
   "outputs": [],
   "source": [
    "# сортируем по возрастанию:\n",
    "sorted(lst_values, key=lambda item: item['count'])"
   ]
  }
 ],
 "metadata": {
  "kernelspec": {
   "display_name": "Python 3",
   "language": "python",
   "name": "python3"
  },
  "language_info": {
   "codemirror_mode": {
    "name": "ipython",
    "version": 3
   },
   "file_extension": ".py",
   "mimetype": "text/x-python",
   "name": "python",
   "nbconvert_exporter": "python",
   "pygments_lexer": "ipython3",
   "version": "3.8.3"
  }
 },
 "nbformat": 4,
 "nbformat_minor": 4
}
