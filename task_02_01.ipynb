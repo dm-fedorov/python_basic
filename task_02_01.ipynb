{
 "cells": [
  {
   "cell_type": "markdown",
   "metadata": {},
   "source": [
    "# Задания для самостоятельного выполнения (блок 2, условные выражения)"
   ]
  },
  {
   "cell_type": "markdown",
   "metadata": {},
   "source": [
    "<a href=\"https://colab.research.google.com/github/dm-fedorov/python_basic/blob/master/task_02_01.ipynb\" target=\"_blank\"><img align=\"left\" src=\"https://colab.research.google.com/assets/colab-badge.svg\" alt=\"Open in Colab\" title=\"Open and Execute in Google Colaboratory\"></a>"
   ]
  },
  {
   "cell_type": "markdown",
   "metadata": {},
   "source": [
    "## Задание 1\n",
    "\n",
    "Напишите в отдельном файле программу, которая по коду города и длительности переговоров вычисляет их стоимость и результат выводит на экран: \n",
    "\n",
    "- Екатеринбург: код 343, 15 руб/мин\n",
    "- Омск: код 381, 18 руб/мин\n",
    "- Воронеж: код 473, 13 руб/мин"
   ]
  },
  {
   "cell_type": "code",
   "execution_count": null,
   "metadata": {},
   "outputs": [],
   "source": [
    "# здесь решение"
   ]
  },
  {
   "cell_type": "markdown",
   "metadata": {},
   "source": [
    "## Задание 2\n",
    "\n",
    "Напишитие программу, вычисляющую [действительные корни квадратичной функции](https://ru.wikipedia.org/wiki/%D0%9A%D0%B2%D0%B0%D0%B4%D1%80%D0%B0%D1%82%D0%BD%D0%BE%D0%B5_%D1%83%D1%80%D0%B0%D0%B2%D0%BD%D0%B5%D0%BD%D0%B8%D0%B5#I_%D1%81%D0%BF%D0%BE%D1%81%D0%BE%D0%B1._%D0%9E%D0%B1%D1%89%D0%B0%D1%8F_%D1%84%D0%BE%D1%80%D0%BC%D1%83%D0%BB%D0%B0_%D0%B4%D0%BB%D1%8F_%D0%B2%D1%8B%D1%87%D0%B8%D1%81%D0%BB%D0%B5%D0%BD%D0%B8%D1%8F_%D0%BA%D0%BE%D1%80%D0%BD%D0%B5%D0%B9). Сначала необходимо запросить значения `a`, `b` и `c`. После этого должно быть выведено на экран количество действительных корей и их значения."
   ]
  },
  {
   "cell_type": "code",
   "execution_count": null,
   "metadata": {},
   "outputs": [],
   "source": [
    "# здесь решение"
   ]
  },
  {
   "cell_type": "markdown",
   "metadata": {},
   "source": [
    "## Задание 3\n",
    "\n",
    "По примеру программы \n",
    "\n",
    "\n",
    "```Python\n",
    "name = input(\"Введите имя получателя: \")\n",
    "\n",
    "text = f'''Привет, {name}! \n",
    "\n",
    "Это срочное письмо.'''\n",
    "\n",
    "print(text)\n",
    "```\n",
    "\n",
    "создайте собственный шаблон письма, добавив метку о текущем времени:\n",
    "\n",
    "```Python\n",
    "from datetime import datetime\n",
    "now = datetime.strftime(datetime.now(), \"%H:%M:%S %Y.%m.%d\")\n",
    "now\n",
    "```"
   ]
  },
  {
   "cell_type": "code",
   "execution_count": null,
   "metadata": {},
   "outputs": [],
   "source": [
    "# здесь решение"
   ]
  },
  {
   "cell_type": "markdown",
   "metadata": {},
   "source": [
    "## Задание 4\n",
    "\n",
    "```\n",
    "Напишите программу для расчета скидок.\n",
    "\n",
    "- В магазине \"Снежинка\" проходит акция:\n",
    "    - На все товары дешевле 1000 рублей скидка 15%\n",
    "    - На все товары дороже 1000, но дешевле 5000 рублей скидка 20%\n",
    "    - На все товары дороже 5000 рублей скидка 25%\n",
    "\n",
    "- На входе: целое неотрицательное число - цена товара в рублях\n",
    "\n",
    "- На выходе: целое неотрицательное число - скидка на товар в рублях\n",
    "```"
   ]
  },
  {
   "cell_type": "code",
   "execution_count": null,
   "metadata": {},
   "outputs": [],
   "source": [
    "# здесь решение"
   ]
  }
 ],
 "metadata": {
  "kernelspec": {
   "display_name": "Python 3",
   "language": "python",
   "name": "python3"
  },
  "language_info": {
   "codemirror_mode": {
    "name": "ipython",
    "version": 3
   },
   "file_extension": ".py",
   "mimetype": "text/x-python",
   "name": "python",
   "nbconvert_exporter": "python",
   "pygments_lexer": "ipython3",
   "version": "3.8.3"
  },
  "widgets": {
   "application/vnd.jupyter.widget-state+json": {
    "state": {},
    "version_major": 2,
    "version_minor": 0
   }
  }
 },
 "nbformat": 4,
 "nbformat_minor": 4
}
