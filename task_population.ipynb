{
 "cells": [
  {
   "cell_type": "markdown",
   "metadata": {},
   "source": [
    "### Задание\n",
    "\n",
    "Файл [population.txt](https://raw.githubusercontent.com/dm-fedorov/python_basic/master/data/population.txt) содержит данные о среднегодовой численности населения США в тысячах с 1950 по 1990 годы. Первая строка в файле содержит численность населения в 1950, вторая строка - численность населения в 1951 году и т. д.\n",
    "\n",
    "Программа должна показать приведенные ниже данные:\n",
    "- среднегодовое изменение численности населения в течение указанного периода времени;\n",
    "- год с наибольшим увеличением численности населения в течение указанного периода времени;\n",
    "- год с наименьшим увеличением численности населения в течение указанного периода времени."
   ]
  },
  {
   "cell_type": "code",
   "execution_count": null,
   "metadata": {},
   "outputs": [],
   "source": []
  }
 ],
 "metadata": {
  "kernelspec": {
   "display_name": "Python 3",
   "language": "python",
   "name": "python3"
  },
  "language_info": {
   "codemirror_mode": {
    "name": "ipython",
    "version": 3
   },
   "file_extension": ".py",
   "mimetype": "text/x-python",
   "name": "python",
   "nbconvert_exporter": "python",
   "pygments_lexer": "ipython3",
   "version": "3.8.2"
  }
 },
 "nbformat": 4,
 "nbformat_minor": 4
}
