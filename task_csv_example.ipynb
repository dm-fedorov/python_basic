{
 "cells": [
  {
   "cell_type": "markdown",
   "metadata": {},
   "source": [
    "### Необходимо определить, в какой год были максимальные и минимальные значения показателей"
   ]
  },
  {
   "cell_type": "code",
   "execution_count": null,
   "metadata": {},
   "outputs": [],
   "source": [
    "import csv\n",
    "\n",
    "with open(\"data/braki.stat\") as csvfile: # csvfile - переменная, через которую будем работать с файлом\n",
    "  stat = csv.reader(csvfile) # функция reader читает содержимое файла braki.stat, разбивая строку на отдельные элементы \n",
    "  # теперь в переменной stat содержится файл, с которым будем работать в цикле, запрашивая по одной строке:\n",
    "  for row in stat: \n",
    "    print(row)   # у нас небольшой файл в качестве примера, поэтому можем вывести его на экран,\n",
    "                 # но так обычно не следует делать при миллионах записей ;)"
   ]
  },
  {
   "cell_type": "code",
   "execution_count": null,
   "metadata": {},
   "outputs": [],
   "source": [
    "import csv\n",
    "\n",
    "with open(\"data/braki.stat\") as csvfile: \n",
    "  stat = csv.reader(csvfile)   \n",
    "  for row in stat: \n",
    "    # пропустим первую строку, которая содержит названия полей:\n",
    "    if row[0] == 'Годы':\n",
    "        continue\n",
    "    else:\n",
    "        print(row)                "
   ]
  },
  {
   "cell_type": "markdown",
   "metadata": {},
   "source": [
    "Для сохранения привязки года к показателям воспользуемся словарем (dict):"
   ]
  },
  {
   "cell_type": "code",
   "execution_count": null,
   "metadata": {},
   "outputs": [],
   "source": [
    "import csv\n",
    "\n",
    "years = dict() # создаем пустой словарь\n",
    "\n",
    "with open(\"data/braki.stat\") as csvfile: \n",
    "  stat = csv.reader(csvfile)   \n",
    "  for row in stat:     \n",
    "    if row[0] == 'Годы':\n",
    "        continue\n",
    "    else:\n",
    "        years[int(row[0])] = int(row[1])\n",
    "\n",
    "print(years)"
   ]
  },
  {
   "cell_type": "markdown",
   "metadata": {},
   "source": [
    "### Сложно ориентироваться в значениях, поэтому построим график:"
   ]
  },
  {
   "cell_type": "code",
   "execution_count": null,
   "metadata": {},
   "outputs": [],
   "source": [
    "import matplotlib.pyplot as plt\n",
    "\n",
    "x_coord = list(years.keys()) # получаем список ключей словаря years\n",
    "y_coord = list(years.values()) # получаем список значений словаря years\n",
    " \n",
    "# Построить график.\n",
    "plt.plot(x_coord, y_coord)\n",
    "\n",
    "# Показать график.\n",
    "plt.show()"
   ]
  },
  {
   "cell_type": "markdown",
   "metadata": {},
   "source": [
    "Следующий шаг - определить максимум и минимум значений словаря years.\n",
    "\n",
    "Здесь требуется рассмотреть тему сортировки словарей."
   ]
  },
  {
   "cell_type": "code",
   "execution_count": null,
   "metadata": {},
   "outputs": [],
   "source": [
    "# обычный sorted сортирует по ключам:\n",
    "print(sorted(years)) "
   ]
  },
  {
   "cell_type": "code",
   "execution_count": null,
   "metadata": {},
   "outputs": [],
   "source": [
    "# метод get возвращает значение по ключу\n",
    "years.get(1950)"
   ]
  },
  {
   "cell_type": "code",
   "execution_count": null,
   "metadata": {},
   "outputs": [],
   "source": [
    "# сортировка (по возрастанию) значений словаря и печать их ключей:\n",
    "print(sorted(years, key=years.get))"
   ]
  },
  {
   "cell_type": "code",
   "execution_count": null,
   "metadata": {},
   "outputs": [],
   "source": [
    "# сортировка (по убыванию) значений словаря и печать их ключей:\n",
    "print(sorted(years, key=years.get, reverse=True))"
   ]
  },
  {
   "cell_type": "code",
   "execution_count": null,
   "metadata": {},
   "outputs": [],
   "source": []
  }
 ],
 "metadata": {
  "kernelspec": {
   "display_name": "Python 3",
   "language": "python",
   "name": "python3"
  },
  "language_info": {
   "codemirror_mode": {
    "name": "ipython",
    "version": 3
   },
   "file_extension": ".py",
   "mimetype": "text/x-python",
   "name": "python",
   "nbconvert_exporter": "python",
   "pygments_lexer": "ipython3",
   "version": "3.8.3"
  }
 },
 "nbformat": 4,
 "nbformat_minor": 4
}
