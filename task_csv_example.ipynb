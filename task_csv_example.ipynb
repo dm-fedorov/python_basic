{
 "cells": [
  {
   "cell_type": "markdown",
   "metadata": {},
   "source": [
    "### Необходимо определить, в какой год были максимальные и минимальные значения показателей"
   ]
  },
  {
   "cell_type": "code",
   "execution_count": 3,
   "metadata": {
    "scrolled": true
   },
   "outputs": [
    {
     "name": "stdout",
     "output_type": "stream",
     "text": [
      "['Годы', 'Единиц', 'На 1000 человек населения']\n",
      "['1950', '1222971', '12,0']\n",
      "['1960', '1499581', '12,5']\n",
      "['1970', '1319227', '10,1']\n",
      "['1980', '1464579', '10,6']\n",
      "['1990', '1319928', '8,9']\n",
      "['1995', '1075219', '7,3']\n",
      "['2000', '897327', '6,2']\n",
      "['2001', '1001589', '6,9']\n",
      "['2002', '1019762', '7,1']\n",
      "['2003', '1091778', '7,5']\n",
      "['2004', '979667', '6,8']\n",
      "['2005', '1066366', '7,4']\n",
      "['2006', '1113562', '7,8']\n",
      "['2007', '1262500', '8,8']\n",
      "['2008', '1179007', '8,3']\n",
      "['2009', '1199446', '8,4']\n",
      "['2010', '1215066', '8,5']\n",
      "['2011', '1316011', '9,2']\n",
      "['2012', '1213598', '8,5']\n",
      "['2013', '1225501', '8,5']\n",
      "['2014', '1225985', '8,4']\n",
      "['2015', '1161068', '7,9']\n",
      "['2016', '985836', '6,7']\n",
      "['2017', '1049735', '7,1']\n",
      "['2018', '893039', '6,1']\n"
     ]
    }
   ],
   "source": [
    "import csv\n",
    "\n",
    "with open(\"data/braki.stat\") as csvfile: # csvfile - переменная, через которую будем работать с файлом\n",
    "    stat = csv.reader(csvfile) # функция reader читает содержимое файла braki.stat, разбивая строку на отдельные элементы \n",
    "    # теперь в переменной stat содержится файл, с которым будем работать в цикле, запрашивая по одной строке:\n",
    "    for row in stat: \n",
    "        print(row)   # у нас небольшой файл в качестве примера, поэтому можем вывести его на экран,\n",
    "                     # но так обычно не следует делать при миллионах записей ;)"
   ]
  },
  {
   "cell_type": "code",
   "execution_count": 4,
   "metadata": {
    "scrolled": true
   },
   "outputs": [
    {
     "name": "stdout",
     "output_type": "stream",
     "text": [
      "['1950', '1222971', '12,0']\n",
      "['1960', '1499581', '12,5']\n",
      "['1970', '1319227', '10,1']\n",
      "['1980', '1464579', '10,6']\n",
      "['1990', '1319928', '8,9']\n",
      "['1995', '1075219', '7,3']\n",
      "['2000', '897327', '6,2']\n",
      "['2001', '1001589', '6,9']\n",
      "['2002', '1019762', '7,1']\n",
      "['2003', '1091778', '7,5']\n",
      "['2004', '979667', '6,8']\n",
      "['2005', '1066366', '7,4']\n",
      "['2006', '1113562', '7,8']\n",
      "['2007', '1262500', '8,8']\n",
      "['2008', '1179007', '8,3']\n",
      "['2009', '1199446', '8,4']\n",
      "['2010', '1215066', '8,5']\n",
      "['2011', '1316011', '9,2']\n",
      "['2012', '1213598', '8,5']\n",
      "['2013', '1225501', '8,5']\n",
      "['2014', '1225985', '8,4']\n",
      "['2015', '1161068', '7,9']\n",
      "['2016', '985836', '6,7']\n",
      "['2017', '1049735', '7,1']\n",
      "['2018', '893039', '6,1']\n"
     ]
    }
   ],
   "source": [
    "import csv\n",
    "\n",
    "with open(\"data/braki.stat\") as csvfile: \n",
    "    stat = csv.reader(csvfile)    # delimiter=','\n",
    "    for row in stat: \n",
    "        # пропустим первую строку, которая содержит названия полей:\n",
    "        if row[0] == 'Годы':\n",
    "            continue\n",
    "        else:\n",
    "            print(row)                "
   ]
  },
  {
   "cell_type": "markdown",
   "metadata": {},
   "source": [
    "Есть способ лучше:"
   ]
  },
  {
   "cell_type": "code",
   "execution_count": 5,
   "metadata": {
    "scrolled": true
   },
   "outputs": [
    {
     "name": "stdout",
     "output_type": "stream",
     "text": [
      "['1950', '1222971', '12,0']\n",
      "['1960', '1499581', '12,5']\n",
      "['1970', '1319227', '10,1']\n",
      "['1980', '1464579', '10,6']\n",
      "['1990', '1319928', '8,9']\n",
      "['1995', '1075219', '7,3']\n",
      "['2000', '897327', '6,2']\n",
      "['2001', '1001589', '6,9']\n",
      "['2002', '1019762', '7,1']\n",
      "['2003', '1091778', '7,5']\n",
      "['2004', '979667', '6,8']\n",
      "['2005', '1066366', '7,4']\n",
      "['2006', '1113562', '7,8']\n",
      "['2007', '1262500', '8,8']\n",
      "['2008', '1179007', '8,3']\n",
      "['2009', '1199446', '8,4']\n",
      "['2010', '1215066', '8,5']\n",
      "['2011', '1316011', '9,2']\n",
      "['2012', '1213598', '8,5']\n",
      "['2013', '1225501', '8,5']\n",
      "['2014', '1225985', '8,4']\n",
      "['2015', '1161068', '7,9']\n",
      "['2016', '985836', '6,7']\n",
      "['2017', '1049735', '7,1']\n",
      "['2018', '893039', '6,1']\n"
     ]
    }
   ],
   "source": [
    "import csv\n",
    "\n",
    "with open(\"data/braki.stat\") as csvfile: \n",
    "    stat = csv.reader(csvfile)\n",
    "    # пропустим первую строку, которая содержит названия полей:\n",
    "    next(csvfile)\n",
    "    for row in stat: \n",
    "        print(row) "
   ]
  },
  {
   "cell_type": "markdown",
   "metadata": {},
   "source": [
    "Для сохранения привязки года к показателям воспользуемся словарем (dict):"
   ]
  },
  {
   "cell_type": "code",
   "execution_count": 6,
   "metadata": {},
   "outputs": [
    {
     "name": "stdout",
     "output_type": "stream",
     "text": [
      "{1950: 1222971, 1960: 1499581, 1970: 1319227, 1980: 1464579, 1990: 1319928, 1995: 1075219, 2000: 897327, 2001: 1001589, 2002: 1019762, 2003: 1091778, 2004: 979667, 2005: 1066366, 2006: 1113562, 2007: 1262500, 2008: 1179007, 2009: 1199446, 2010: 1215066, 2011: 1316011, 2012: 1213598, 2013: 1225501, 2014: 1225985, 2015: 1161068, 2016: 985836, 2017: 1049735, 2018: 893039}\n"
     ]
    }
   ],
   "source": [
    "import csv\n",
    "\n",
    "years = dict() # создаем пустой словарь\n",
    "\n",
    "with open(\"data/braki.stat\") as csvfile: \n",
    "    stat = csv.reader(csvfile)\n",
    "    next(csvfile)\n",
    "    for row in stat: \n",
    "        years[int(row[0])] = int(row[1])\n",
    "\n",
    "print(years)"
   ]
  },
  {
   "cell_type": "markdown",
   "metadata": {},
   "source": [
    "### Сложно ориентироваться в значениях, поэтому построим график:"
   ]
  },
  {
   "cell_type": "code",
   "execution_count": 7,
   "metadata": {},
   "outputs": [
    {
     "data": {
      "image/png": "[encoded data removed]",
      "text/plain": [
       "<Figure size 432x288 with 1 Axes>"
      ]
     },
     "metadata": {
      "needs_background": "light"
     },
     "output_type": "display_data"
    }
   ],
   "source": [
    "import matplotlib.pyplot as plt\n",
    "\n",
    "x_coord = list(years.keys()) # получаем список ключей словаря years\n",
    "y_coord = list(years.values()) # получаем список значений словаря years\n",
    " \n",
    "# Построить график.\n",
    "plt.plot(x_coord, y_coord)\n",
    "\n",
    "# Показать график.\n",
    "plt.show()"
   ]
  },
  {
   "cell_type": "markdown",
   "metadata": {},
   "source": [
    "Следующий шаг - определить максимум и минимум значений словаря years.\n",
    "\n",
    "Здесь требуется рассмотреть тему сортировки словарей."
   ]
  },
  {
   "cell_type": "code",
   "execution_count": 8,
   "metadata": {},
   "outputs": [
    {
     "name": "stdout",
     "output_type": "stream",
     "text": [
      "[1950, 1960, 1970, 1980, 1990, 1995, 2000, 2001, 2002, 2003, 2004, 2005, 2006, 2007, 2008, 2009, 2010, 2011, 2012, 2013, 2014, 2015, 2016, 2017, 2018]\n"
     ]
    }
   ],
   "source": [
    "# обычный sorted сортирует по ключам:\n",
    "print(sorted(years)) "
   ]
  },
  {
   "cell_type": "code",
   "execution_count": 9,
   "metadata": {},
   "outputs": [
    {
     "data": {
      "text/plain": [
       "1222971"
      ]
     },
     "execution_count": 9,
     "metadata": {},
     "output_type": "execute_result"
    }
   ],
   "source": [
    "# метод get возвращает значение по ключу\n",
    "years.get(1950)"
   ]
  },
  {
   "cell_type": "code",
   "execution_count": 10,
   "metadata": {},
   "outputs": [
    {
     "name": "stdout",
     "output_type": "stream",
     "text": [
      "[2018, 2000, 2004, 2016, 2001, 2002, 2017, 2005, 1995, 2003, 2006, 2015, 2008, 2009, 2012, 2010, 1950, 2013, 2014, 2007, 2011, 1970, 1990, 1980, 1960]\n"
     ]
    }
   ],
   "source": [
    "# сортировка (по возрастанию) значений словаря и печать их ключей:\n",
    "print(sorted(years, key=years.get))"
   ]
  },
  {
   "cell_type": "code",
   "execution_count": 11,
   "metadata": {},
   "outputs": [
    {
     "name": "stdout",
     "output_type": "stream",
     "text": [
      "[1960, 1980, 1990, 1970, 2011, 2007, 2014, 2013, 1950, 2010, 2012, 2009, 2008, 2015, 2006, 2003, 1995, 2005, 2017, 2002, 2001, 2016, 2004, 2000, 2018]\n"
     ]
    }
   ],
   "source": [
    "# сортировка (по убыванию) значений словаря и печать их ключей:\n",
    "print(sorted(years, key=years.get, reverse=True))"
   ]
  },
  {
   "cell_type": "code",
   "execution_count": null,
   "metadata": {},
   "outputs": [],
   "source": []
  }
 ],
 "metadata": {
  "kernelspec": {
   "display_name": "Python 3",
   "language": "python",
   "name": "python3"
  },
  "language_info": {
   "codemirror_mode": {
    "name": "ipython",
    "version": 3
   },
   "file_extension": ".py",
   "mimetype": "text/x-python",
   "name": "python",
   "nbconvert_exporter": "python",
   "pygments_lexer": "ipython3",
   "version": "3.8.3"
  }
 },
 "nbformat": 4,
 "nbformat_minor": 4
}
