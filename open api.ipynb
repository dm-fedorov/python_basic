{
 "cells": [
  {
   "cell_type": "markdown",
   "metadata": {},
   "source": [
    "<a href=\"https://colab.research.google.com/github/dm-fedorov/python_basic/blob/master/open%20api.ipynb\" target=\"_blank\"><img align=\"left\" src=\"https://colab.research.google.com/assets/colab-badge.svg\" alt=\"Open in Colab\" title=\"Open and Execute in Google Colaboratory\"></a>"
   ]
  },
  {
   "cell_type": "markdown",
   "metadata": {},
   "source": [
    "Public APIs: https://github.com/public-apis/public-apis"
   ]
  },
  {
   "cell_type": "markdown",
   "metadata": {},
   "source": [
    "### Open Food Facts"
   ]
  },
  {
   "cell_type": "markdown",
   "metadata": {},
   "source": [
    "Бесплатная база данных о продуктах питания: https://ru.openfoodfacts.org/discover\n",
    "\n",
    "Для работы из Python потребуется установить модуль: https://github.com/openfoodfacts/openfoodfacts-python\n"
   ]
  },
  {
   "cell_type": "markdown",
   "metadata": {},
   "source": [
    "### { NASA APIs }"
   ]
  },
  {
   "cell_type": "markdown",
   "metadata": {},
   "source": [
    "Цель этого сайта - сделать данные NASA, включая изображения, доступными для разработчиков приложений: https://api.nasa.gov/\n",
    "\n",
    "Подробнее про API для получения фотографий планеты: https://epic.gsfc.nasa.gov/about/api"
   ]
  },
  {
   "cell_type": "code",
   "execution_count": 1,
   "metadata": {},
   "outputs": [
    {
     "data": {
      "text/plain": [
       "<Response [200]>"
      ]
     },
     "execution_count": 1,
     "metadata": {},
     "output_type": "execute_result"
    }
   ],
   "source": [
    "import requests  \n",
    "response = requests.get('https://epic.gsfc.nasa.gov/api/images.php?api_key=DEMO_KEY') \n",
    "response"
   ]
  },
  {
   "cell_type": "code",
   "execution_count": 2,
   "metadata": {},
   "outputs": [
    {
     "data": {
      "text/plain": [
       "'[{\"identifier\":\"20201106002712\",\"caption\":\"This image was taken by NASA\\'s EPIC camera onboard the NOAA DSCOVR spacecraft\",\"image\":\"epic_1b_20201106002712\",\"version\":\"03\",\"centroid_coordinates\":{\"lat\":-13.879395000000001,\"lon\":-179.509277},\"dscovr_j2000_position\":{\"x\":-889858.39479199995,\"y\":-1162409.2723670001,\"z\":-361887.31440099998},\"lunar_j2000_position\":{\"x\":-91402.531036,\"y\":345514.62225900003,\"z\":165277.48788199999},\"sun_j2000_position\":{\"x\":-107091320.621388,\"y\":-94106906.438708007,\"z\":-4'"
      ]
     },
     "execution_count": 2,
     "metadata": {},
     "output_type": "execute_result"
    }
   ],
   "source": [
    "response.text[:500]"
   ]
  },
  {
   "cell_type": "code",
   "execution_count": 3,
   "metadata": {
    "scrolled": true
   },
   "outputs": [
    {
     "data": {
      "text/plain": [
       "{'identifier': '20201106002712',\n",
       " 'caption': \"This image was taken by NASA's EPIC camera onboard the NOAA DSCOVR spacecraft\",\n",
       " 'image': 'epic_1b_20201106002712',\n",
       " 'version': '03',\n",
       " 'centroid_coordinates': {'lat': -13.879395, 'lon': -179.509277},\n",
       " 'dscovr_j2000_position': {'x': -889858.394792,\n",
       "  'y': -1162409.272367,\n",
       "  'z': -361887.314401},\n",
       " 'lunar_j2000_position': {'x': -91402.531036,\n",
       "  'y': 345514.622259,\n",
       "  'z': 165277.487882},\n",
       " 'sun_j2000_position': {'x': -107091320.621388,\n",
       "  'y': -94106906.438708,\n",
       "  'z': -40794552.448584},\n",
       " 'attitude_quaternions': {'q0': 0.600135,\n",
       "  'q1': 0.191454,\n",
       "  'q2': 0.410275,\n",
       "  'q3': 0.659435},\n",
       " 'date': '2020-11-06 00:22:23',\n",
       " 'coords': {'centroid_coordinates': {'lat': -13.879395, 'lon': -179.509277},\n",
       "  'dscovr_j2000_position': {'x': -889858.394792,\n",
       "   'y': -1162409.272367,\n",
       "   'z': -361887.314401},\n",
       "  'lunar_j2000_position': {'x': -91402.531036,\n",
       "   'y': 345514.622259,\n",
       "   'z': 165277.487882},\n",
       "  'sun_j2000_position': {'x': -107091320.621388,\n",
       "   'y': -94106906.438708,\n",
       "   'z': -40794552.448584},\n",
       "  'attitude_quaternions': {'q0': 0.600135,\n",
       "   'q1': 0.191454,\n",
       "   'q2': 0.410275,\n",
       "   'q3': 0.659435}}}"
      ]
     },
     "execution_count": 3,
     "metadata": {},
     "output_type": "execute_result"
    }
   ],
   "source": [
    "import json\n",
    "lst = json.loads(response.text)\n",
    "lst[0]"
   ]
  },
  {
   "cell_type": "code",
   "execution_count": 4,
   "metadata": {},
   "outputs": [
    {
     "data": {
      "text/plain": [
       "'https://epic.gsfc.nasa.gov/epic-archive/jpg/epic_1b_20201106002712.jpg'"
      ]
     },
     "execution_count": 4,
     "metadata": {},
     "output_type": "execute_result"
    }
   ],
   "source": [
    "pic = 'https://epic.gsfc.nasa.gov/epic-archive/jpg/' + lst[0]['image'] + '.jpg'\n",
    "pic"
   ]
  },
  {
   "cell_type": "code",
   "execution_count": 5,
   "metadata": {},
   "outputs": [
    {
     "data": {
      "text/html": [
       "<img src=\"https://epic.gsfc.nasa.gov/epic-archive/jpg/epic_1b_20201106002712.jpg\"/>"
      ],
      "text/plain": [
       "<IPython.core.display.Image object>"
      ]
     },
     "metadata": {},
     "output_type": "display_data"
    }
   ],
   "source": [
    "from IPython.display import Image\n",
    "# https://ipython.org/ipython-doc/3/api/generated/IPython.display.html\n",
    "\n",
    "display(Image(url=pic))"
   ]
  },
  {
   "cell_type": "code",
   "execution_count": null,
   "metadata": {},
   "outputs": [],
   "source": []
  }
 ],
 "metadata": {
  "kernelspec": {
   "display_name": "Python 3",
   "language": "python",
   "name": "python3"
  },
  "language_info": {
   "codemirror_mode": {
    "name": "ipython",
    "version": 3
   },
   "file_extension": ".py",
   "mimetype": "text/x-python",
   "name": "python",
   "nbconvert_exporter": "python",
   "pygments_lexer": "ipython3",
   "version": "3.8.3"
  }
 },
 "nbformat": 4,
 "nbformat_minor": 4
}
