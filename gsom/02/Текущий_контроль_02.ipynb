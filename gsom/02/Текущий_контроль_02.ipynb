{
 "cells": [
  {
   "cell_type": "markdown",
   "id": "current-boring",
   "metadata": {},
   "source": [
    "# Текущий контроль успеваемости 2"
   ]
  },
  {
   "cell_type": "markdown",
   "id": "coordinate-equity",
   "metadata": {},
   "source": [
    "<a href=\"https://colab.research.google.com/github/dm-fedorov/python_basic/blob/master/gsom/02/Текущий_контроль_02.ipynb\" target=\"_blank\"><img align=\"left\" src=\"https://colab.research.google.com/assets/colab-badge.svg\" alt=\"Open in Colab\" title=\"Open and Execute in Google Colaboratory\"></a>"
   ]
  },
  {
   "cell_type": "markdown",
   "id": "meaning-profile",
   "metadata": {},
   "source": [
    "Коллеги, поздравляю!\n",
    "\n",
    "Вы успешно справлись с первым испытанием, но расслабляться еще рано!\n",
    "\n",
    "В этом Блокноте вам предстоит решить несколько творческих заданий, связанных с проектированием и реализацией объектно-ориентированной программы!   \n",
    "\n",
    "Успехов!\n",
    "\n",
    "![](https://github.com/dm-fedorov/python_basic/blob/master/gsom/02/pic.png?raw=True)"
   ]
  },
  {
   "cell_type": "markdown",
   "id": "configured-academy",
   "metadata": {},
   "source": [
    "В сумме можно набрать `15 баллов`:\n",
    "\n",
    "1) `+2 балла` за оформление Блокнота: наличие комментариев в стиле Python (после `#`) или разметки [markdown](https://www.markdownguide.org/basic-syntax/)\n",
    "\n",
    "2) `+13 баллов` по сумме заданий\n",
    "\n",
    "3) если загружаете позже обозначенного срока, то `-3 балла`\n",
    "\n",
    "4) продолжаю надеяться на сознательность студентов ВШМ СПбГУ, что задания будут выполняться самостоятельно `:^)`. Полезнее задать вопрос преподавателю, чем бездумно списать решение у онлайн соседа."
   ]
  },
  {
   "cell_type": "markdown",
   "id": "fitted-market",
   "metadata": {},
   "source": [
    "## Задание 1 (5 баллов + 3 балла за доп.задание)\n",
    "\n",
    "Разработайте систему бронирования номеров в отеле.\n",
    "\n",
    "![](https://github.com/dm-fedorov/python_basic/blob/master/gsom/02/reception_1.jpg?raw=True)"
   ]
  },
  {
   "cell_type": "markdown",
   "id": "cubic-graph",
   "metadata": {},
   "source": [
    "Дополните следующий класс:"
   ]
  },
  {
   "cell_type": "code",
   "execution_count": 5,
   "id": "virgin-there",
   "metadata": {},
   "outputs": [
    {
     "name": "stdout",
     "output_type": "stream",
     "text": [
      "[0, 0, 0, 0, 0]\n",
      "[0, 0, 0, 1, 0]\n",
      "[0, 0, 0, 0, 0]\n"
     ]
    }
   ],
   "source": [
    "class Hotel:\n",
    "    def __init__(self, num_rooms):\n",
    "        self._rooms = [0 for _ in range(num_rooms)] # информация о статусе номеров\n",
    "    # метод для бронирования номера по уникальному значению в списке\n",
    "    def occypy(self, room_id):\n",
    "        self._rooms[room_id] = 1  # бронируем номер\n",
    "    # метод для освобождения номера по уникальному значению в списке\n",
    "    def free(self, room_id):\n",
    "        self._rooms[room_id] = 0  # освобождаем номер\n",
    "    \n",
    "hotel = Hotel(5) # в нашем отеле, например, 5 номеров\n",
    "print(hotel._rooms) # смотрим номера через атрибут self.rooms\n",
    "hotel.occypy(3)\n",
    "print(hotel._rooms)\n",
    "hotel.free(3)\n",
    "print(hotel._rooms)"
   ]
  },
  {
   "cell_type": "markdown",
   "id": "transparent-booth",
   "metadata": {},
   "source": [
    "**Задачи (в сумме 5 баллов):**\n",
    "- допишите метод `occypy`, чтобы он проверял занятость номера перед бронировнием: если номер занят, то генерируется исключение `RuntimeError`\n",
    "- напишите метод `__str__` для красивой печати списка номеров через вызов функции `print`\n",
    "- напишите метод, который занимает все *свободные* номера в отеле\n",
    "- напишите метод, который возвращает долю занятых номеров\n",
    "- напишите метод, который освобождает все занятые номера отеля\n",
    "- напишите метод, который возвращает выручку, исходя из занятости комнат (стоимость комнаты - 5 тыс. у.е.)\n",
    "- проверьте созданные методы через создание объектов и их вызов"
   ]
  },
  {
   "cell_type": "code",
   "execution_count": null,
   "id": "robust-copyright",
   "metadata": {},
   "outputs": [],
   "source": [
    "# здесь код"
   ]
  },
  {
   "cell_type": "markdown",
   "id": "inclusive-church",
   "metadata": {},
   "source": [
    "**Дополнительные задачи (в сумме +3 балла):**\n",
    "- вместо списка создайте словарь для хранения различных типов номеров (*SGL*, *DBL* и *Junior Suite*, *Suite*) и их занятости\n",
    "- у комнат разная стоимость (хранить ее можно в словаре)\n",
    "- измените методы, написанные раннее так, чтобы учесть новые особенности номеров (например, добавляется тип номера при бронировании)\n",
    "- проверьте созданные методы через создание объектов и их вызов"
   ]
  },
  {
   "cell_type": "code",
   "execution_count": null,
   "id": "twenty-veteran",
   "metadata": {},
   "outputs": [],
   "source": [
    "# здесь код"
   ]
  },
  {
   "cell_type": "markdown",
   "id": "entitled-arlington",
   "metadata": {},
   "source": [
    "## Задание 2 (5 баллов)\n",
    "\n",
    "В этом задании можно и нужно фантазировать `:-)`\n",
    "\n",
    "Провести объектно-ориентированный анализ задачи и определить объекты (создать классы с заданным поведением по аналогии с [кошкой](https://github.com/dm-fedorov/python3_intro/blob/master/lesson_11/class_cat_eat.log)), которые потребуется использовать:\n",
    "\n",
    "- создается текстовая компьютерная игра, поддерживающая одновременное управление несколькими персонажами (множество объектов);\n",
    "- каждый персонаж умеет бегать, стрелять и собирать предметы;\n",
    "- некоторые персонажи умеют летать (использовать наследование классов);\n",
    "- каждый тип действий сопровождается определенной анимацией (подсказка: [изменением координат](https://github.com/dm-fedorov/python3_intro/blob/master/lesson_11/my_shape.py));\n",
    "- собираемые предметы могут менять характеристики действий и соответствующую анимацию (например, вдвое ускорять или, наоборот, замедлять бег персонажа).\n",
    "\n",
    "![](https://github.com/dm-fedorov/python_basic/blob/master/gsom/02/fantasy_mini.jpg?raw=True)"
   ]
  },
  {
   "cell_type": "code",
   "execution_count": null,
   "id": "coral-batch",
   "metadata": {},
   "outputs": [],
   "source": [
    "# здесь код"
   ]
  },
  {
   "cell_type": "code",
   "execution_count": null,
   "id": "hearing-register",
   "metadata": {},
   "outputs": [],
   "source": []
  }
 ],
 "metadata": {
  "kernelspec": {
   "display_name": "Python 3",
   "language": "python",
   "name": "python3"
  },
  "language_info": {
   "codemirror_mode": {
    "name": "ipython",
    "version": 3
   },
   "file_extension": ".py",
   "mimetype": "text/x-python",
   "name": "python",
   "nbconvert_exporter": "python",
   "pygments_lexer": "ipython3",
   "version": "3.8.2"
  }
 },
 "nbformat": 4,
 "nbformat_minor": 5
}
