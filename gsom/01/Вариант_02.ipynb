{
 "cells": [
  {
   "cell_type": "markdown",
   "id": "decent-bread",
   "metadata": {},
   "source": [
    "# Текущий контроль успеваемости, вариант 02"
   ]
  },
  {
   "cell_type": "markdown",
   "id": "obvious-outside",
   "metadata": {},
   "source": [
    "<a href=\"https://colab.research.google.com/github/dm-fedorov/python_basic/blob/master/gsom/01/Вариант_02.ipynb\" target=\"_blank\"><img align=\"left\" src=\"https://colab.research.google.com/assets/colab-badge.svg\" alt=\"Open in Colab\" title=\"Open and Execute in Google Colaboratory\"></a>"
   ]
  },
  {
   "cell_type": "markdown",
   "id": "right-course",
   "metadata": {},
   "source": [
    "Здравствуйте, коллеги! \n",
    "\n",
    "Настала пора проверки накопленных знаний, ведь знания без практики быстро забываются! \n",
    "\n",
    "В этом Блокноте вам предстоит решить несколько заданий и пройти путь от новичка до джедая программирования. \n",
    "\n",
    "Успехов!\n",
    "\n",
    "![](https://imgs.xkcd.com/comics/python.png)"
   ]
  },
  {
   "cell_type": "markdown",
   "id": "saved-works",
   "metadata": {},
   "source": [
    "В сумме можно набрать `10 баллов`:\n",
    "\n",
    "1) `+2 балла` за оформление Блокнота: наличие комментариев в стиле Python (после `#`) или разметки [markdown](https://www.markdownguide.org/basic-syntax/)\n",
    "\n",
    "2) `+8 баллов` по сумме заданий\n",
    "\n",
    "3) если загружаете позже обозначенного срока, то `-3 балла`\n",
    "\n",
    "4) уверен в вашей сознательности и желании научиться программировать, поэтому надеюсь, что задания будут выполняться самостоятельно `:^)`. Помните, что любой обман в обучении - это, прежде всего, самообман. "
   ]
  },
  {
   "cell_type": "markdown",
   "id": "canadian-knight",
   "metadata": {},
   "source": [
    "## Задание 1 (2 балла), начальный уровень\n",
    "\n",
    "В файле [razvodi.stat](https://raw.githubusercontent.com/dm-fedorov/python_basic/master/data/razvodi.stat) представлена статистика разводов в РФ с `1950` по `2018` годы.\n",
    "\n",
    "Определите с помощью *стандартных модулей Python*, в какой год были максимальные и минимальные значения показателей.\n",
    "\n",
    "Выполните обработку ошибок в программе.\n",
    "\n",
    "Постройте график. "
   ]
  },
  {
   "cell_type": "code",
   "execution_count": null,
   "id": "gentle-taxation",
   "metadata": {},
   "outputs": [],
   "source": [
    "# здесь код"
   ]
  },
  {
   "cell_type": "markdown",
   "id": "processed-garage",
   "metadata": {},
   "source": [
    "## Задание 2 (2 балла), начальный уровень\n",
    "\n",
    "Напишите программу, которая моделирует игрушку, предсказывающую будущее: дает случайный ответ на общий вопрос, требующий ответа \"да\" или \"нет\". \n",
    "\n",
    "Файл с ответами: [responses.txt](https://raw.githubusercontent.com/dm-fedorov/python_basic/master/data/responses.txt). \n",
    "\n",
    "Программа должна предложить пользователю задать вопрос и затем показать один из ответов, отобранных из файла случайным образом. \n",
    "\n",
    "Программа должна продолжать работу до тех пор, пока пользователь не будет готов из нее выйти. \n",
    "\n",
    "Выполните обработку ошибок в программе."
   ]
  },
  {
   "cell_type": "code",
   "execution_count": null,
   "id": "periodic-protection",
   "metadata": {},
   "outputs": [],
   "source": [
    "# здесь код"
   ]
  },
  {
   "cell_type": "markdown",
   "id": "second-caution",
   "metadata": {},
   "source": [
    "## Задание 3 (4 балла), джедай программирования\n",
    "\n",
    "Данные от [Сбера](http://www.sberbank.com/ru/analytics/opendata) для анализа представлены в файле [opendata.csv](https://raw.githubusercontent.com/dm-fedorov/python_basic/master/data/opendata.stat).\n",
    "\n",
    "Определите с помощью *стандартных модулей Python* среднюю пенсию в Забайкальском крае за 2018 год.\n",
    "\n",
    "Выполните обработку ошибок в программе.\n",
    "\n",
    "Постройте график изменения пенсии за 2018 год в Забайкальском крае. "
   ]
  },
  {
   "cell_type": "code",
   "execution_count": null,
   "id": "monetary-commercial",
   "metadata": {},
   "outputs": [],
   "source": [
    "# здесь код"
   ]
  }
 ],
 "metadata": {
  "kernelspec": {
   "display_name": "Python 3",
   "language": "python",
   "name": "python3"
  },
  "language_info": {
   "codemirror_mode": {
    "name": "ipython",
    "version": 3
   },
   "file_extension": ".py",
   "mimetype": "text/x-python",
   "name": "python",
   "nbconvert_exporter": "python",
   "pygments_lexer": "ipython3",
   "version": "3.8.2"
  }
 },
 "nbformat": 4,
 "nbformat_minor": 5
}
