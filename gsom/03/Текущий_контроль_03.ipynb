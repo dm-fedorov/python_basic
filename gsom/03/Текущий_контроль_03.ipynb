{
 "cells": [
  {
   "cell_type": "markdown",
   "id": "sufficient-henry",
   "metadata": {},
   "source": [
    "# Текущий контроль успеваемости 3"
   ]
  },
  {
   "cell_type": "markdown",
   "id": "soviet-spencer",
   "metadata": {},
   "source": [
    "<a href=\"https://colab.research.google.com/github/dm-fedorov/python_basic/blob/master/gsom/03/Текущий_контроль_03.ipynb\" target=\"_blank\"><img align=\"left\" src=\"https://colab.research.google.com/assets/colab-badge.svg\" alt=\"Open in Colab\" title=\"Open and Execute in Google Colaboratory\"></a>"
   ]
  },
  {
   "cell_type": "markdown",
   "id": "severe-router",
   "metadata": {},
   "source": [
    "Нас всюду окружает текст.\n",
    "\n",
    "В этом Блокноте вам предстоит погрузиться в мир настоящего анализа текстовых данных. \n",
    "\n",
    "Успехов в этом интересном деле!"
   ]
  },
  {
   "cell_type": "markdown",
   "id": "likely-angle",
   "metadata": {},
   "source": [
    "В сумме можно набрать `15 баллов`:\n",
    "\n",
    "1) `+2 балла` за оформление Блокнота: наличие комментариев в стиле Python (после `#`) или разметки [markdown](https://www.markdownguide.org/basic-syntax/)\n",
    "\n",
    "2) `+13 баллов` по сумме заданий\n",
    "\n",
    "3) если загружаете позже обозначенного срока, то `-3 балла`\n",
    "\n",
    "4) здесь напоминаю про самостоятельное выполнение работы, но вы и так это знаете."
   ]
  },
  {
   "cell_type": "markdown",
   "id": "endangered-uncle",
   "metadata": {},
   "source": [
    "## Задание 1 (5 балла), средний уровень\n",
    "\n",
    "Разработайте собственный класс для работы с файлами.\n",
    "\n",
    "Интерфейс работы с классом имеет следующий вид:\n",
    "\n",
    "```Python\n",
    "file = MyFile(\"text.txt\", \"read\")\n",
    "text = file.read() # происходит чтение в виде str\n",
    "print(text)\n",
    "\n",
    "file = MyFile(\"text.txt\", \"write\")\n",
    "text = file.write(\"привет!\") # происходит запись строки в файл\n",
    "\n",
    "file = MyFile(\"text.txt\", \"append\")\n",
    "text = file.write(\"привет!\") # происходит добавление строки в конец файла\n",
    "\n",
    "# указали URL\n",
    "file = MyFile(\"https://blog.dfedorov.spb.ru\", \"url\") \n",
    "# и может читать содержимое страницы по указанному URL\n",
    "text = file.read_url() # происходит чтение в виде str\n",
    "print(text)\n",
    "\n",
    "# возвращает кол-во url адресов на странице \n",
    "count = file.count_urls()\n",
    "print(count)\n",
    "\n",
    "# происходит запись содержимого страницы по URL в указанный файл\n",
    "file.write_url(\"text.txt\") \n",
    "```\n",
    "\n",
    "Выполните обработку возможных ошибок."
   ]
  },
  {
   "cell_type": "code",
   "execution_count": null,
   "id": "yellow-robert",
   "metadata": {},
   "outputs": [],
   "source": [
    "# здесь код"
   ]
  },
  {
   "cell_type": "markdown",
   "id": "buried-turtle",
   "metadata": {},
   "source": [
    "## Задание 2 (5 баллов), средний уровень\n",
    "\n",
    "1) Исследовать эмоциональную окраску новостей в России (рекомендую модули `feedparser` и `textblob`). \n",
    "\n",
    "2) Определите наиболее часто встречающиеся слова в тексте новости за выбранный период (рекомендую модуль `pymorphy2`, использовать [начальную форму](https://pymorphy2.readthedocs.io/en/stable/user/guide.html#normalization) и [убрать союзы](https://pymorphy2.readthedocs.io/en/stable/user/grammemes.html) / в качестве альтернативы можно использовать [модуль nltk](https://habr.com/ru/post/517410/)).\n",
    "\n",
    "3) Постройте график распределения слов (рекомендую модуль [word_cloud](https://github.com/amueller/word_cloud))"
   ]
  },
  {
   "cell_type": "code",
   "execution_count": null,
   "id": "relevant-headquarters",
   "metadata": {},
   "outputs": [],
   "source": [
    "# здесь код"
   ]
  },
  {
   "cell_type": "markdown",
   "id": "stone-purpose",
   "metadata": {},
   "source": [
    "## Задание 3 (3 балла), hard уровень\n",
    "\n",
    "Для [файла](http://dfedorov.spb.ru/python3/forecast.html), расположенного в сети Интернет, напишите программу с использованием модуля `Beautiful Soup`, которая извлекает данные из HTML-страницы и сохраняет их в файле формата CSV (подсказка [тут](https://colab.research.google.com/github/dm-fedorov/python_basic/blob/master/task_parsing_html.ipynb))."
   ]
  },
  {
   "cell_type": "code",
   "execution_count": null,
   "id": "christian-algebra",
   "metadata": {},
   "outputs": [],
   "source": [
    "# здесь код"
   ]
  }
 ],
 "metadata": {
  "kernelspec": {
   "display_name": "Python 3",
   "language": "python",
   "name": "python3"
  },
  "language_info": {
   "codemirror_mode": {
    "name": "ipython",
    "version": 3
   },
   "file_extension": ".py",
   "mimetype": "text/x-python",
   "name": "python",
   "nbconvert_exporter": "python",
   "pygments_lexer": "ipython3",
   "version": "3.8.2"
  }
 },
 "nbformat": 4,
 "nbformat_minor": 5
}
